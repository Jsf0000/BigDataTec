{
 "cells": [
  {
   "cell_type": "markdown",
   "metadata": {},
   "source": [
    "Estudiante - Jason Solano"
   ]
  },
  {
   "cell_type": "markdown",
   "metadata": {},
   "source": [
    "Comenzamos con la importación de librerías y demás parámetros necesarios..."
   ]
  },
  {
   "cell_type": "code",
   "execution_count": 1,
   "metadata": {},
   "outputs": [],
   "source": [
    "from pyspark.sql import SparkSession\n",
    "\n",
    "spark=SparkSession.builder.appName('data_processing').getOrCreate()\n",
    "\n",
    "import pyspark.sql.functions as F\n",
    "from pyspark.sql.types import *"
   ]
  },
  {
   "cell_type": "markdown",
   "metadata": {},
   "source": [
    "Nombre de la estructura o base de datos dentro del appName"
   ]
  },
  {
   "cell_type": "code",
   "execution_count": 140,
   "metadata": {},
   "outputs": [],
   "source": [
    "import findspark\n",
    "findspark.init('/opt/spark')\n",
    "\n",
    "from datetime import datetime\n",
    "from pyspark.sql import SparkSession\n",
    "from pyspark.sql.functions import col, date_format, udf \n",
    "from pyspark.sql.types import DateType\n",
    "from pyspark import SparkConf                                                                                                                 \n",
    "from pyspark.context import SparkContext                                                                                                      \n",
    "from pyspark.sql import SparkSession, SQLContext\n",
    "from pyspark.sql import SparkSession, functions as F \n"
   ]
  },
  {
   "cell_type": "markdown",
   "metadata": {},
   "source": [
    "Leemos el archivo "
   ]
  },
  {
   "cell_type": "code",
   "execution_count": 48,
   "metadata": {},
   "outputs": [],
   "source": [
    "df = spark.read.csv('AB_NYC_2019.csv',header=True, inferSchema =True)"
   ]
  },
  {
   "cell_type": "code",
   "execution_count": 49,
   "metadata": {},
   "outputs": [
    {
     "name": "stdout",
     "output_type": "stream",
     "text": [
      "root\n",
      " |-- id: string (nullable = true)\n",
      " |-- name: string (nullable = true)\n",
      " |-- host_id: string (nullable = true)\n",
      " |-- host_name: string (nullable = true)\n",
      " |-- neighbourhood_group: string (nullable = true)\n",
      " |-- neighbourhood: string (nullable = true)\n",
      " |-- latitude: string (nullable = true)\n",
      " |-- longitude: string (nullable = true)\n",
      " |-- room_type: string (nullable = true)\n",
      " |-- price: string (nullable = true)\n",
      " |-- minimum_nights: string (nullable = true)\n",
      " |-- number_of_reviews: string (nullable = true)\n",
      " |-- last_review: string (nullable = true)\n",
      " |-- reviews_per_month: string (nullable = true)\n",
      " |-- calculated_host_listings_count: string (nullable = true)\n",
      " |-- availability_365: integer (nullable = true)\n",
      "\n"
     ]
    }
   ],
   "source": [
    "df.printSchema()"
   ]
  },
  {
   "cell_type": "markdown",
   "metadata": {},
   "source": [
    "El dataset trata de habitaciones o apartamentos disponibles en airbnb para el estado de New York"
   ]
  },
  {
   "cell_type": "markdown",
   "metadata": {},
   "source": [
    "**Operaciones especiales**\n",
    "\n",
    "De acuerdo al profesor deben haber al menos 3"
   ]
  },
  {
   "cell_type": "markdown",
   "metadata": {},
   "source": [
    "1) Convertir formatos en columnas"
   ]
  },
  {
   "cell_type": "markdown",
   "metadata": {},
   "source": [
    "El problema es que la columna price esta en string, para facilitar las operaciones es necesario convertir dicha columna a formato integer"
   ]
  },
  {
   "cell_type": "code",
   "execution_count": 54,
   "metadata": {},
   "outputs": [],
   "source": [
    "changedTypedf = df.withColumn(\"price\", df[\"price\"].cast(IntegerType()))\n"
   ]
  },
  {
   "cell_type": "code",
   "execution_count": 94,
   "metadata": {},
   "outputs": [],
   "source": [
    "changedTypedf = df.withColumn(\"number_of_reviews\", df[\"number_of_reviews\"].cast(IntegerType()))"
   ]
  },
  {
   "cell_type": "code",
   "execution_count": 131,
   "metadata": {},
   "outputs": [],
   "source": [
    "changedTypedf = df.withColumn(\"reviews_per_month\", df[\"reviews_per_month\"].cast(IntegerType()))"
   ]
  },
  {
   "cell_type": "code",
   "execution_count": 132,
   "metadata": {},
   "outputs": [
    {
     "name": "stdout",
     "output_type": "stream",
     "text": [
      "root\n",
      " |-- id: string (nullable = true)\n",
      " |-- name: string (nullable = true)\n",
      " |-- host_id: string (nullable = true)\n",
      " |-- host_name: string (nullable = true)\n",
      " |-- neighbourhood_group: string (nullable = true)\n",
      " |-- neighbourhood: string (nullable = true)\n",
      " |-- latitude: string (nullable = true)\n",
      " |-- longitude: string (nullable = true)\n",
      " |-- room_type: string (nullable = true)\n",
      " |-- price: integer (nullable = true)\n",
      " |-- minimum_nights: string (nullable = true)\n",
      " |-- number_of_reviews: integer (nullable = true)\n",
      " |-- last_review: string (nullable = true)\n",
      " |-- reviews_per_month: integer (nullable = true)\n",
      " |-- calculated_host_listings_count: string (nullable = true)\n",
      " |-- availability_365: integer (nullable = true)\n",
      "\n"
     ]
    }
   ],
   "source": [
    "changedTypedf.printSchema()\n",
    "df = changedTypedf"
   ]
  },
  {
   "cell_type": "code",
   "execution_count": 96,
   "metadata": {},
   "outputs": [
    {
     "name": "stdout",
     "output_type": "stream",
     "text": [
      "root\n",
      " |-- id: string (nullable = true)\n",
      " |-- name: string (nullable = true)\n",
      " |-- host_id: string (nullable = true)\n",
      " |-- host_name: string (nullable = true)\n",
      " |-- neighbourhood_group: string (nullable = true)\n",
      " |-- neighbourhood: string (nullable = true)\n",
      " |-- latitude: string (nullable = true)\n",
      " |-- longitude: string (nullable = true)\n",
      " |-- room_type: string (nullable = true)\n",
      " |-- price: integer (nullable = true)\n",
      " |-- minimum_nights: string (nullable = true)\n",
      " |-- number_of_reviews: integer (nullable = true)\n",
      " |-- last_review: string (nullable = true)\n",
      " |-- reviews_per_month: string (nullable = true)\n",
      " |-- calculated_host_listings_count: string (nullable = true)\n",
      " |-- availability_365: integer (nullable = true)\n",
      "\n"
     ]
    }
   ],
   "source": [
    "df.printSchema()"
   ]
  },
  {
   "cell_type": "markdown",
   "metadata": {},
   "source": [
    "2) sort command"
   ]
  },
  {
   "cell_type": "markdown",
   "metadata": {},
   "source": [
    "Muchas veces se requiere ordenar la información, como el siguiente caso donde ordenamos el count, para observar el precio mas común en el dataset de airbnb"
   ]
  },
  {
   "cell_type": "code",
   "execution_count": 69,
   "metadata": {},
   "outputs": [
    {
     "name": "stdout",
     "output_type": "stream",
     "text": [
      "+-----+-----+\n",
      "|price|count|\n",
      "+-----+-----+\n",
      "|  100| 2047|\n",
      "|  150| 2042|\n",
      "|   50| 1529|\n",
      "|   60| 1455|\n",
      "|  200| 1400|\n",
      "|   75| 1365|\n",
      "|   80| 1271|\n",
      "|   65| 1182|\n",
      "|   70| 1167|\n",
      "|  120| 1125|\n",
      "|  125| 1056|\n",
      "|   90| 1021|\n",
      "|  250| 1015|\n",
      "|   55|  944|\n",
      "|   45|  886|\n",
      "|   85|  876|\n",
      "|   40|  769|\n",
      "|  175|  761|\n",
      "|   99|  738|\n",
      "|  110|  737|\n",
      "+-----+-----+\n",
      "only showing top 20 rows\n",
      "\n"
     ]
    }
   ],
   "source": [
    "changedTypedf.groupBy('price').count().sort(col(\"count\").desc()).show()"
   ]
  },
  {
   "cell_type": "markdown",
   "metadata": {},
   "source": [
    "3) Uso de exprecciones regulares"
   ]
  },
  {
   "cell_type": "markdown",
   "metadata": {},
   "source": [
    "Usamos el comando like, para filtar todas los neighbourhood que contienen un digito"
   ]
  },
  {
   "cell_type": "code",
   "execution_count": 163,
   "metadata": {},
   "outputs": [
    {
     "name": "stdout",
     "output_type": "stream",
     "text": [
      "+-----+--------------------+-------+---------------+-------------------+--------------------+--------+---------+---------------+-----+--------------+-----------------+-----------+-----------------+------------------------------+----------------+\n",
      "|   id|                name|host_id|      host_name|neighbourhood_group|       neighbourhood|latitude|longitude|      room_type|price|minimum_nights|number_of_reviews|last_review|reviews_per_month|calculated_host_listings_count|availability_365|\n",
      "+-----+--------------------+-------+---------------+-------------------+--------------------+--------+---------+---------------+-----+--------------+-----------------+-----------+-----------------+------------------------------+----------------+\n",
      "| 2595|Skylit Midtown Ca...|   2845|       Jennifer|          Manhattan|             Midtown|40.75362|-73.98377|Entire home/apt|  225|             1|               45| 2019-05-21|                0|                             2|             355|\n",
      "| 5121|     BlissArtsSpace!|   7356|          Garon|           Brooklyn|  Bedford-Stuyvesant|40.68688|-73.95596|   Private room|   60|            45|               49| 2017-10-05|                0|                             1|               0|\n",
      "| 5203|Cozy Clean Guest ...|   7490|      MaryEllen|          Manhattan|     Upper West Side|40.80178|-73.96723|   Private room|   79|             2|              118| 2017-07-21|                0|                             1|               0|\n",
      "| 5295|Beautiful 1br on ...|   7702|           Lena|          Manhattan|     Upper West Side|40.80316|-73.96545|Entire home/apt|  135|             5|               53| 2019-06-22|                0|                             1|               6|\n",
      "| 6021|Wonderful Guest B...|  11528|        Claudio|          Manhattan|     Upper West Side|40.79826|-73.96113|   Private room|   85|             2|              113| 2019-07-05|                0|                             1|             333|\n",
      "| 8490|MAISON DES SIRENE...|  25183|       Nathalie|           Brooklyn|  Bedford-Stuyvesant|40.68371|-73.94028|Entire home/apt|  120|             2|               88| 2019-06-19|                0|                             2|             233|\n",
      "| 8505|Sunny Bedroom Acr...|  25326|        Gregory|           Brooklyn|     Windsor Terrace|40.65599|-73.97519|   Private room|   60|             1|               19| 2019-06-23|                1|                             2|              85|\n",
      "| 8700|Magnifique Suite ...|  26394|Claude & Sophie|          Manhattan|              Inwood|40.86754|-73.92639|   Private room|   80|             4|                0|       null|             null|                             1|               0|\n",
      "| 9518|SPACIOUS, LOVELY ...|  31374|           Shon|          Manhattan|              Inwood|40.86482|-73.92106|   Private room|   44|             3|              108| 2019-06-15|                1|                             3|             311|\n",
      "|10452|Large B&B Style r...|  35935|         Angela|           Brooklyn|  Bedford-Stuyvesant| 40.6831|-73.95473|   Private room|   70|             1|               74| 2019-05-12|                0|                             2|             269|\n",
      "|11452|Clean and Quiet i...|   7355|             Vt|           Brooklyn|  Bedford-Stuyvesant|40.68876|-73.94312|   Private room|   35|            60|                0|       null|             null|                             1|             365|\n",
      "|12048|LowerEastSide apt...|   7549|            Ben|          Manhattan|     Lower East Side|40.71401|-73.98917|    Shared room|   40|             1|              214| 2019-07-05|                1|                             4|             188|\n",
      "|12318|   West Side Retreat|  16800|            Cyn|          Manhattan|     Upper West Side|40.79009|-73.97927|   Private room|  135|             4|               81| 2019-06-16|                0|                             1|             273|\n",
      "|12627|Entire apartment ...|  49670|           Rana|           Brooklyn|Prospect-Lefferts...|40.65944|-73.96238|Entire home/apt|  150|            29|               11| 2019-06-05|                0|                             1|              95|\n",
      "|12937|1 Stop fr. Manhat...|  50124|        Orestes|             Queens|    Long Island City|40.74771| -73.9474|   Private room|  130|             3|              248| 2019-07-01|                2|                             1|             215|\n",
      "|12940|Charming Brownsto...|  50148|       Adreinne|           Brooklyn|  Bedford-Stuyvesant|40.68111|-73.95591|Entire home/apt|  110|             7|               61| 2019-05-25|                0|                             1|             265|\n",
      "|13050|bright and stylis...|  50846|       Jennifer|           Brooklyn|  Bedford-Stuyvesant|40.68554| -73.9409|Entire home/apt|  115|             3|               11| 2017-01-01|                0|                             1|               0|\n",
      "|13808|Blue Room for 2 i...|  54275| JT And Tiziana|           Brooklyn|  Bedford-Stuyvesant|40.68043|-73.93934|   Private room|   80|             1|              112| 2019-06-16|                1|                             3|             251|\n",
      "|14287|Cozy 1BD on Centr...|  56094|           Joya|          Manhattan|     Upper West Side|40.78635|-73.97008|Entire home/apt|  151|             2|               73| 2019-07-07|                0|                             1|             302|\n",
      "|14991|Great Location, M...|  59023|         Bianca|          Manhattan|     Lower East Side|40.72004|-73.99104|   Private room|  110|             5|               19| 2019-05-18|                0|                             1|             301|\n",
      "+-----+--------------------+-------+---------------+-------------------+--------------------+--------+---------+---------------+-----+--------------+-----------------+-----------+-----------------+------------------------------+----------------+\n",
      "only showing top 20 rows\n",
      "\n"
     ]
    }
   ],
   "source": [
    "df.where(col('neighbourhood').like(\"%d%\")).show()"
   ]
  },
  {
   "cell_type": "markdown",
   "metadata": {},
   "source": [
    "**Operaciones insight**\n",
    "\n",
    "De acuerdo al profesor deben haber al menos 5"
   ]
  },
  {
   "cell_type": "markdown",
   "metadata": {},
   "source": [
    "1) Analicemos la cantidad de reviews de acorde a la cantidad al precio mas popular con la "
   ]
  },
  {
   "cell_type": "code",
   "execution_count": 112,
   "metadata": {},
   "outputs": [
    {
     "data": {
      "text/plain": [
       "1517"
      ]
     },
     "execution_count": 112,
     "metadata": {},
     "output_type": "execute_result"
    }
   ],
   "source": [
    "df.filter((df['price'] == 100) & (df['number_of_reviews'] > 0)).count()"
   ]
  },
  {
   "cell_type": "code",
   "execution_count": 114,
   "metadata": {},
   "outputs": [
    {
     "data": {
      "text/plain": [
       "919"
      ]
     },
     "execution_count": 114,
     "metadata": {},
     "output_type": "execute_result"
    }
   ],
   "source": [
    "df.filter((df['price'] == 120) & (df['number_of_reviews'] > 0)).count()"
   ]
  },
  {
   "cell_type": "markdown",
   "metadata": {},
   "source": [
    "Por lo cual podemos observar que los hots que cobran 100 dolares que es el precio mas común, tienen mas reviees que la mediana de los 20 datos mostrados en la consulta anterior. "
   ]
  },
  {
   "cell_type": "markdown",
   "metadata": {},
   "source": [
    "2) Ahora veamos los precios con mayor cantidad de reviews"
   ]
  },
  {
   "cell_type": "code",
   "execution_count": 124,
   "metadata": {},
   "outputs": [
    {
     "name": "stdout",
     "output_type": "stream",
     "text": [
      "+-----+-----------------+\n",
      "|price|number_of_reviews|\n",
      "+-----+-----------------+\n",
      "|   47|              629|\n",
      "|   49|              607|\n",
      "|   49|              597|\n",
      "|   49|              594|\n",
      "|   47|              576|\n",
      "|   46|              543|\n",
      "|   99|              540|\n",
      "|   48|              510|\n",
      "|  160|              488|\n",
      "|   60|              480|\n",
      "|   55|              474|\n",
      "|  120|              467|\n",
      "|   65|              466|\n",
      "|   45|              459|\n",
      "|   60|              458|\n",
      "|   39|              454|\n",
      "|   72|              451|\n",
      "|   45|              448|\n",
      "|  575|              447|\n",
      "|   99|              441|\n",
      "+-----+-----------------+\n",
      "only showing top 20 rows\n",
      "\n"
     ]
    }
   ],
   "source": [
    "df.select(['price','number_of_reviews']).sort(col(\"number_of_reviews\").desc()).show()"
   ]
  },
  {
   "cell_type": "markdown",
   "metadata": {},
   "source": [
    "Se puede interpretar que precios menores a 100 dolares tienden a tener menor cantidad de reviews"
   ]
  },
  {
   "cell_type": "markdown",
   "metadata": {},
   "source": [
    "3) Veamos los barrios que tienen los precios mas caros"
   ]
  },
  {
   "cell_type": "code",
   "execution_count": 125,
   "metadata": {},
   "outputs": [
    {
     "name": "stdout",
     "output_type": "stream",
     "text": [
      "+-----+-----------------+\n",
      "|price|    neighbourhood|\n",
      "+-----+-----------------+\n",
      "|10000|          Astoria|\n",
      "|10000|  Upper West Side|\n",
      "|10000|       Greenpoint|\n",
      "| 9999|  Lower East Side|\n",
      "| 9999|  Lower East Side|\n",
      "| 9999|      East Harlem|\n",
      "| 8500|          Tribeca|\n",
      "| 8000|     Clinton Hill|\n",
      "| 7703|  Upper East Side|\n",
      "| 7500|Battery Park City|\n",
      "| 7500|    East Flatbush|\n",
      "| 6800|          Chelsea|\n",
      "| 6500|     Clinton Hill|\n",
      "| 6500|          Tribeca|\n",
      "| 6419|  Upper East Side|\n",
      "| 6000|  Upper West Side|\n",
      "| 6000|Greenwich Village|\n",
      "| 5250|     Little Italy|\n",
      "| 5100|          Midtown|\n",
      "| 5000|    Randall Manor|\n",
      "+-----+-----------------+\n",
      "only showing top 20 rows\n",
      "\n"
     ]
    }
   ],
   "source": [
    "df.select(['price','neighbourhood']).sort(col(\"price\").desc()).show()"
   ]
  },
  {
   "cell_type": "markdown",
   "metadata": {},
   "source": [
    "4) Ahora veamos cual es la media de precio mas alta para cada barrio"
   ]
  },
  {
   "cell_type": "code",
   "execution_count": 130,
   "metadata": {},
   "outputs": [
    {
     "name": "stdout",
     "output_type": "stream",
     "text": [
      "+------------------+------------------+\n",
      "|     neighbourhood|        avg(price)|\n",
      "+------------------+------------------+\n",
      "|    Fort Wadsworth|             800.0|\n",
      "|           Woodrow|             700.0|\n",
      "|          Sea Gate| 548.3333333333334|\n",
      "|           Tribeca|  490.638418079096|\n",
      "|         Riverdale|442.09090909090907|\n",
      "|      Prince's Bay|             409.5|\n",
      "| Battery Park City| 367.5571428571429|\n",
      "|     Randall Manor|352.94444444444446|\n",
      "| Flatiron District|           341.925|\n",
      "|              NoHo|297.85526315789474|\n",
      "|              SoHo| 287.2773109243698|\n",
      "|           Midtown| 282.7839065541856|\n",
      "|          Neponsit| 274.6666666666667|\n",
      "|      West Village| 267.6958224543081|\n",
      "| Greenwich Village| 263.3205128205128|\n",
      "|           Chelsea| 249.7785778577858|\n",
      "|       Willowbrook|             249.0|\n",
      "|  Theater District|248.01388888888889|\n",
      "|            Nolita|230.13833992094862|\n",
      "|Financial District|225.49059139784947|\n",
      "+------------------+------------------+\n",
      "only showing top 20 rows\n",
      "\n"
     ]
    }
   ],
   "source": [
    "df.groupBy('neighbourhood').agg(F.mean('price')).sort(col('avg(price)').desc()).show()"
   ]
  },
  {
   "cell_type": "markdown",
   "metadata": {},
   "source": [
    "De forma curiosa vemos que los barrios\n",
    "\n",
    "|10000|          Astoria|\n",
    "\n",
    "|10000|  Upper West Side|\n",
    "\n",
    "|10000|       Greenpoint\n",
    "\n",
    "que tienen las rentas mas altas, no estan con las medias mas altas"
   ]
  },
  {
   "cell_type": "markdown",
   "metadata": {},
   "source": [
    "5) Veamos la realacion entre reviews por mes para los barrios"
   ]
  },
  {
   "cell_type": "code",
   "execution_count": 134,
   "metadata": {},
   "outputs": [
    {
     "name": "stdout",
     "output_type": "stream",
     "text": [
      "+-----+----------------------+\n",
      "|price|avg(reviews_per_month)|\n",
      "+-----+----------------------+\n",
      "|  539|                   7.0|\n",
      "|  515|                   6.0|\n",
      "| 7500|                   6.0|\n",
      "|  336|                   5.0|\n",
      "|   13|                   5.0|\n",
      "|  323|                   5.0|\n",
      "|  442|                   4.0|\n",
      "|  843|                   4.0|\n",
      "|  443|                   4.0|\n",
      "| 2990|                   4.0|\n",
      "|  692|                   4.0|\n",
      "|  474|                   4.0|\n",
      "|  313|                   4.0|\n",
      "|  945|                   3.5|\n",
      "|  412|                   3.5|\n",
      "|    1|     3.482142857142857|\n",
      "|  294|    3.3333333333333335|\n",
      "|  201|                 3.125|\n",
      "|    5|                   3.0|\n",
      "|  347|                   3.0|\n",
      "+-----+----------------------+\n",
      "only showing top 20 rows\n",
      "\n"
     ]
    }
   ],
   "source": [
    "df.groupBy('price').agg(F.mean('reviews_per_month')).sort(col('avg(reviews_per_month)').desc()).show()"
   ]
  },
  {
   "cell_type": "markdown",
   "metadata": {},
   "source": [
    "De forma curiosa se puede observar que se reciben mas revies por mes en precios mayores a 100 dolares"
   ]
  },
  {
   "cell_type": "code",
   "execution_count": null,
   "metadata": {},
   "outputs": [],
   "source": []
  }
 ],
 "metadata": {
  "kernelspec": {
   "display_name": "Python 3",
   "language": "python",
   "name": "python3"
  },
  "language_info": {
   "codemirror_mode": {
    "name": "ipython",
    "version": 3
   },
   "file_extension": ".py",
   "mimetype": "text/x-python",
   "name": "python",
   "nbconvert_exporter": "python",
   "pygments_lexer": "ipython3",
   "version": "3.6.9"
  }
 },
 "nbformat": 4,
 "nbformat_minor": 2
}
