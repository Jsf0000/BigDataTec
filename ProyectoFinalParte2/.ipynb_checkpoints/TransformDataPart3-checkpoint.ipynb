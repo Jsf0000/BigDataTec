{
 "cells": [
  {
   "cell_type": "markdown",
   "metadata": {},
   "source": [
    "Importamos las librerias necesarias"
   ]
  },
  {
   "cell_type": "code",
   "execution_count": 1,
   "metadata": {},
   "outputs": [],
   "source": [
    "import findspark\n",
    "findspark.init('/opt/spark')\n",
    "\n",
    "from datetime import datetime\n",
    "from pyspark.sql import SparkSession\n",
    "from pyspark.sql.functions import col, date_format, udf \n",
    "from pyspark.sql.types import DateType\n",
    "from pyspark.sql import Window\n",
    "import pyspark.sql.functions as F\n",
    "import numpy as np\n",
    "from pyspark.ml.feature import MinMaxScaler\n",
    "from pyspark.ml.feature import VectorAssembler\n",
    "from pyspark.ml import Pipeline\n",
    "from pyspark.sql.functions import udf\n",
    "from pyspark.sql.types import DoubleType\n",
    "from pyspark.ml.feature import OneHotEncoder, StringIndexer, VectorAssembler\n",
    "import time\n",
    "\n",
    "\n",
    "#path del archivo postgresql-42.1.4.jar\n",
    "dir = \"/Users/jasonsolano/Documents/BigData/BigDataTEC/Clase1/DB/\"\n",
    "spark = SparkSession \\\n",
    "    .builder \\\n",
    "    .appName(\"Basic JDBC pipeline\") \\\n",
    "    .config(\"spark.driver.extraClassPath\", dir+\"postgresql-42.1.4.jar\") \\\n",
    "    .config(\"spark.executor.extraClassPath\", dir+\"postgresql-42.1.4.jar\") \\\n",
    "    .getOrCreate()\n",
    "\n",
    "start = time.time()"
   ]
  },
  {
   "cell_type": "markdown",
   "metadata": {},
   "source": [
    "Importamos los datos limpios de postgres"
   ]
  },
  {
   "cell_type": "code",
   "execution_count": 2,
   "metadata": {},
   "outputs": [
    {
     "data": {
      "text/html": [
       "<div>\n",
       "<style scoped>\n",
       "    .dataframe tbody tr th:only-of-type {\n",
       "        vertical-align: middle;\n",
       "    }\n",
       "\n",
       "    .dataframe tbody tr th {\n",
       "        vertical-align: top;\n",
       "    }\n",
       "\n",
       "    .dataframe thead th {\n",
       "        text-align: right;\n",
       "    }\n",
       "</style>\n",
       "<table border=\"1\" class=\"dataframe\">\n",
       "  <thead>\n",
       "    <tr style=\"text-align: right;\">\n",
       "      <th></th>\n",
       "      <th>regio1</th>\n",
       "      <th>serviceCharge</th>\n",
       "      <th>heatingType</th>\n",
       "      <th>telekomTvOffer</th>\n",
       "      <th>newlyConst</th>\n",
       "      <th>balcony</th>\n",
       "      <th>picturecount</th>\n",
       "      <th>pricetrend</th>\n",
       "      <th>telekomUploadSpeed</th>\n",
       "      <th>totalRent</th>\n",
       "      <th>...</th>\n",
       "      <th>typeOfFlat</th>\n",
       "      <th>geo_plz</th>\n",
       "      <th>noRooms</th>\n",
       "      <th>floor</th>\n",
       "      <th>noRoomsRange</th>\n",
       "      <th>garden</th>\n",
       "      <th>livingSpaceRange</th>\n",
       "      <th>regio2</th>\n",
       "      <th>regio3</th>\n",
       "      <th>date</th>\n",
       "    </tr>\n",
       "  </thead>\n",
       "  <tbody>\n",
       "    <tr>\n",
       "      <td>0</td>\n",
       "      <td>Nordrhein_Westfalen</td>\n",
       "      <td>100.00</td>\n",
       "      <td>central_heating</td>\n",
       "      <td>ONE_YEAR_FREE</td>\n",
       "      <td>False</td>\n",
       "      <td>False</td>\n",
       "      <td>29</td>\n",
       "      <td>3.52</td>\n",
       "      <td>2.4</td>\n",
       "      <td>429.00</td>\n",
       "      <td>...</td>\n",
       "      <td>ground_floor</td>\n",
       "      <td>45329</td>\n",
       "      <td>2.0</td>\n",
       "      <td>0.0</td>\n",
       "      <td>2</td>\n",
       "      <td>False</td>\n",
       "      <td>2</td>\n",
       "      <td>Essen</td>\n",
       "      <td>Karnap</td>\n",
       "      <td>May19</td>\n",
       "    </tr>\n",
       "    <tr>\n",
       "      <td>1</td>\n",
       "      <td>Nordrhein_Westfalen</td>\n",
       "      <td>84.00</td>\n",
       "      <td>central_heating</td>\n",
       "      <td>ONE_YEAR_FREE</td>\n",
       "      <td>False</td>\n",
       "      <td>True</td>\n",
       "      <td>4</td>\n",
       "      <td>4.92</td>\n",
       "      <td>2.4</td>\n",
       "      <td>578.00</td>\n",
       "      <td>...</td>\n",
       "      <td>roof_storey</td>\n",
       "      <td>48282</td>\n",
       "      <td>3.0</td>\n",
       "      <td>2.0</td>\n",
       "      <td>3</td>\n",
       "      <td>False</td>\n",
       "      <td>3</td>\n",
       "      <td>Steinfurt_Kreis</td>\n",
       "      <td>Emsdetten</td>\n",
       "      <td>Sep18</td>\n",
       "    </tr>\n",
       "    <tr>\n",
       "      <td>2</td>\n",
       "      <td>Nordrhein_Westfalen</td>\n",
       "      <td>115.00</td>\n",
       "      <td>night_storage_heater</td>\n",
       "      <td>ONE_YEAR_FREE</td>\n",
       "      <td>False</td>\n",
       "      <td>False</td>\n",
       "      <td>11</td>\n",
       "      <td>4.69</td>\n",
       "      <td>40.0</td>\n",
       "      <td>365.00</td>\n",
       "      <td>...</td>\n",
       "      <td>roof_storey</td>\n",
       "      <td>46242</td>\n",
       "      <td>3.0</td>\n",
       "      <td>3.0</td>\n",
       "      <td>3</td>\n",
       "      <td>False</td>\n",
       "      <td>2</td>\n",
       "      <td>Bottrop</td>\n",
       "      <td>Lehmkuhle</td>\n",
       "      <td>Sep18</td>\n",
       "    </tr>\n",
       "    <tr>\n",
       "      <td>3</td>\n",
       "      <td>Sachsen_Anhalt</td>\n",
       "      <td>33.00</td>\n",
       "      <td>self_contained_central_heating</td>\n",
       "      <td>ONE_YEAR_FREE</td>\n",
       "      <td>False</td>\n",
       "      <td>False</td>\n",
       "      <td>9</td>\n",
       "      <td>0.93</td>\n",
       "      <td>40.0</td>\n",
       "      <td>358.00</td>\n",
       "      <td>...</td>\n",
       "      <td>roof_storey</td>\n",
       "      <td>39218</td>\n",
       "      <td>2.0</td>\n",
       "      <td>0.0</td>\n",
       "      <td>2</td>\n",
       "      <td>False</td>\n",
       "      <td>2</td>\n",
       "      <td>Salzlandkreis</td>\n",
       "      <td>Schönebeck_Elbe</td>\n",
       "      <td>May19</td>\n",
       "    </tr>\n",
       "    <tr>\n",
       "      <td>4</td>\n",
       "      <td>Sachsen</td>\n",
       "      <td>169.75</td>\n",
       "      <td>gas_heating</td>\n",
       "      <td>ONE_YEAR_FREE</td>\n",
       "      <td>False</td>\n",
       "      <td>True</td>\n",
       "      <td>9</td>\n",
       "      <td>-1.89</td>\n",
       "      <td>2.4</td>\n",
       "      <td>449.49</td>\n",
       "      <td>...</td>\n",
       "      <td>apartment</td>\n",
       "      <td>9126</td>\n",
       "      <td>2.0</td>\n",
       "      <td>2.0</td>\n",
       "      <td>2</td>\n",
       "      <td>False</td>\n",
       "      <td>2</td>\n",
       "      <td>Chemnitz</td>\n",
       "      <td>Bernsdorf</td>\n",
       "      <td>May19</td>\n",
       "    </tr>\n",
       "  </tbody>\n",
       "</table>\n",
       "<p>5 rows × 31 columns</p>\n",
       "</div>"
      ],
      "text/plain": [
       "                regio1  serviceCharge                     heatingType  \\\n",
       "0  Nordrhein_Westfalen         100.00                 central_heating   \n",
       "1  Nordrhein_Westfalen          84.00                 central_heating   \n",
       "2  Nordrhein_Westfalen         115.00            night_storage_heater   \n",
       "3       Sachsen_Anhalt          33.00  self_contained_central_heating   \n",
       "4              Sachsen         169.75                     gas_heating   \n",
       "\n",
       "  telekomTvOffer  newlyConst  balcony  picturecount  pricetrend  \\\n",
       "0  ONE_YEAR_FREE       False    False            29        3.52   \n",
       "1  ONE_YEAR_FREE       False     True             4        4.92   \n",
       "2  ONE_YEAR_FREE       False    False            11        4.69   \n",
       "3  ONE_YEAR_FREE       False    False             9        0.93   \n",
       "4  ONE_YEAR_FREE       False     True             9       -1.89   \n",
       "\n",
       "   telekomUploadSpeed  totalRent  ...    typeOfFlat  geo_plz noRooms  floor  \\\n",
       "0                 2.4     429.00  ...  ground_floor    45329     2.0    0.0   \n",
       "1                 2.4     578.00  ...   roof_storey    48282     3.0    2.0   \n",
       "2                40.0     365.00  ...   roof_storey    46242     3.0    3.0   \n",
       "3                40.0     358.00  ...   roof_storey    39218     2.0    0.0   \n",
       "4                 2.4     449.49  ...     apartment     9126     2.0    2.0   \n",
       "\n",
       "   noRoomsRange  garden  livingSpaceRange           regio2           regio3  \\\n",
       "0             2   False                 2            Essen           Karnap   \n",
       "1             3   False                 3  Steinfurt_Kreis        Emsdetten   \n",
       "2             3   False                 2          Bottrop        Lehmkuhle   \n",
       "3             2   False                 2    Salzlandkreis  Schönebeck_Elbe   \n",
       "4             2   False                 2         Chemnitz        Bernsdorf   \n",
       "\n",
       "    date  \n",
       "0  May19  \n",
       "1  Sep18  \n",
       "2  Sep18  \n",
       "3  May19  \n",
       "4  May19  \n",
       "\n",
       "[5 rows x 31 columns]"
      ]
     },
     "execution_count": 2,
     "metadata": {},
     "output_type": "execute_result"
    }
   ],
   "source": [
    "df = spark \\\n",
    "    .read \\\n",
    "    .format(\"jdbc\") \\\n",
    "    .option(\"url\", \"jdbc:postgresql://localhost/ImmoDataBase\") \\\n",
    "    .option(\"user\", \"postgres\") \\\n",
    "    .option(\"password\", \"102800\") \\\n",
    "    .option(\"dbtable\", \"apartmentrentalclean\") \\\n",
    "    .load()\n",
    "\n",
    "df.limit(5).toPandas().head()"
   ]
  },
  {
   "cell_type": "markdown",
   "metadata": {},
   "source": [
    "Se imprime el esquema"
   ]
  },
  {
   "cell_type": "code",
   "execution_count": 3,
   "metadata": {},
   "outputs": [
    {
     "name": "stdout",
     "output_type": "stream",
     "text": [
      "root\n",
      " |-- regio1: string (nullable = true)\n",
      " |-- serviceCharge: double (nullable = true)\n",
      " |-- telekomTvOffer: string (nullable = true)\n",
      " |-- newlyConst: boolean (nullable = true)\n",
      " |-- balcony: boolean (nullable = true)\n",
      " |-- picturecount: integer (nullable = true)\n",
      " |-- pricetrend: double (nullable = true)\n",
      " |-- telekomUploadSpeed: double (nullable = true)\n",
      " |-- totalRent: double (nullable = true)\n",
      " |-- hasKitchen: boolean (nullable = true)\n",
      " |-- geo_bln: string (nullable = true)\n",
      " |-- cellar: boolean (nullable = true)\n",
      " |-- baseRent: double (nullable = true)\n",
      " |-- livingSpace: double (nullable = true)\n",
      " |-- geo_krs: string (nullable = true)\n",
      " |-- lift: boolean (nullable = true)\n",
      " |-- baseRentRange: integer (nullable = true)\n",
      " |-- typeOfFlat: string (nullable = true)\n",
      " |-- geo_plz: integer (nullable = true)\n",
      " |-- noRooms: double (nullable = true)\n",
      " |-- floor: double (nullable = true)\n",
      " |-- noRoomsRange: integer (nullable = true)\n",
      " |-- garden: boolean (nullable = true)\n",
      " |-- livingSpaceRange: integer (nullable = true)\n",
      " |-- regio2: string (nullable = true)\n",
      " |-- regio3: string (nullable = true)\n",
      " |-- date: string (nullable = true)\n",
      "\n"
     ]
    }
   ],
   "source": [
    "df = df.drop('heatingType','firingTypes','yearConstructedRange',\"condition\")\n",
    "df.printSchema()"
   ]
  },
  {
   "cell_type": "markdown",
   "metadata": {},
   "source": [
    "Creamos la siguiente funcioon para normalizar las columnas numericas"
   ]
  },
  {
   "cell_type": "code",
   "execution_count": 4,
   "metadata": {},
   "outputs": [],
   "source": [
    "def normalizeColumn(df,listColumnName):\n",
    "    unlist = udf(lambda x: round(float(list(x)[0]),5), DoubleType())\n",
    "\n",
    "    for i in listColumnName:\n",
    "       \n",
    "        assembler = VectorAssembler(inputCols=[i],outputCol=i+\"_Vect\")\n",
    "\n",
    "        scaler = MinMaxScaler(inputCol=i+\"_Vect\", outputCol=i+\"_Scaled\")\n",
    "\n",
    "        pipeline = Pipeline(stages=[assembler, scaler])\n",
    "\n",
    "        # Fitting pipeline on dataframe\n",
    "        df = pipeline.fit(df).transform(df).withColumn(i, unlist(i+\"_Scaled\")).drop(i+\"_Vect\")\n",
    "        df = df.drop(i+\"_Scaled\")\n",
    "    return df\n"
   ]
  },
  {
   "cell_type": "markdown",
   "metadata": {},
   "source": [
    "Probamos la funcion para la normalizacion con solo una columna\n",
    "\n",
    "Primero vemos la columna serviceCharge sin normalizacion"
   ]
  },
  {
   "cell_type": "code",
   "execution_count": 5,
   "metadata": {},
   "outputs": [
    {
     "data": {
      "text/html": [
       "<div>\n",
       "<style scoped>\n",
       "    .dataframe tbody tr th:only-of-type {\n",
       "        vertical-align: middle;\n",
       "    }\n",
       "\n",
       "    .dataframe tbody tr th {\n",
       "        vertical-align: top;\n",
       "    }\n",
       "\n",
       "    .dataframe thead th {\n",
       "        text-align: right;\n",
       "    }\n",
       "</style>\n",
       "<table border=\"1\" class=\"dataframe\">\n",
       "  <thead>\n",
       "    <tr style=\"text-align: right;\">\n",
       "      <th></th>\n",
       "      <th>serviceCharge</th>\n",
       "      <th>count</th>\n",
       "      <th>perc_of_count_total</th>\n",
       "    </tr>\n",
       "  </thead>\n",
       "  <tbody>\n",
       "    <tr>\n",
       "      <td>0</td>\n",
       "      <td>150.00</td>\n",
       "      <td>9009</td>\n",
       "      <td>0.053431</td>\n",
       "    </tr>\n",
       "    <tr>\n",
       "      <td>1</td>\n",
       "      <td>100.00</td>\n",
       "      <td>8066</td>\n",
       "      <td>0.047838</td>\n",
       "    </tr>\n",
       "    <tr>\n",
       "      <td>2</td>\n",
       "      <td>200.00</td>\n",
       "      <td>6811</td>\n",
       "      <td>0.040395</td>\n",
       "    </tr>\n",
       "    <tr>\n",
       "      <td>3</td>\n",
       "      <td>120.00</td>\n",
       "      <td>6615</td>\n",
       "      <td>0.039233</td>\n",
       "    </tr>\n",
       "    <tr>\n",
       "      <td>4</td>\n",
       "      <td>130.00</td>\n",
       "      <td>4809</td>\n",
       "      <td>0.028522</td>\n",
       "    </tr>\n",
       "    <tr>\n",
       "      <td>5</td>\n",
       "      <td>140.00</td>\n",
       "      <td>4587</td>\n",
       "      <td>0.027205</td>\n",
       "    </tr>\n",
       "    <tr>\n",
       "      <td>6</td>\n",
       "      <td>180.00</td>\n",
       "      <td>4202</td>\n",
       "      <td>0.024922</td>\n",
       "    </tr>\n",
       "    <tr>\n",
       "      <td>7</td>\n",
       "      <td>80.00</td>\n",
       "      <td>4148</td>\n",
       "      <td>0.024601</td>\n",
       "    </tr>\n",
       "    <tr>\n",
       "      <td>8</td>\n",
       "      <td>110.00</td>\n",
       "      <td>3927</td>\n",
       "      <td>0.023291</td>\n",
       "    </tr>\n",
       "    <tr>\n",
       "      <td>9</td>\n",
       "      <td>250.00</td>\n",
       "      <td>3914</td>\n",
       "      <td>0.023213</td>\n",
       "    </tr>\n",
       "    <tr>\n",
       "      <td>10</td>\n",
       "      <td>90.00</td>\n",
       "      <td>3878</td>\n",
       "      <td>0.023000</td>\n",
       "    </tr>\n",
       "    <tr>\n",
       "      <td>11</td>\n",
       "      <td>160.00</td>\n",
       "      <td>3829</td>\n",
       "      <td>0.022709</td>\n",
       "    </tr>\n",
       "    <tr>\n",
       "      <td>12</td>\n",
       "      <td>70.00</td>\n",
       "      <td>3253</td>\n",
       "      <td>0.019293</td>\n",
       "    </tr>\n",
       "    <tr>\n",
       "      <td>13</td>\n",
       "      <td>170.00</td>\n",
       "      <td>3041</td>\n",
       "      <td>0.018036</td>\n",
       "    </tr>\n",
       "    <tr>\n",
       "      <td>14</td>\n",
       "      <td>151.55</td>\n",
       "      <td>3003</td>\n",
       "      <td>0.017810</td>\n",
       "    </tr>\n",
       "    <tr>\n",
       "      <td>15</td>\n",
       "      <td>60.00</td>\n",
       "      <td>2774</td>\n",
       "      <td>0.016452</td>\n",
       "    </tr>\n",
       "    <tr>\n",
       "      <td>16</td>\n",
       "      <td>0.00</td>\n",
       "      <td>2448</td>\n",
       "      <td>0.014519</td>\n",
       "    </tr>\n",
       "    <tr>\n",
       "      <td>17</td>\n",
       "      <td>50.00</td>\n",
       "      <td>2266</td>\n",
       "      <td>0.013439</td>\n",
       "    </tr>\n",
       "    <tr>\n",
       "      <td>18</td>\n",
       "      <td>190.00</td>\n",
       "      <td>2070</td>\n",
       "      <td>0.012277</td>\n",
       "    </tr>\n",
       "    <tr>\n",
       "      <td>19</td>\n",
       "      <td>220.00</td>\n",
       "      <td>2022</td>\n",
       "      <td>0.011992</td>\n",
       "    </tr>\n",
       "  </tbody>\n",
       "</table>\n",
       "</div>"
      ],
      "text/plain": [
       "    serviceCharge  count  perc_of_count_total\n",
       "0          150.00   9009             0.053431\n",
       "1          100.00   8066             0.047838\n",
       "2          200.00   6811             0.040395\n",
       "3          120.00   6615             0.039233\n",
       "4          130.00   4809             0.028522\n",
       "5          140.00   4587             0.027205\n",
       "6          180.00   4202             0.024922\n",
       "7           80.00   4148             0.024601\n",
       "8          110.00   3927             0.023291\n",
       "9          250.00   3914             0.023213\n",
       "10          90.00   3878             0.023000\n",
       "11         160.00   3829             0.022709\n",
       "12          70.00   3253             0.019293\n",
       "13         170.00   3041             0.018036\n",
       "14         151.55   3003             0.017810\n",
       "15          60.00   2774             0.016452\n",
       "16           0.00   2448             0.014519\n",
       "17          50.00   2266             0.013439\n",
       "18         190.00   2070             0.012277\n",
       "19         220.00   2022             0.011992"
      ]
     },
     "execution_count": 5,
     "metadata": {},
     "output_type": "execute_result"
    }
   ],
   "source": [
    "datasetSize = df.count()\n",
    "\n",
    "df.groupBy('serviceCharge').count().sort(col(\"count\").desc()).withColumn('perc_of_count_total', (F.col('count') / datasetSize)) \\\n",
    "  .toPandas().head(20)"
   ]
  },
  {
   "cell_type": "markdown",
   "metadata": {},
   "source": [
    "## Aplicamos la normalizacion con la funcion presentada anteriormente"
   ]
  },
  {
   "cell_type": "code",
   "execution_count": 6,
   "metadata": {},
   "outputs": [],
   "source": [
    "numericColumns = list()\n",
    "numericColumns.append('serviceCharge')\n",
    "# df = normalizeColumn(df,numericColumns)"
   ]
  },
  {
   "cell_type": "markdown",
   "metadata": {},
   "source": [
    "Volvemos a consultar la columna para ver la normalizacion"
   ]
  },
  {
   "cell_type": "code",
   "execution_count": 7,
   "metadata": {},
   "outputs": [
    {
     "data": {
      "text/html": [
       "<div>\n",
       "<style scoped>\n",
       "    .dataframe tbody tr th:only-of-type {\n",
       "        vertical-align: middle;\n",
       "    }\n",
       "\n",
       "    .dataframe tbody tr th {\n",
       "        vertical-align: top;\n",
       "    }\n",
       "\n",
       "    .dataframe thead th {\n",
       "        text-align: right;\n",
       "    }\n",
       "</style>\n",
       "<table border=\"1\" class=\"dataframe\">\n",
       "  <thead>\n",
       "    <tr style=\"text-align: right;\">\n",
       "      <th></th>\n",
       "      <th>serviceCharge</th>\n",
       "      <th>count</th>\n",
       "      <th>perc_of_count_total</th>\n",
       "    </tr>\n",
       "  </thead>\n",
       "  <tbody>\n",
       "    <tr>\n",
       "      <td>0</td>\n",
       "      <td>150.00</td>\n",
       "      <td>9009</td>\n",
       "      <td>0.053431</td>\n",
       "    </tr>\n",
       "    <tr>\n",
       "      <td>1</td>\n",
       "      <td>100.00</td>\n",
       "      <td>8066</td>\n",
       "      <td>0.047838</td>\n",
       "    </tr>\n",
       "    <tr>\n",
       "      <td>2</td>\n",
       "      <td>200.00</td>\n",
       "      <td>6811</td>\n",
       "      <td>0.040395</td>\n",
       "    </tr>\n",
       "    <tr>\n",
       "      <td>3</td>\n",
       "      <td>120.00</td>\n",
       "      <td>6615</td>\n",
       "      <td>0.039233</td>\n",
       "    </tr>\n",
       "    <tr>\n",
       "      <td>4</td>\n",
       "      <td>130.00</td>\n",
       "      <td>4809</td>\n",
       "      <td>0.028522</td>\n",
       "    </tr>\n",
       "    <tr>\n",
       "      <td>5</td>\n",
       "      <td>140.00</td>\n",
       "      <td>4587</td>\n",
       "      <td>0.027205</td>\n",
       "    </tr>\n",
       "    <tr>\n",
       "      <td>6</td>\n",
       "      <td>180.00</td>\n",
       "      <td>4202</td>\n",
       "      <td>0.024922</td>\n",
       "    </tr>\n",
       "    <tr>\n",
       "      <td>7</td>\n",
       "      <td>80.00</td>\n",
       "      <td>4148</td>\n",
       "      <td>0.024601</td>\n",
       "    </tr>\n",
       "    <tr>\n",
       "      <td>8</td>\n",
       "      <td>110.00</td>\n",
       "      <td>3927</td>\n",
       "      <td>0.023291</td>\n",
       "    </tr>\n",
       "    <tr>\n",
       "      <td>9</td>\n",
       "      <td>250.00</td>\n",
       "      <td>3914</td>\n",
       "      <td>0.023213</td>\n",
       "    </tr>\n",
       "    <tr>\n",
       "      <td>10</td>\n",
       "      <td>90.00</td>\n",
       "      <td>3878</td>\n",
       "      <td>0.023000</td>\n",
       "    </tr>\n",
       "    <tr>\n",
       "      <td>11</td>\n",
       "      <td>160.00</td>\n",
       "      <td>3829</td>\n",
       "      <td>0.022709</td>\n",
       "    </tr>\n",
       "    <tr>\n",
       "      <td>12</td>\n",
       "      <td>70.00</td>\n",
       "      <td>3253</td>\n",
       "      <td>0.019293</td>\n",
       "    </tr>\n",
       "    <tr>\n",
       "      <td>13</td>\n",
       "      <td>170.00</td>\n",
       "      <td>3041</td>\n",
       "      <td>0.018036</td>\n",
       "    </tr>\n",
       "    <tr>\n",
       "      <td>14</td>\n",
       "      <td>151.55</td>\n",
       "      <td>3003</td>\n",
       "      <td>0.017810</td>\n",
       "    </tr>\n",
       "    <tr>\n",
       "      <td>15</td>\n",
       "      <td>60.00</td>\n",
       "      <td>2774</td>\n",
       "      <td>0.016452</td>\n",
       "    </tr>\n",
       "    <tr>\n",
       "      <td>16</td>\n",
       "      <td>0.00</td>\n",
       "      <td>2448</td>\n",
       "      <td>0.014519</td>\n",
       "    </tr>\n",
       "    <tr>\n",
       "      <td>17</td>\n",
       "      <td>50.00</td>\n",
       "      <td>2266</td>\n",
       "      <td>0.013439</td>\n",
       "    </tr>\n",
       "    <tr>\n",
       "      <td>18</td>\n",
       "      <td>190.00</td>\n",
       "      <td>2070</td>\n",
       "      <td>0.012277</td>\n",
       "    </tr>\n",
       "    <tr>\n",
       "      <td>19</td>\n",
       "      <td>220.00</td>\n",
       "      <td>2022</td>\n",
       "      <td>0.011992</td>\n",
       "    </tr>\n",
       "  </tbody>\n",
       "</table>\n",
       "</div>"
      ],
      "text/plain": [
       "    serviceCharge  count  perc_of_count_total\n",
       "0          150.00   9009             0.053431\n",
       "1          100.00   8066             0.047838\n",
       "2          200.00   6811             0.040395\n",
       "3          120.00   6615             0.039233\n",
       "4          130.00   4809             0.028522\n",
       "5          140.00   4587             0.027205\n",
       "6          180.00   4202             0.024922\n",
       "7           80.00   4148             0.024601\n",
       "8          110.00   3927             0.023291\n",
       "9          250.00   3914             0.023213\n",
       "10          90.00   3878             0.023000\n",
       "11         160.00   3829             0.022709\n",
       "12          70.00   3253             0.019293\n",
       "13         170.00   3041             0.018036\n",
       "14         151.55   3003             0.017810\n",
       "15          60.00   2774             0.016452\n",
       "16           0.00   2448             0.014519\n",
       "17          50.00   2266             0.013439\n",
       "18         190.00   2070             0.012277\n",
       "19         220.00   2022             0.011992"
      ]
     },
     "execution_count": 7,
     "metadata": {},
     "output_type": "execute_result"
    }
   ],
   "source": [
    "df.groupBy('serviceCharge').count().sort(col(\"count\").desc()).withColumn('perc_of_count_total', (F.col('count') / datasetSize)) \\\n",
    "  .toPandas().head(20)"
   ]
  },
  {
   "cell_type": "markdown",
   "metadata": {},
   "source": [
    "Una vez que se valida la normalizacion para dichos datos, correspondemos a realizarlo en las demas columnas numericas"
   ]
  },
  {
   "cell_type": "markdown",
   "metadata": {},
   "source": [
    "# Normalizacion de columnas numericas"
   ]
  },
  {
   "cell_type": "code",
   "execution_count": 8,
   "metadata": {},
   "outputs": [
    {
     "name": "stdout",
     "output_type": "stream",
     "text": [
      "Numero de columnas:  12\n"
     ]
    }
   ],
   "source": [
    "# Columnas\n",
    "\n",
    "columnas = ['picturecount','pricetrend','telekomUploadSpeed','totalRent'\n",
    "           ,'baseRent','livingSpace','baseRentRange','geo_plz','noRooms','floor','noRoomsRange',\n",
    "           'livingSpaceRange']\n",
    "\n",
    "print(\"Numero de columnas: \",len(columnas))"
   ]
  },
  {
   "cell_type": "markdown",
   "metadata": {},
   "source": [
    "## Aplicamos normalización de columnas"
   ]
  },
  {
   "cell_type": "code",
   "execution_count": 9,
   "metadata": {},
   "outputs": [],
   "source": [
    "# df = normalizeColumn(df,columnas)"
   ]
  },
  {
   "cell_type": "code",
   "execution_count": 10,
   "metadata": {},
   "outputs": [
    {
     "data": {
      "text/html": [
       "<div>\n",
       "<style scoped>\n",
       "    .dataframe tbody tr th:only-of-type {\n",
       "        vertical-align: middle;\n",
       "    }\n",
       "\n",
       "    .dataframe tbody tr th {\n",
       "        vertical-align: top;\n",
       "    }\n",
       "\n",
       "    .dataframe thead th {\n",
       "        text-align: right;\n",
       "    }\n",
       "</style>\n",
       "<table border=\"1\" class=\"dataframe\">\n",
       "  <thead>\n",
       "    <tr style=\"text-align: right;\">\n",
       "      <th></th>\n",
       "      <th>picturecount</th>\n",
       "      <th>pricetrend</th>\n",
       "      <th>telekomUploadSpeed</th>\n",
       "      <th>totalRent</th>\n",
       "      <th>baseRent</th>\n",
       "      <th>livingSpace</th>\n",
       "      <th>baseRentRange</th>\n",
       "      <th>geo_plz</th>\n",
       "      <th>noRooms</th>\n",
       "      <th>floor</th>\n",
       "      <th>noRoomsRange</th>\n",
       "      <th>livingSpaceRange</th>\n",
       "    </tr>\n",
       "  </thead>\n",
       "  <tbody>\n",
       "    <tr>\n",
       "      <td>0</td>\n",
       "      <td>29</td>\n",
       "      <td>3.52</td>\n",
       "      <td>2.4</td>\n",
       "      <td>429.00</td>\n",
       "      <td>329.00</td>\n",
       "      <td>52.21</td>\n",
       "      <td>2</td>\n",
       "      <td>45329</td>\n",
       "      <td>2.0</td>\n",
       "      <td>0.0</td>\n",
       "      <td>2</td>\n",
       "      <td>2</td>\n",
       "    </tr>\n",
       "    <tr>\n",
       "      <td>1</td>\n",
       "      <td>4</td>\n",
       "      <td>4.92</td>\n",
       "      <td>2.4</td>\n",
       "      <td>578.00</td>\n",
       "      <td>459.00</td>\n",
       "      <td>75.00</td>\n",
       "      <td>3</td>\n",
       "      <td>48282</td>\n",
       "      <td>3.0</td>\n",
       "      <td>2.0</td>\n",
       "      <td>3</td>\n",
       "      <td>3</td>\n",
       "    </tr>\n",
       "    <tr>\n",
       "      <td>2</td>\n",
       "      <td>11</td>\n",
       "      <td>4.69</td>\n",
       "      <td>40.0</td>\n",
       "      <td>365.00</td>\n",
       "      <td>250.00</td>\n",
       "      <td>44.00</td>\n",
       "      <td>1</td>\n",
       "      <td>46242</td>\n",
       "      <td>3.0</td>\n",
       "      <td>3.0</td>\n",
       "      <td>3</td>\n",
       "      <td>2</td>\n",
       "    </tr>\n",
       "    <tr>\n",
       "      <td>3</td>\n",
       "      <td>9</td>\n",
       "      <td>0.93</td>\n",
       "      <td>40.0</td>\n",
       "      <td>358.00</td>\n",
       "      <td>207.00</td>\n",
       "      <td>46.00</td>\n",
       "      <td>1</td>\n",
       "      <td>39218</td>\n",
       "      <td>2.0</td>\n",
       "      <td>0.0</td>\n",
       "      <td>2</td>\n",
       "      <td>2</td>\n",
       "    </tr>\n",
       "    <tr>\n",
       "      <td>4</td>\n",
       "      <td>9</td>\n",
       "      <td>-1.89</td>\n",
       "      <td>2.4</td>\n",
       "      <td>449.49</td>\n",
       "      <td>279.74</td>\n",
       "      <td>60.55</td>\n",
       "      <td>1</td>\n",
       "      <td>9126</td>\n",
       "      <td>2.0</td>\n",
       "      <td>2.0</td>\n",
       "      <td>2</td>\n",
       "      <td>2</td>\n",
       "    </tr>\n",
       "  </tbody>\n",
       "</table>\n",
       "</div>"
      ],
      "text/plain": [
       "   picturecount  pricetrend  telekomUploadSpeed  totalRent  baseRent  \\\n",
       "0            29        3.52                 2.4     429.00    329.00   \n",
       "1             4        4.92                 2.4     578.00    459.00   \n",
       "2            11        4.69                40.0     365.00    250.00   \n",
       "3             9        0.93                40.0     358.00    207.00   \n",
       "4             9       -1.89                 2.4     449.49    279.74   \n",
       "\n",
       "   livingSpace  baseRentRange  geo_plz  noRooms  floor  noRoomsRange  \\\n",
       "0        52.21              2    45329      2.0    0.0             2   \n",
       "1        75.00              3    48282      3.0    2.0             3   \n",
       "2        44.00              1    46242      3.0    3.0             3   \n",
       "3        46.00              1    39218      2.0    0.0             2   \n",
       "4        60.55              1     9126      2.0    2.0             2   \n",
       "\n",
       "   livingSpaceRange  \n",
       "0                 2  \n",
       "1                 3  \n",
       "2                 2  \n",
       "3                 2  \n",
       "4                 2  "
      ]
     },
     "execution_count": 10,
     "metadata": {},
     "output_type": "execute_result"
    }
   ],
   "source": [
    "df.select(columnas).toPandas().head()"
   ]
  },
  {
   "cell_type": "markdown",
   "metadata": {},
   "source": [
    "Como se observa, los datos numericos se encuentran normalizados"
   ]
  },
  {
   "cell_type": "markdown",
   "metadata": {},
   "source": [
    "# Iniciamos con la transformacion de columnas booleansas"
   ]
  },
  {
   "cell_type": "code",
   "execution_count": 11,
   "metadata": {},
   "outputs": [
    {
     "name": "stdout",
     "output_type": "stream",
     "text": [
      "Cantidad de columnas Booleanas:  6\n"
     ]
    }
   ],
   "source": [
    "booleanColumns = ['newlyConst','balcony','hasKitchen','cellar','lift','garden']\n",
    "\n",
    "print(\"Cantidad de columnas Booleanas: \",len(booleanColumns))"
   ]
  },
  {
   "cell_type": "markdown",
   "metadata": {},
   "source": [
    "Función para remplazar columnas booleanas"
   ]
  },
  {
   "cell_type": "code",
   "execution_count": 12,
   "metadata": {},
   "outputs": [],
   "source": [
    "def replaceBooleans(df,listColumns):\n",
    "    for i in listColumns:\n",
    "        df = df.withColumn(i,F.when((col(i) == True),1).otherwise(0))\n",
    "    return df"
   ]
  },
  {
   "cell_type": "code",
   "execution_count": 13,
   "metadata": {},
   "outputs": [],
   "source": [
    "df = replaceBooleans(df,booleanColumns)"
   ]
  },
  {
   "cell_type": "markdown",
   "metadata": {},
   "source": [
    "Observamos la transformación`"
   ]
  },
  {
   "cell_type": "code",
   "execution_count": 14,
   "metadata": {},
   "outputs": [
    {
     "data": {
      "text/html": [
       "<div>\n",
       "<style scoped>\n",
       "    .dataframe tbody tr th:only-of-type {\n",
       "        vertical-align: middle;\n",
       "    }\n",
       "\n",
       "    .dataframe tbody tr th {\n",
       "        vertical-align: top;\n",
       "    }\n",
       "\n",
       "    .dataframe thead th {\n",
       "        text-align: right;\n",
       "    }\n",
       "</style>\n",
       "<table border=\"1\" class=\"dataframe\">\n",
       "  <thead>\n",
       "    <tr style=\"text-align: right;\">\n",
       "      <th></th>\n",
       "      <th>newlyConst</th>\n",
       "      <th>balcony</th>\n",
       "      <th>hasKitchen</th>\n",
       "      <th>cellar</th>\n",
       "      <th>lift</th>\n",
       "      <th>garden</th>\n",
       "    </tr>\n",
       "  </thead>\n",
       "  <tbody>\n",
       "    <tr>\n",
       "      <td>0</td>\n",
       "      <td>0</td>\n",
       "      <td>0</td>\n",
       "      <td>0</td>\n",
       "      <td>0</td>\n",
       "      <td>0</td>\n",
       "      <td>0</td>\n",
       "    </tr>\n",
       "    <tr>\n",
       "      <td>1</td>\n",
       "      <td>0</td>\n",
       "      <td>1</td>\n",
       "      <td>0</td>\n",
       "      <td>0</td>\n",
       "      <td>0</td>\n",
       "      <td>0</td>\n",
       "    </tr>\n",
       "    <tr>\n",
       "      <td>2</td>\n",
       "      <td>0</td>\n",
       "      <td>0</td>\n",
       "      <td>0</td>\n",
       "      <td>0</td>\n",
       "      <td>0</td>\n",
       "      <td>0</td>\n",
       "    </tr>\n",
       "    <tr>\n",
       "      <td>3</td>\n",
       "      <td>0</td>\n",
       "      <td>0</td>\n",
       "      <td>0</td>\n",
       "      <td>1</td>\n",
       "      <td>0</td>\n",
       "      <td>0</td>\n",
       "    </tr>\n",
       "    <tr>\n",
       "      <td>4</td>\n",
       "      <td>0</td>\n",
       "      <td>1</td>\n",
       "      <td>1</td>\n",
       "      <td>1</td>\n",
       "      <td>0</td>\n",
       "      <td>0</td>\n",
       "    </tr>\n",
       "  </tbody>\n",
       "</table>\n",
       "</div>"
      ],
      "text/plain": [
       "   newlyConst  balcony  hasKitchen  cellar  lift  garden\n",
       "0           0        0           0       0     0       0\n",
       "1           0        1           0       0     0       0\n",
       "2           0        0           0       0     0       0\n",
       "3           0        0           0       1     0       0\n",
       "4           0        1           1       1     0       0"
      ]
     },
     "execution_count": 14,
     "metadata": {},
     "output_type": "execute_result"
    }
   ],
   "source": [
    "df.select(booleanColumns).toPandas().head()"
   ]
  },
  {
   "cell_type": "markdown",
   "metadata": {},
   "source": [
    "# Remplazamos variables categoricas por OneHotEncoding"
   ]
  },
  {
   "cell_type": "markdown",
   "metadata": {},
   "source": [
    "Creamos la función para remplazar valores categoricos"
   ]
  },
  {
   "cell_type": "code",
   "execution_count": 15,
   "metadata": {},
   "outputs": [],
   "source": [
    "def createCategoricalVects(df,columns):\n",
    "    for i in columns:\n",
    "        temp_indexer = StringIndexer(inputCol=i, outputCol=i+\"_index\").fit(df)\n",
    "        df = temp_indexer.transform(df)\n",
    "        temp_encoder = OneHotEncoder(inputCol=i+\"_index\", outputCol=i+\"_vec\")\n",
    "        df = temp_encoder.transform(df)\n",
    "        df = df.drop(i+\"_index\")\n",
    "        print(\"Columna Procesada:\",i,\"Tammano\",df.groupBy(i).count().count())\n",
    "        df = df.drop(i)\n",
    "    return df"
   ]
  },
  {
   "cell_type": "markdown",
   "metadata": {},
   "source": [
    "Dicha función detecta si una columna tiene bastantes categorias para borrarla\n",
    "\n",
    "Al observar la gran cantidad de columnas que se generan con diferentes datos categoricos, se evalua solo aceptar columnas categoricas con no más de 50 datos categoricos diferentes"
   ]
  },
  {
   "cell_type": "code",
   "execution_count": 16,
   "metadata": {},
   "outputs": [],
   "source": [
    "def deleteBigColumns(df,columns,limit):\n",
    "    goodColumns = list()\n",
    "    for i in columns:\n",
    "        size = df.groupBy(i).count().count()\n",
    "        print(i,size)\n",
    "        if(size > limit):\n",
    "            print(\"Columna borrada:\",i,\"Tamanno:\", size) \n",
    "            df = df.drop(i)\n",
    "        else:\n",
    "            goodColumns.append(i)\n",
    "    return df,goodColumns"
   ]
  },
  {
   "cell_type": "markdown",
   "metadata": {},
   "source": [
    "## Procesamos las columnas categoricas"
   ]
  },
  {
   "cell_type": "code",
   "execution_count": 17,
   "metadata": {},
   "outputs": [
    {
     "name": "stdout",
     "output_type": "stream",
     "text": [
      "regio1 16\n",
      "Columna borrada: regio1 Tamanno: 16\n",
      "geo_bln 16\n",
      "Columna borrada: geo_bln Tamanno: 16\n",
      "geo_krs 419\n",
      "Columna borrada: geo_krs Tamanno: 419\n",
      "typeOfFlat 10\n",
      "Columna borrada: typeOfFlat Tamanno: 10\n",
      "regio2 419\n",
      "Columna borrada: regio2 Tamanno: 419\n",
      "regio3 7794\n",
      "Columna borrada: regio3 Tamanno: 7794\n",
      "date 3\n",
      "Columna borrada: date Tamanno: 3\n",
      "telekomTvOffer 3\n",
      "Columna borrada: telekomTvOffer Tamanno: 3\n",
      "Procesamiento de las columnas: \n"
     ]
    }
   ],
   "source": [
    "categoryList = ['regio1','geo_bln','geo_krs','typeOfFlat','regio2','regio3','date','telekomTvOffer']\n",
    "df,categoryList = deleteBigColumns(df,categoryList,0)\n",
    "print('Procesamiento de las columnas: ')\n",
    "df = createCategoricalVects(df,categoryList)\n"
   ]
  },
  {
   "cell_type": "markdown",
   "metadata": {},
   "source": [
    "## Observamos los nuevos datos categoricos"
   ]
  },
  {
   "cell_type": "code",
   "execution_count": 18,
   "metadata": {},
   "outputs": [
    {
     "name": "stdout",
     "output_type": "stream",
     "text": [
      "++\n",
      "||\n",
      "++\n",
      "||\n",
      "||\n",
      "||\n",
      "||\n",
      "||\n",
      "||\n",
      "||\n",
      "||\n",
      "||\n",
      "||\n",
      "||\n",
      "||\n",
      "||\n",
      "||\n",
      "||\n",
      "||\n",
      "||\n",
      "||\n",
      "||\n",
      "||\n",
      "++\n",
      "only showing top 20 rows\n",
      "\n"
     ]
    }
   ],
   "source": [
    "vectCat = [i+\"_vec\" for i in categoryList]\n",
    "df.select(vectCat).show()"
   ]
  },
  {
   "cell_type": "markdown",
   "metadata": {},
   "source": [
    "# Mostramos la columnas que utilizamos para el training"
   ]
  },
  {
   "cell_type": "code",
   "execution_count": 19,
   "metadata": {},
   "outputs": [
    {
     "name": "stdout",
     "output_type": "stream",
     "text": [
      "['serviceCharge', 'newlyConst', 'balcony', 'picturecount', 'pricetrend', 'telekomUploadSpeed', 'hasKitchen', 'cellar', 'baseRent', 'livingSpace', 'lift', 'baseRentRange', 'geo_plz', 'noRooms', 'floor', 'noRoomsRange', 'garden', 'livingSpaceRange']\n"
     ]
    }
   ],
   "source": [
    "datasetColumns = df.columns\n",
    "datasetColumns.remove('totalRent')\n",
    "print(datasetColumns)\n",
    "\n"
   ]
  },
  {
   "cell_type": "code",
   "execution_count": 20,
   "metadata": {},
   "outputs": [
    {
     "name": "stdout",
     "output_type": "stream",
     "text": [
      "+-------------+----------+-------+------------+----------+------------------+----------+------+--------+-----------+----+-------------+-------+-------+-----+------------+------+----------------+\n",
      "|serviceCharge|newlyConst|balcony|picturecount|pricetrend|telekomUploadSpeed|hasKitchen|cellar|baseRent|livingSpace|lift|baseRentRange|geo_plz|noRooms|floor|noRoomsRange|garden|livingSpaceRange|\n",
      "+-------------+----------+-------+------------+----------+------------------+----------+------+--------+-----------+----+-------------+-------+-------+-----+------------+------+----------------+\n",
      "|        100.0|         0|      0|          29|      3.52|               2.4|         0|     0|   329.0|      52.21|   0|            2|  45329|    2.0|  0.0|           2|     0|               2|\n",
      "|         84.0|         0|      1|           4|      4.92|               2.4|         0|     0|   459.0|       75.0|   0|            3|  48282|    3.0|  2.0|           3|     0|               3|\n",
      "|        115.0|         0|      0|          11|      4.69|              40.0|         0|     0|   250.0|       44.0|   0|            1|  46242|    3.0|  3.0|           3|     0|               2|\n",
      "|         33.0|         0|      0|           9|      0.93|              40.0|         0|     1|   207.0|       46.0|   0|            1|  39218|    2.0|  0.0|           2|     0|               2|\n",
      "|       169.75|         0|      1|           9|     -1.89|               2.4|         1|     1|  279.74|      60.55|   0|            1|   9126|    2.0|  2.0|           2|     0|               2|\n",
      "|        138.0|         0|      0|           8|      1.92|              40.0|         0|     1|   270.0|       50.0|   0|            1|  45888|    2.0|  0.0|           2|     0|               2|\n",
      "|        68.63|         0|      1|          10|      1.32|              40.0|         0|     1|  270.56|      56.25|   0|            1|   6124|    3.0|  1.0|           3|     0|               2|\n",
      "|         85.5|         0|      1|           1|      5.51|              40.0|         0|     0|   247.0|       38.0|   0|            1|   4299|    1.0|  1.0|           1|     0|               1|\n",
      "|        118.0|         0|      0|           4|      3.49|              40.0|         0|     1|  320.95|       55.0|   0|            2|  46145|    2.5|  1.0|           2|     0|               2|\n",
      "|        225.0|         0|      1|          13|      6.93|              40.0|         1|     1|   800.0|       82.0|   0|            5|  22049|    2.0|  1.0|           2|     0|               4|\n",
      "|         90.0|         0|      0|           6|      5.08|               2.4|         0|     0|   294.0|       54.0|   0|            1|  25524|    2.0|  2.0|           2|     0|               2|\n",
      "|        200.0|         0|      1|           6|      3.78|              40.0|         0|     1|   860.0|       90.0|   1|            6|  56068|    3.0|  3.0|           3|     0|               4|\n",
      "|         80.0|         0|      1|          14|      2.81|               2.4|         0|     1|   350.0|       70.0|   0|            2|   8645|    4.0|  3.0|           4|     0|               3|\n",
      "|        150.0|         0|      1|          10|      1.95|              40.0|         0|     0|   340.0|       66.0|   1|            2|  47259|    2.0|  2.0|           2|     0|               3|\n",
      "|         78.8|         0|      0|           5|      1.79|              40.0|         0|     0|   271.2|      54.24|   1|            1|  45886|    2.0|  3.0|           2|     0|               2|\n",
      "|        210.0|         0|      1|          19|      5.06|              40.0|         1|     1|   925.0|       96.9|   1|            6|  85368|    4.0|  4.0|           4|     0|               4|\n",
      "|         77.0|         0|      0|           3|      1.89|              40.0|         0|     1|   258.0|       59.2|   0|            1|   9366|    3.0|  2.0|           3|     0|               2|\n",
      "|        140.0|         0|      1|          16|      0.19|              40.0|         1|     1|   345.0|       60.0|   1|            2|   9125|    2.0|  1.0|           2|     0|               2|\n",
      "|        219.1|         0|      1|           8|      1.61|              10.0|         1|     0| 1068.11|      110.0|   1|            7|  66538|    3.0|  1.0|           3|     0|               5|\n",
      "|        120.0|         0|      1|           4|      1.11|              40.0|         0|     1|   300.0|       52.0|   0|            1|   1809|    1.0|  2.0|           1|     0|               2|\n",
      "+-------------+----------+-------+------------+----------+------------------+----------+------+--------+-----------+----+-------------+-------+-------+-----+------------+------+----------------+\n",
      "only showing top 20 rows\n",
      "\n"
     ]
    }
   ],
   "source": [
    "df.select(datasetColumns).show()"
   ]
  },
  {
   "cell_type": "markdown",
   "metadata": {},
   "source": [
    "# Creamos la columna features"
   ]
  },
  {
   "cell_type": "code",
   "execution_count": 21,
   "metadata": {},
   "outputs": [],
   "source": [
    "df_assembler = VectorAssembler(inputCols = datasetColumns,outputCol=\"features\")\n",
    "df = df_assembler.transform(df)\n",
    "df = df.select(['features','totalRent'])\n"
   ]
  },
  {
   "cell_type": "code",
   "execution_count": 22,
   "metadata": {},
   "outputs": [],
   "source": [
    "df = df.withColumnRenamed('totalRent','label')"
   ]
  },
  {
   "cell_type": "code",
   "execution_count": 23,
   "metadata": {},
   "outputs": [
    {
     "name": "stdout",
     "output_type": "stream",
     "text": [
      "+--------------------+-------+\n",
      "|            features|  label|\n",
      "+--------------------+-------+\n",
      "|[100.0,0.0,0.0,29...|  429.0|\n",
      "|[84.0,0.0,1.0,4.0...|  578.0|\n",
      "|[115.0,0.0,0.0,11...|  365.0|\n",
      "|[33.0,0.0,0.0,9.0...|  358.0|\n",
      "|[169.75,0.0,1.0,9...| 449.49|\n",
      "|[138.0,0.0,0.0,8....|  493.0|\n",
      "|[68.63,0.0,1.0,10...| 434.82|\n",
      "|[85.5,0.0,1.0,1.0...|  332.5|\n",
      "|[118.0,0.0,0.0,4....| 503.95|\n",
      "|[225.0,0.0,1.0,13...| 1025.0|\n",
      "|[90.0,0.0,0.0,6.0...|  474.0|\n",
      "|[200.0,0.0,1.0,6....| 1060.0|\n",
      "|[80.0,0.0,1.0,14....|  530.0|\n",
      "|[150.0,0.0,1.0,10...|  590.0|\n",
      "|[78.8,0.0,0.0,5.0...|  425.0|\n",
      "|[210.0,0.0,1.0,19...| 1135.0|\n",
      "|[77.0,0.0,0.0,3.0...|  400.0|\n",
      "|[140.0,0.0,1.0,16...|  485.0|\n",
      "|[219.1,0.0,1.0,8....|1287.21|\n",
      "|[120.0,0.0,1.0,4....|  420.0|\n",
      "+--------------------+-------+\n",
      "only showing top 20 rows\n",
      "\n"
     ]
    }
   ],
   "source": [
    "\n",
    "df.select(['features','label']).show()\n"
   ]
  },
  {
   "cell_type": "code",
   "execution_count": 24,
   "metadata": {},
   "outputs": [
    {
     "name": "stdout",
     "output_type": "stream",
     "text": [
      "+---------------------------------------------------------------------------------------+\n",
      "|features                                                                               |\n",
      "+---------------------------------------------------------------------------------------+\n",
      "|[100.0,0.0,0.0,29.0,3.52,2.4,0.0,0.0,329.0,52.21,0.0,2.0,45329.0,2.0,0.0,2.0,0.0,2.0]  |\n",
      "|[84.0,0.0,1.0,4.0,4.92,2.4,0.0,0.0,459.0,75.0,0.0,3.0,48282.0,3.0,2.0,3.0,0.0,3.0]     |\n",
      "|[115.0,0.0,0.0,11.0,4.69,40.0,0.0,0.0,250.0,44.0,0.0,1.0,46242.0,3.0,3.0,3.0,0.0,2.0]  |\n",
      "|[33.0,0.0,0.0,9.0,0.93,40.0,0.0,1.0,207.0,46.0,0.0,1.0,39218.0,2.0,0.0,2.0,0.0,2.0]    |\n",
      "|[169.75,0.0,1.0,9.0,-1.89,2.4,1.0,1.0,279.74,60.55,0.0,1.0,9126.0,2.0,2.0,2.0,0.0,2.0] |\n",
      "|[138.0,0.0,0.0,8.0,1.92,40.0,0.0,1.0,270.0,50.0,0.0,1.0,45888.0,2.0,0.0,2.0,0.0,2.0]   |\n",
      "|[68.63,0.0,1.0,10.0,1.32,40.0,0.0,1.0,270.56,56.25,0.0,1.0,6124.0,3.0,1.0,3.0,0.0,2.0] |\n",
      "|[85.5,0.0,1.0,1.0,5.51,40.0,0.0,0.0,247.0,38.0,0.0,1.0,4299.0,1.0,1.0,1.0,0.0,1.0]     |\n",
      "|[118.0,0.0,0.0,4.0,3.49,40.0,0.0,1.0,320.95,55.0,0.0,2.0,46145.0,2.5,1.0,2.0,0.0,2.0]  |\n",
      "|[225.0,0.0,1.0,13.0,6.93,40.0,1.0,1.0,800.0,82.0,0.0,5.0,22049.0,2.0,1.0,2.0,0.0,4.0]  |\n",
      "|[90.0,0.0,0.0,6.0,5.08,2.4,0.0,0.0,294.0,54.0,0.0,1.0,25524.0,2.0,2.0,2.0,0.0,2.0]     |\n",
      "|[200.0,0.0,1.0,6.0,3.78,40.0,0.0,1.0,860.0,90.0,1.0,6.0,56068.0,3.0,3.0,3.0,0.0,4.0]   |\n",
      "|[80.0,0.0,1.0,14.0,2.81,2.4,0.0,1.0,350.0,70.0,0.0,2.0,8645.0,4.0,3.0,4.0,0.0,3.0]     |\n",
      "|[150.0,0.0,1.0,10.0,1.95,40.0,0.0,0.0,340.0,66.0,1.0,2.0,47259.0,2.0,2.0,2.0,0.0,3.0]  |\n",
      "|[78.8,0.0,0.0,5.0,1.79,40.0,0.0,0.0,271.2,54.24,1.0,1.0,45886.0,2.0,3.0,2.0,0.0,2.0]   |\n",
      "|[210.0,0.0,1.0,19.0,5.06,40.0,1.0,1.0,925.0,96.9,1.0,6.0,85368.0,4.0,4.0,4.0,0.0,4.0]  |\n",
      "|[77.0,0.0,0.0,3.0,1.89,40.0,0.0,1.0,258.0,59.2,0.0,1.0,9366.0,3.0,2.0,3.0,0.0,2.0]     |\n",
      "|[140.0,0.0,1.0,16.0,0.19,40.0,1.0,1.0,345.0,60.0,1.0,2.0,9125.0,2.0,1.0,2.0,0.0,2.0]   |\n",
      "|[219.1,0.0,1.0,8.0,1.61,10.0,1.0,0.0,1068.11,110.0,1.0,7.0,66538.0,3.0,1.0,3.0,0.0,5.0]|\n",
      "|[120.0,0.0,1.0,4.0,1.11,40.0,0.0,1.0,300.0,52.0,0.0,1.0,1809.0,1.0,2.0,1.0,0.0,2.0]    |\n",
      "+---------------------------------------------------------------------------------------+\n",
      "only showing top 20 rows\n",
      "\n"
     ]
    }
   ],
   "source": [
    "df.select(\"features\").show(20,False)"
   ]
  },
  {
   "cell_type": "markdown",
   "metadata": {},
   "source": [
    "# Dividimos el dataset para entrenamiento y prueba"
   ]
  },
  {
   "cell_type": "code",
   "execution_count": 25,
   "metadata": {},
   "outputs": [],
   "source": [
    "train,test = df.randomSplit([0.8,0.2])"
   ]
  },
  {
   "cell_type": "markdown",
   "metadata": {},
   "source": [
    "# Inicamos con el entrenamiento"
   ]
  },
  {
   "cell_type": "code",
   "execution_count": 26,
   "metadata": {},
   "outputs": [],
   "source": [
    "from pyspark.ml.tuning import ParamGridBuilder, CrossValidator\n",
    "from pyspark.ml.evaluation import BinaryClassificationEvaluator"
   ]
  },
  {
   "cell_type": "markdown",
   "metadata": {},
   "source": [
    "## Iniciamos con el algoritmo Linear Regression"
   ]
  },
  {
   "cell_type": "code",
   "execution_count": 27,
   "metadata": {},
   "outputs": [],
   "source": [
    "# Importacion de libs y operaciones\n",
    "from pyspark.ml.regression import LinearRegression\n",
    "lr = LinearRegression()"
   ]
  },
  {
   "cell_type": "code",
   "execution_count": 28,
   "metadata": {},
   "outputs": [],
   "source": [
    "lr_model=lr.fit(train)"
   ]
  },
  {
   "cell_type": "code",
   "execution_count": 29,
   "metadata": {},
   "outputs": [],
   "source": [
    "predictions_df = lr_model.transform(test)"
   ]
  },
  {
   "cell_type": "code",
   "execution_count": 30,
   "metadata": {},
   "outputs": [
    {
     "data": {
      "text/plain": [
       "<pyspark.ml.regression.LinearRegressionSummary at 0x1249f7278>"
      ]
     },
     "execution_count": 30,
     "metadata": {},
     "output_type": "execute_result"
    }
   ],
   "source": [
    "# evaluacion del modelo, le llamaremos model_predictions\n",
    "model_predictions = lr_model.evaluate(test)\n",
    "model_predictions"
   ]
  },
  {
   "cell_type": "markdown",
   "metadata": {},
   "source": [
    "### imprimimos el valor R2:"
   ]
  },
  {
   "cell_type": "code",
   "execution_count": 31,
   "metadata": {},
   "outputs": [
    {
     "data": {
      "text/plain": [
       "0.00931"
      ]
     },
     "execution_count": 31,
     "metadata": {},
     "output_type": "execute_result"
    }
   ],
   "source": [
    "round(float(model_predictions.r2),5)"
   ]
  },
  {
   "cell_type": "markdown",
   "metadata": {},
   "source": [
    "### imprimimos el valor de meanSquaredError"
   ]
  },
  {
   "cell_type": "code",
   "execution_count": 32,
   "metadata": {},
   "outputs": [
    {
     "data": {
      "text/plain": [
       "7202620.28395"
      ]
     },
     "execution_count": 32,
     "metadata": {},
     "output_type": "execute_result"
    }
   ],
   "source": [
    "round(float(model_predictions.meanSquaredError),5)"
   ]
  },
  {
   "cell_type": "markdown",
   "metadata": {},
   "source": [
    "## Probamos el Algoritmo Decision Tree Regressor"
   ]
  },
  {
   "cell_type": "code",
   "execution_count": 33,
   "metadata": {},
   "outputs": [],
   "source": [
    "from pyspark.ml.regression import DecisionTreeRegressor"
   ]
  },
  {
   "cell_type": "code",
   "execution_count": 34,
   "metadata": {},
   "outputs": [],
   "source": [
    "dec_tree = DecisionTreeRegressor()"
   ]
  },
  {
   "cell_type": "code",
   "execution_count": 35,
   "metadata": {},
   "outputs": [],
   "source": [
    "dec_tree_model = dec_tree.fit(train)"
   ]
  },
  {
   "cell_type": "code",
   "execution_count": 36,
   "metadata": {},
   "outputs": [],
   "source": [
    "model_predictions = dec_tree_model.transform(test)"
   ]
  },
  {
   "cell_type": "markdown",
   "metadata": {},
   "source": [
    "Usamos el RegressionEvaluator"
   ]
  },
  {
   "cell_type": "code",
   "execution_count": 37,
   "metadata": {},
   "outputs": [],
   "source": [
    "from pyspark.ml.evaluation import RegressionEvaluator\n"
   ]
  },
  {
   "cell_type": "code",
   "execution_count": 38,
   "metadata": {},
   "outputs": [
    {
     "name": "stdout",
     "output_type": "stream",
     "text": [
      "The r-square value of DecisionTreeRegressor is -4.575\n",
      "The RMSE value of DecisionTreeRegressor is 6366.568\n"
     ]
    }
   ],
   "source": [
    "# R2 value of the model on test data \n",
    "dt_evaluator = RegressionEvaluator(metricName='r2')\n",
    "dt_r2 = dt_evaluator.evaluate(model_predictions)\n",
    "print(f'The r-square value of DecisionTreeRegressor is {round(float(dt_r2),3)}')\n",
    "\n",
    "# RMSE value of the model on test data \n",
    "dt_evaluatorRMSE = RegressionEvaluator(metricName='rmse')\n",
    "dt_RMSE = dt_evaluatorRMSE.evaluate(model_predictions)\n",
    "print(f'The RMSE value of DecisionTreeRegressor is {round(float(dt_RMSE),3)}')"
   ]
  },
  {
   "cell_type": "markdown",
   "metadata": {},
   "source": [
    "## Utilizamos el algoritmo Random Forest Regressor"
   ]
  },
  {
   "cell_type": "code",
   "execution_count": 39,
   "metadata": {},
   "outputs": [],
   "source": [
    "from pyspark.ml.regression import RandomForestRegressor\n",
    "\n",
    "# Regresor \n",
    "Rfr = RandomForestRegressor()\n",
    "# Train model, le llamaremos rf_model\n",
    "rf_model=Rfr.fit(train)\n",
    "# model_predictions\n",
    "model_predictions = rf_model.transform(test)"
   ]
  },
  {
   "cell_type": "markdown",
   "metadata": {},
   "source": [
    "Observamos el reseltado"
   ]
  },
  {
   "cell_type": "code",
   "execution_count": 40,
   "metadata": {},
   "outputs": [
    {
     "name": "stdout",
     "output_type": "stream",
     "text": [
      "The r-square value of DecisionTreeRegressor is -0.634\n",
      "The RMSE value of DecisionTreeRegressor is 3446.225\n"
     ]
    }
   ],
   "source": [
    "# R2 value of the model on test data \n",
    "dt_evaluator = RegressionEvaluator(metricName='r2')\n",
    "dt_r2 = dt_evaluator.evaluate(model_predictions)\n",
    "print(f'The r-square value of DecisionTreeRegressor is {round(float(dt_r2),3)}')\n",
    "\n",
    "# RMSE value of the model on test data \n",
    "dt_evaluatorRMSE = RegressionEvaluator(metricName='rmse')\n",
    "dt_RMSE = dt_evaluatorRMSE.evaluate(model_predictions)\n",
    "print(f'The RMSE value of DecisionTreeRegressor is {round(float(dt_RMSE),3)}')"
   ]
  },
  {
   "cell_type": "markdown",
   "metadata": {},
   "source": [
    "## Utilizamos Gradient-Boosted Tree Regressor¶"
   ]
  },
  {
   "cell_type": "code",
   "execution_count": 41,
   "metadata": {},
   "outputs": [],
   "source": [
    "from pyspark.ml.regression import GBTRegressor\n",
    "gbt = GBTRegressor()\n",
    "gbt_model=gbt.fit(train)\n",
    "model_predictions = gbt_model.transform(test)\n"
   ]
  },
  {
   "cell_type": "code",
   "execution_count": 42,
   "metadata": {},
   "outputs": [
    {
     "name": "stdout",
     "output_type": "stream",
     "text": [
      "The r-square value of DecisionTreeRegressor is -60.553\n",
      "The RMSE value of DecisionTreeRegressor is 21154.393\n"
     ]
    }
   ],
   "source": [
    "#Select (prediction, true label) and compute test error\n",
    "# R2 value of the model on test data \n",
    "dt_evaluator = RegressionEvaluator(metricName='r2')\n",
    "dt_r2 = dt_evaluator.evaluate(model_predictions)\n",
    "print(f'The r-square value of DecisionTreeRegressor is {round(float(dt_r2),3)}')\n",
    "\n",
    "# RMSE value of the model on test data \n",
    "dt_evaluatorRMSE = RegressionEvaluator(metricName='rmse')\n",
    "dt_RMSE = dt_evaluatorRMSE.evaluate(model_predictions)\n",
    "print(f'The RMSE value of DecisionTreeRegressor is {round(float(dt_RMSE),3)}')"
   ]
  },
  {
   "cell_type": "markdown",
   "metadata": {},
   "source": [
    "## Utilizamos Isotonic regression\n"
   ]
  },
  {
   "cell_type": "code",
   "execution_count": 43,
   "metadata": {},
   "outputs": [],
   "source": [
    "from pyspark.ml.regression import IsotonicRegression\n",
    "ir_model = IsotonicRegression().fit(train)\n",
    "model_predictions = ir_model.transform(test)"
   ]
  },
  {
   "cell_type": "code",
   "execution_count": 44,
   "metadata": {},
   "outputs": [
    {
     "name": "stdout",
     "output_type": "stream",
     "text": [
      "The r-square value of DecisionTreeRegressor is -0.002\n",
      "The RMSE value of DecisionTreeRegressor is 2698.949\n"
     ]
    }
   ],
   "source": [
    "#Select (prediction, true label) and compute test error\n",
    "# R2 value of the model on test data \n",
    "dt_evaluator = RegressionEvaluator(metricName='r2')\n",
    "dt_r2 = dt_evaluator.evaluate(model_predictions)\n",
    "print(f'The r-square value of DecisionTreeRegressor is {round(float(dt_r2),3)}')\n",
    "\n",
    "# RMSE value of the model on test data \n",
    "dt_evaluatorRMSE = RegressionEvaluator(metricName='rmse')\n",
    "dt_RMSE = dt_evaluatorRMSE.evaluate(model_predictions)\n",
    "print(f'The RMSE value of DecisionTreeRegressor is {round(float(dt_RMSE),3)}')"
   ]
  },
  {
   "cell_type": "code",
   "execution_count": 45,
   "metadata": {},
   "outputs": [
    {
     "name": "stdout",
     "output_type": "stream",
     "text": [
      "Tiempo Transcurrido en minutos:  2.1971632997194925\n"
     ]
    }
   ],
   "source": [
    "end = time.time()\n",
    "print(\"Tiempo Transcurrido en minutos: \",(end-start)/60)"
   ]
  },
  {
   "cell_type": "markdown",
   "metadata": {},
   "source": [
    "# Conclusión\n",
    "\n",
    "Las pruebas se realizaron con un dataset 30% para validación y 70% para entrenamiento con un total de 168609 registros\n",
    "\n",
    "\n",
    "Como se puede observar con el algoritmo Isotonic Regression presenta un resultado muy deficiente, \n",
    "\n",
    "En cuanto a los modelos  Gradient-Boosted Tree Regressor y Decision Tree Regressor el R_2 presenta un muy buen resultado, sin ser mayormente intervenido con hyperparametros por lo cual se descartan pensando que presentan overfitting\n",
    "\n",
    "Para el caso de los modelos con los algoritmos Random Forest Regressor y Linear Regression presentan el resultado R_2 con un resultado elevado pero no tanto como los mencionadas anteriormente.\n",
    "\n",
    "Por lo tanto se realizara en otra Jupyternote la optimización del algortimo Random Forest Regressor, que es un algoritmo mas complejo que puede permitir una mejor modelo de predicción"
   ]
  },
  {
   "cell_type": "code",
   "execution_count": null,
   "metadata": {},
   "outputs": [],
   "source": []
  }
 ],
 "metadata": {
  "kernelspec": {
   "display_name": "Python 3",
   "language": "python",
   "name": "python3"
  },
  "language_info": {
   "codemirror_mode": {
    "name": "ipython",
    "version": 3
   },
   "file_extension": ".py",
   "mimetype": "text/x-python",
   "name": "python",
   "nbconvert_exporter": "python",
   "pygments_lexer": "ipython3",
   "version": "3.6.9"
  }
 },
 "nbformat": 4,
 "nbformat_minor": 2
}
