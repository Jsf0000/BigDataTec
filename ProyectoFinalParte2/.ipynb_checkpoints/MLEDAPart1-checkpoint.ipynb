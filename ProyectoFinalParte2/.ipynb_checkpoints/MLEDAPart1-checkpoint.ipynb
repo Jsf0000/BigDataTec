{
 "cells": [
  {
   "cell_type": "markdown",
   "metadata": {},
   "source": [
    "Estudiantes:\n",
    "\n",
    "    Jason Solano\n",
    "    \n",
    "    Percy Herrera"
   ]
  },
  {
   "cell_type": "code",
   "execution_count": null,
   "metadata": {},
   "outputs": [],
   "source": []
  },
  {
   "cell_type": "markdown",
   "metadata": {},
   "source": [
    "# Descripción del Dataset:\n",
    "\n",
    "Para el dataset se evalue el siguiente caso en la plataforma Kaggle:\n",
    "\n",
    "https://www.kaggle.com/corrieaar/apartment-rental-offers-in-germany/data#\n",
    "\n",
    "El dataset consite en poder visualizar el precio total de la renta de una region determinada en Alemania por medio de las siguientes variables, como se puede observar es un problema de regression.\n",
    "\n",
    "\n",
    "Consiste en las siguientes variables:\n",
    "\n",
    "**regio1:** \n",
    "Bundesland\n",
    "\n",
    "**serviceChargeaucilliary:** \n",
    "costs such as electricty or internet in €\n",
    "\n",
    "**heatingType:** \n",
    "Type of heating\n",
    "\n",
    "**telekomTvOfferIs:**\n",
    "payed TV included if so which offer\n",
    "\n",
    "**telekomHybridUploadSpeedhow:**  \n",
    "fast is the hybrid inter upload speed\n",
    "\n",
    "**newlyConstis:**\n",
    "the building newly constructed\n",
    "\n",
    "**balconydoes:**\n",
    "the object have a balcony\n",
    "\n",
    "**electricityBasePricemonthly:**\n",
    "base price for electricity in €\n",
    "\n",
    "**picturecounthow:**\n",
    "many pictures were uploaded to the listing\n",
    "\n",
    "**pricetrendpriceL:**\n",
    "trend as calculated by Immoscout\n",
    "\n",
    "**telekomUploadSpeedhow:**\n",
    "fast is the internet upload speed\n",
    "\n",
    "**totalRenttotal:**\n",
    "rent (usually a sum of base rent, service charge and heating cost)\n",
    "\n",
    "**yearConstructedconstruction:**\n",
    "year\n",
    "\n",
    "**electricityKwhPriceelectricity:**\n",
    "price per kwh\n",
    "\n",
    "**scoutIdimmoscout:**\n",
    "Id\n",
    "\n",
    "**noParkSpaces:**\n",
    "number of parking spaces\n",
    "\n",
    "**firingTypes:** \n",
    "main energy sources, separated by colon\n",
    "\n",
    "**hasKitchen:** \n",
    "has a kitchen\n",
    "\n",
    "**geo_bln:** \n",
    "bundesland, same as regio1\n",
    "\n",
    "**cellar:**\n",
    "has a cellar\n",
    "\n",
    "**yearConstructedRange:**\n",
    "binned construction year, 1 to 9\n",
    "\n",
    "**baseRentbase:**\n",
    "rent without electricity and heating\n",
    "\n",
    "**houseNumber**\n",
    "house number\n",
    "\n",
    "**livingSpace:**\n",
    "living space in sqm\n",
    "\n",
    "**geo_krs:** \n",
    "district, above ZIP code\n",
    "\n",
    "**condition:** \n",
    "condition of the flat\n",
    "\n",
    "**interiorQual** \n",
    "interior quality\n",
    "\n",
    "**petsAllowed** \n",
    "are pets allowed, can be yes, no or negotiable\n",
    "\n",
    "**streetPlain** \n",
    "street name\n",
    "\n",
    "**lift** is elevator available\n",
    "\n",
    "**baseRentRange:** \n",
    "binned base rent, 1 to 9\n",
    "\n",
    "**typeOfFlat:**\n",
    "type of flat\n",
    "\n",
    "**geo_plz:**\n",
    "ZIP code\n",
    "\n",
    "**noRooms:**\n",
    "number of rooms\n",
    "\n",
    "**thermalChar:**\n",
    "energy need in kWh/(m^2a), defines the energy efficiency class\n",
    "\n",
    "**floor:** which floor is the flat on\n",
    "\n",
    "**numberOfFloor:** snumber of floors in the building\n",
    "\n",
    "**noRoomsRange** \n",
    "binned number of rooms, 1 to 5\n",
    "\n",
    "**garden**\n",
    "has a garden\n",
    "\n",
    "**livingSpaceRange** \n",
    "binned living space, 1 to 7\n",
    "\n",
    "**regio2** \n",
    "District or Kreis, same as geo krs\n",
    "\n",
    "**regio3** \n",
    "City/town\n",
    "\n",
    "**description**\n",
    "free text description of the object\n",
    "\n",
    "**facilities** \n",
    "free text description about available facilities\n",
    "\n",
    "**heatingCosts** \n",
    "monthly heating costs in €\n",
    "\n",
    "**energyEfficiencyClass:**\n",
    "class (based on binned thermalChar)\n",
    "\n",
    "**lastRefurbish:**\n",
    "year of last renovation\n",
    "\n",
    "**date:**\n",
    "time of scraping"
   ]
  },
  {
   "cell_type": "markdown",
   "metadata": {},
   "source": [
    "# Procesamiento de Datos"
   ]
  },
  {
   "cell_type": "markdown",
   "metadata": {},
   "source": [
    "### Debido a un problema de la libreria de pyspark confunde datos de las columnas: 'Description' y 'facilities' ambas columnas contienen datos de descripciones y beneficios de la vivienda para la renta, por lo cual no es muy beneficioso para los algoritmos que utilizaremos, a no ser que se intente utilizar algoritmos NLP, los cuales salen del alcance de dicho ejercicio.\n",
    "\n",
    "\n",
    "### Se utilizara Pandas para eliminar dichas columnas"
   ]
  },
  {
   "cell_type": "code",
   "execution_count": 10,
   "metadata": {},
   "outputs": [],
   "source": [
    "import pandas as pd\n",
    "file = pd.read_csv('immo_data.csv')\n",
    "del file['description']\n",
    "del file['facilities']\n",
    "file.dtypes\n",
    "file.to_csv('immo_dataML.csv',sep=';')"
   ]
  },
  {
   "cell_type": "markdown",
   "metadata": {},
   "source": [
    "### Utilizamos pyspark para tratar las otras variables"
   ]
  },
  {
   "cell_type": "markdown",
   "metadata": {},
   "source": [
    "Importamos la librerias requeridas y la configuración para conectar con postgres"
   ]
  },
  {
   "cell_type": "code",
   "execution_count": 12,
   "metadata": {},
   "outputs": [],
   "source": [
    "import findspark\n",
    "findspark.init('/opt/spark')\n",
    "\n",
    "from datetime import datetime\n",
    "from pyspark.sql import SparkSession\n",
    "from pyspark.sql.functions import col, date_format, udf \n",
    "from pyspark.sql.types import DateType\n",
    "\n",
    "#path del archivo postgresql-42.1.4.jar\n",
    "dir = \"/Users/jasonsolano/Documents/BigData/BigDataTEC/Clase1/DB/\"\n",
    "spark = SparkSession \\\n",
    "    .builder \\\n",
    "    .appName(\"Basic JDBC pipeline\") \\\n",
    "    .config(\"spark.driver.extraClassPath\", dir+\"postgresql-42.1.4.jar\") \\\n",
    "    .config(\"spark.executor.extraClassPath\", dir+\"postgresql-42.1.4.jar\") \\\n",
    "    .getOrCreate()"
   ]
  },
  {
   "cell_type": "markdown",
   "metadata": {},
   "source": [
    "Leamos la tabla  apartmentrental que contiene los atributos necesarios para guardar los archivos del CVS"
   ]
  },
  {
   "cell_type": "code",
   "execution_count": 13,
   "metadata": {},
   "outputs": [
    {
     "name": "stdout",
     "output_type": "stream",
     "text": [
      "+-------+--------+-------------+------+---------+--------------------+-------------------+---------------------+-----------+-----+------+-------+-------+-------+----------+-----------+------------+-----------+---+------------+-------------+----+-----------+----------------+----------+------------+-------+------------+--------------+-----------+------------+----------+------+------+------+-------+-------------+-----------+------------------------+--------------+------------------+-----------+---------+----------+---------------+--------------------+----+\n",
      "|balcony|baserent|baserentrange|cellar|condition|electricitybaseprice|electricitykwhprice|energyefficiencyclass|firingtypes|floor|garden|geo_bln|geo_krs|geo_plz|haskitchen|heatingtype|heatingcosts|housenumber| id|interiorqual|lastrefurbish|lift|livingspace|livingspacerange|newlyconst|noparkspaces|norooms|noroomsrange|numberoffloors|petsallowed|picturecount|pricetrend|regio1|regio2|regio3|scoutid|servicecharge|streetplain|telekomhybriduploadspeed|telekomtvoffer|telekomuploadspeed|thermalchar|totalrent|typeofflat|yearconstructed|yearconstructedrange|date|\n",
      "+-------+--------+-------------+------+---------+--------------------+-------------------+---------------------+-----------+-----+------+-------+-------+-------+----------+-----------+------------+-----------+---+------------+-------------+----+-----------+----------------+----------+------------+-------+------------+--------------+-----------+------------+----------+------+------+------+-------+-------------+-----------+------------------------+--------------+------------------+-----------+---------+----------+---------------+--------------------+----+\n",
      "+-------+--------+-------------+------+---------+--------------------+-------------------+---------------------+-----------+-----+------+-------+-------+-------+----------+-----------+------------+-----------+---+------------+-------------+----+-----------+----------------+----------+------------+-------+------------+--------------+-----------+------------+----------+------+------+------+-------+-------------+-----------+------------------------+--------------+------------------+-----------+---------+----------+---------------+--------------------+----+\n",
      "\n"
     ]
    }
   ],
   "source": [
    "dfT = spark \\\n",
    "    .read \\\n",
    "    .format(\"jdbc\") \\\n",
    "    .option(\"url\", \"jdbc:postgresql://localhost/ImmoDataBase\") \\\n",
    "    .option(\"user\", \"postgres\") \\\n",
    "    .option(\"password\", \"102800\") \\\n",
    "    .option(\"dbtable\", \"apartmentrental\") \\\n",
    "    .load()\n",
    "\n",
    "dfT.show()"
   ]
  },
  {
   "cell_type": "raw",
   "metadata": {},
   "source": [
    "Para crear la tabla en postgres utilizamos el siguiente script:\n",
    "###\n",
    "CREATE TABLE ApartmentRental\n",
    "(\n",
    "    balcony boolean,\n",
    "    baseRent double precision,\n",
    "    baseRentRange integer,\n",
    "    cellar boolean,\n",
    "    condition text,\n",
    "    electricityBasePrice double precision,\n",
    "    electricityKwhPrice double precision,\n",
    "    energyEfficiencyClass text,\n",
    "    firingTypes text,\n",
    "    floor double precision,\n",
    "    garden boolean,\n",
    "    geo_bln text,\n",
    "    geo_krs text,\n",
    "    geo_plz integer,\n",
    "    hasKitchen boolean,\n",
    "    heatingType text,\n",
    "    heatingCosts double precision,\n",
    "    houseNumber text,\n",
    "    id SERIAL primary key,\n",
    "    interiorQual text,\n",
    "    lastRefurbish double precision,\n",
    "    lift boolean,\n",
    "    livingSpace double precision,\n",
    "    livingSpaceRange integer,\n",
    "    newlyConst boolean,\n",
    "    noParkSpaces double precision,\n",
    "    noRooms double precision,\n",
    "    noRoomsRange integer,\n",
    "    numberOfFloors double precision,\n",
    "    petsAllowed text,\n",
    "    picturecount integer,\n",
    "    pricetrend double precision,\n",
    "    regio1 text,\n",
    "    regio2 text,\n",
    "    regio3 text,\n",
    "    scoutId integer,\n",
    "    serviceCharge double precision,\n",
    "    streetPlain text,\n",
    "    telekomHybridUploadSpeed double precision,\n",
    "    telekomTvOffer text,\n",
    "    telekomUploadSpeed double precision,\n",
    "    thermalChar double precision,\n",
    "    totalRent double precision,\n",
    "    typeOfFlat text,\n",
    "    yearConstructed double precision,\n",
    "    yearConstructedRange double precision,\n",
    "    date text\n",
    ")\n",
    "###"
   ]
  },
  {
   "cell_type": "markdown",
   "metadata": {},
   "source": [
    "### Se lee el CSV que habia sido procesado por pandas con la libreria pyspark"
   ]
  },
  {
   "cell_type": "code",
   "execution_count": 14,
   "metadata": {},
   "outputs": [],
   "source": [
    "#read the dataset\n",
    "session=SparkSession.builder.appName('EDAPart1').getOrCreate()\n",
    "df=session.read.options(delimiter=';').csv('immo_dataML.csv',header=True,inferSchema =True)\n",
    "# dicha columna es generada por pardas, por eso se borra\n",
    "columns_to_drop = ['_c0']\n",
    "df = df.drop(*columns_to_drop)\n"
   ]
  },
  {
   "cell_type": "code",
   "execution_count": 15,
   "metadata": {},
   "outputs": [
    {
     "name": "stdout",
     "output_type": "stream",
     "text": [
      "root\n",
      " |-- regio1: string (nullable = true)\n",
      " |-- serviceCharge: double (nullable = true)\n",
      " |-- heatingType: string (nullable = true)\n",
      " |-- telekomTvOffer: string (nullable = true)\n",
      " |-- telekomHybridUploadSpeed: double (nullable = true)\n",
      " |-- newlyConst: boolean (nullable = true)\n",
      " |-- balcony: boolean (nullable = true)\n",
      " |-- electricityBasePrice: double (nullable = true)\n",
      " |-- picturecount: integer (nullable = true)\n",
      " |-- pricetrend: double (nullable = true)\n",
      " |-- telekomUploadSpeed: double (nullable = true)\n",
      " |-- totalRent: double (nullable = true)\n",
      " |-- yearConstructed: double (nullable = true)\n",
      " |-- electricityKwhPrice: double (nullable = true)\n",
      " |-- scoutId: integer (nullable = true)\n",
      " |-- noParkSpaces: double (nullable = true)\n",
      " |-- firingTypes: string (nullable = true)\n",
      " |-- hasKitchen: boolean (nullable = true)\n",
      " |-- geo_bln: string (nullable = true)\n",
      " |-- cellar: boolean (nullable = true)\n",
      " |-- yearConstructedRange: double (nullable = true)\n",
      " |-- baseRent: double (nullable = true)\n",
      " |-- houseNumber: string (nullable = true)\n",
      " |-- livingSpace: double (nullable = true)\n",
      " |-- geo_krs: string (nullable = true)\n",
      " |-- condition: string (nullable = true)\n",
      " |-- interiorQual: string (nullable = true)\n",
      " |-- petsAllowed: string (nullable = true)\n",
      " |-- streetPlain: string (nullable = true)\n",
      " |-- lift: boolean (nullable = true)\n",
      " |-- baseRentRange: integer (nullable = true)\n",
      " |-- typeOfFlat: string (nullable = true)\n",
      " |-- geo_plz: integer (nullable = true)\n",
      " |-- noRooms: double (nullable = true)\n",
      " |-- thermalChar: double (nullable = true)\n",
      " |-- floor: double (nullable = true)\n",
      " |-- numberOfFloors: double (nullable = true)\n",
      " |-- noRoomsRange: integer (nullable = true)\n",
      " |-- garden: boolean (nullable = true)\n",
      " |-- livingSpaceRange: integer (nullable = true)\n",
      " |-- regio2: string (nullable = true)\n",
      " |-- regio3: string (nullable = true)\n",
      " |-- heatingCosts: double (nullable = true)\n",
      " |-- energyEfficiencyClass: string (nullable = true)\n",
      " |-- lastRefurbish: double (nullable = true)\n",
      " |-- date: string (nullable = true)\n",
      "\n"
     ]
    }
   ],
   "source": [
    "df.printSchema()"
   ]
  },
  {
   "cell_type": "markdown",
   "metadata": {},
   "source": [
    "### Escribimos los datos en la tabla de postgres"
   ]
  },
  {
   "cell_type": "code",
   "execution_count": 16,
   "metadata": {},
   "outputs": [],
   "source": [
    "df.write.format('jdbc').options(\n",
    "      url='jdbc:postgresql://localhost/ImmoDataBase',\n",
    "      dbtable='apartmentrental',\n",
    "      user='postgres',\n",
    "      password='102800').mode('overwrite').save()"
   ]
  },
  {
   "cell_type": "code",
   "execution_count": 8,
   "metadata": {},
   "outputs": [],
   "source": []
  },
  {
   "cell_type": "markdown",
   "metadata": {},
   "source": []
  },
  {
   "cell_type": "code",
   "execution_count": null,
   "metadata": {},
   "outputs": [],
   "source": []
  },
  {
   "cell_type": "code",
   "execution_count": null,
   "metadata": {},
   "outputs": [],
   "source": []
  },
  {
   "cell_type": "code",
   "execution_count": null,
   "metadata": {},
   "outputs": [],
   "source": []
  },
  {
   "cell_type": "code",
   "execution_count": null,
   "metadata": {},
   "outputs": [],
   "source": []
  },
  {
   "cell_type": "code",
   "execution_count": null,
   "metadata": {},
   "outputs": [],
   "source": []
  },
  {
   "cell_type": "code",
   "execution_count": null,
   "metadata": {},
   "outputs": [],
   "source": []
  },
  {
   "cell_type": "code",
   "execution_count": null,
   "metadata": {},
   "outputs": [],
   "source": []
  },
  {
   "cell_type": "code",
   "execution_count": null,
   "metadata": {},
   "outputs": [],
   "source": []
  },
  {
   "cell_type": "code",
   "execution_count": null,
   "metadata": {},
   "outputs": [],
   "source": []
  }
 ],
 "metadata": {
  "kernelspec": {
   "display_name": "Python 3",
   "language": "python",
   "name": "python3"
  },
  "language_info": {
   "codemirror_mode": {
    "name": "ipython",
    "version": 3
   },
   "file_extension": ".py",
   "mimetype": "text/x-python",
   "name": "python",
   "nbconvert_exporter": "python",
   "pygments_lexer": "ipython3",
   "version": "3.6.9"
  }
 },
 "nbformat": 4,
 "nbformat_minor": 2
}
