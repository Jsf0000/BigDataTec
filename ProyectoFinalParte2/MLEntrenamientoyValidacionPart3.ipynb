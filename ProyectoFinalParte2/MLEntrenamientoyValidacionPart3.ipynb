{
 "cells": [
  {
   "cell_type": "markdown",
   "metadata": {},
   "source": [
    "Importamos las librerias necesarias"
   ]
  },
  {
   "cell_type": "code",
   "execution_count": 1,
   "metadata": {},
   "outputs": [],
   "source": [
    "import findspark\n",
    "findspark.init('/opt/spark')\n",
    "\n",
    "from datetime import datetime\n",
    "from pyspark.sql import SparkSession\n",
    "from pyspark.sql.functions import col, date_format, udf \n",
    "from pyspark.sql.types import DateType\n",
    "from pyspark.sql import Window\n",
    "import pyspark.sql.functions as F\n",
    "import numpy as np\n",
    "from pyspark.ml.feature import MinMaxScaler\n",
    "from pyspark.ml.feature import VectorAssembler\n",
    "from pyspark.ml import Pipeline\n",
    "from pyspark.sql.functions import udf\n",
    "from pyspark.sql.types import DoubleType\n",
    "from pyspark.ml.feature import OneHotEncoder, StringIndexer, VectorAssembler\n",
    "import time\n",
    "\n",
    "\n",
    "#path del archivo postgresql-42.1.4.jar\n",
    "dir = \"/Users/jasonsolano/Documents/BigData/BigDataTEC/Clase1/DB/\"\n",
    "spark = SparkSession \\\n",
    "    .builder \\\n",
    "    .appName(\"Basic JDBC pipeline\") \\\n",
    "    .config(\"spark.driver.extraClassPath\", dir+\"postgresql-42.1.4.jar\") \\\n",
    "    .config(\"spark.executor.extraClassPath\", dir+\"postgresql-42.1.4.jar\") \\\n",
    "    .getOrCreate()\n",
    "\n",
    "start = time.time()"
   ]
  },
  {
   "cell_type": "markdown",
   "metadata": {},
   "source": [
    "Importamos los datos limpios de postgres"
   ]
  },
  {
   "cell_type": "code",
   "execution_count": 2,
   "metadata": {},
   "outputs": [
    {
     "data": {
      "text/html": [
       "<div>\n",
       "<style scoped>\n",
       "    .dataframe tbody tr th:only-of-type {\n",
       "        vertical-align: middle;\n",
       "    }\n",
       "\n",
       "    .dataframe tbody tr th {\n",
       "        vertical-align: top;\n",
       "    }\n",
       "\n",
       "    .dataframe thead th {\n",
       "        text-align: right;\n",
       "    }\n",
       "</style>\n",
       "<table border=\"1\" class=\"dataframe\">\n",
       "  <thead>\n",
       "    <tr style=\"text-align: right;\">\n",
       "      <th></th>\n",
       "      <th>regio1</th>\n",
       "      <th>serviceCharge</th>\n",
       "      <th>heatingType</th>\n",
       "      <th>telekomTvOffer</th>\n",
       "      <th>newlyConst</th>\n",
       "      <th>balcony</th>\n",
       "      <th>picturecount</th>\n",
       "      <th>pricetrend</th>\n",
       "      <th>telekomUploadSpeed</th>\n",
       "      <th>totalRent</th>\n",
       "      <th>...</th>\n",
       "      <th>typeOfFlat</th>\n",
       "      <th>geo_plz</th>\n",
       "      <th>noRooms</th>\n",
       "      <th>floor</th>\n",
       "      <th>noRoomsRange</th>\n",
       "      <th>garden</th>\n",
       "      <th>livingSpaceRange</th>\n",
       "      <th>regio2</th>\n",
       "      <th>regio3</th>\n",
       "      <th>date</th>\n",
       "    </tr>\n",
       "  </thead>\n",
       "  <tbody>\n",
       "    <tr>\n",
       "      <td>0</td>\n",
       "      <td>Nordrhein_Westfalen</td>\n",
       "      <td>100.00</td>\n",
       "      <td>central_heating</td>\n",
       "      <td>ONE_YEAR_FREE</td>\n",
       "      <td>False</td>\n",
       "      <td>False</td>\n",
       "      <td>29</td>\n",
       "      <td>3.52</td>\n",
       "      <td>2.4</td>\n",
       "      <td>429.00</td>\n",
       "      <td>...</td>\n",
       "      <td>ground_floor</td>\n",
       "      <td>45329</td>\n",
       "      <td>2.0</td>\n",
       "      <td>0.0</td>\n",
       "      <td>2</td>\n",
       "      <td>False</td>\n",
       "      <td>2</td>\n",
       "      <td>Essen</td>\n",
       "      <td>Karnap</td>\n",
       "      <td>May19</td>\n",
       "    </tr>\n",
       "    <tr>\n",
       "      <td>1</td>\n",
       "      <td>Nordrhein_Westfalen</td>\n",
       "      <td>84.00</td>\n",
       "      <td>central_heating</td>\n",
       "      <td>ONE_YEAR_FREE</td>\n",
       "      <td>False</td>\n",
       "      <td>True</td>\n",
       "      <td>4</td>\n",
       "      <td>4.92</td>\n",
       "      <td>2.4</td>\n",
       "      <td>578.00</td>\n",
       "      <td>...</td>\n",
       "      <td>roof_storey</td>\n",
       "      <td>48282</td>\n",
       "      <td>3.0</td>\n",
       "      <td>2.0</td>\n",
       "      <td>3</td>\n",
       "      <td>False</td>\n",
       "      <td>3</td>\n",
       "      <td>Steinfurt_Kreis</td>\n",
       "      <td>Emsdetten</td>\n",
       "      <td>Sep18</td>\n",
       "    </tr>\n",
       "    <tr>\n",
       "      <td>2</td>\n",
       "      <td>Nordrhein_Westfalen</td>\n",
       "      <td>115.00</td>\n",
       "      <td>night_storage_heater</td>\n",
       "      <td>ONE_YEAR_FREE</td>\n",
       "      <td>False</td>\n",
       "      <td>False</td>\n",
       "      <td>11</td>\n",
       "      <td>4.69</td>\n",
       "      <td>40.0</td>\n",
       "      <td>365.00</td>\n",
       "      <td>...</td>\n",
       "      <td>roof_storey</td>\n",
       "      <td>46242</td>\n",
       "      <td>3.0</td>\n",
       "      <td>3.0</td>\n",
       "      <td>3</td>\n",
       "      <td>False</td>\n",
       "      <td>2</td>\n",
       "      <td>Bottrop</td>\n",
       "      <td>Lehmkuhle</td>\n",
       "      <td>Sep18</td>\n",
       "    </tr>\n",
       "    <tr>\n",
       "      <td>3</td>\n",
       "      <td>Sachsen_Anhalt</td>\n",
       "      <td>33.00</td>\n",
       "      <td>self_contained_central_heating</td>\n",
       "      <td>ONE_YEAR_FREE</td>\n",
       "      <td>False</td>\n",
       "      <td>False</td>\n",
       "      <td>9</td>\n",
       "      <td>0.93</td>\n",
       "      <td>40.0</td>\n",
       "      <td>358.00</td>\n",
       "      <td>...</td>\n",
       "      <td>roof_storey</td>\n",
       "      <td>39218</td>\n",
       "      <td>2.0</td>\n",
       "      <td>0.0</td>\n",
       "      <td>2</td>\n",
       "      <td>False</td>\n",
       "      <td>2</td>\n",
       "      <td>Salzlandkreis</td>\n",
       "      <td>Schönebeck_Elbe</td>\n",
       "      <td>May19</td>\n",
       "    </tr>\n",
       "    <tr>\n",
       "      <td>4</td>\n",
       "      <td>Sachsen</td>\n",
       "      <td>169.75</td>\n",
       "      <td>gas_heating</td>\n",
       "      <td>ONE_YEAR_FREE</td>\n",
       "      <td>False</td>\n",
       "      <td>True</td>\n",
       "      <td>9</td>\n",
       "      <td>-1.89</td>\n",
       "      <td>2.4</td>\n",
       "      <td>449.49</td>\n",
       "      <td>...</td>\n",
       "      <td>apartment</td>\n",
       "      <td>9126</td>\n",
       "      <td>2.0</td>\n",
       "      <td>2.0</td>\n",
       "      <td>2</td>\n",
       "      <td>False</td>\n",
       "      <td>2</td>\n",
       "      <td>Chemnitz</td>\n",
       "      <td>Bernsdorf</td>\n",
       "      <td>May19</td>\n",
       "    </tr>\n",
       "  </tbody>\n",
       "</table>\n",
       "<p>5 rows × 31 columns</p>\n",
       "</div>"
      ],
      "text/plain": [
       "                regio1  serviceCharge                     heatingType  \\\n",
       "0  Nordrhein_Westfalen         100.00                 central_heating   \n",
       "1  Nordrhein_Westfalen          84.00                 central_heating   \n",
       "2  Nordrhein_Westfalen         115.00            night_storage_heater   \n",
       "3       Sachsen_Anhalt          33.00  self_contained_central_heating   \n",
       "4              Sachsen         169.75                     gas_heating   \n",
       "\n",
       "  telekomTvOffer  newlyConst  balcony  picturecount  pricetrend  \\\n",
       "0  ONE_YEAR_FREE       False    False            29        3.52   \n",
       "1  ONE_YEAR_FREE       False     True             4        4.92   \n",
       "2  ONE_YEAR_FREE       False    False            11        4.69   \n",
       "3  ONE_YEAR_FREE       False    False             9        0.93   \n",
       "4  ONE_YEAR_FREE       False     True             9       -1.89   \n",
       "\n",
       "   telekomUploadSpeed  totalRent  ...    typeOfFlat  geo_plz noRooms  floor  \\\n",
       "0                 2.4     429.00  ...  ground_floor    45329     2.0    0.0   \n",
       "1                 2.4     578.00  ...   roof_storey    48282     3.0    2.0   \n",
       "2                40.0     365.00  ...   roof_storey    46242     3.0    3.0   \n",
       "3                40.0     358.00  ...   roof_storey    39218     2.0    0.0   \n",
       "4                 2.4     449.49  ...     apartment     9126     2.0    2.0   \n",
       "\n",
       "   noRoomsRange  garden  livingSpaceRange           regio2           regio3  \\\n",
       "0             2   False                 2            Essen           Karnap   \n",
       "1             3   False                 3  Steinfurt_Kreis        Emsdetten   \n",
       "2             3   False                 2          Bottrop        Lehmkuhle   \n",
       "3             2   False                 2    Salzlandkreis  Schönebeck_Elbe   \n",
       "4             2   False                 2         Chemnitz        Bernsdorf   \n",
       "\n",
       "    date  \n",
       "0  May19  \n",
       "1  Sep18  \n",
       "2  Sep18  \n",
       "3  May19  \n",
       "4  May19  \n",
       "\n",
       "[5 rows x 31 columns]"
      ]
     },
     "execution_count": 2,
     "metadata": {},
     "output_type": "execute_result"
    }
   ],
   "source": [
    "df = spark \\\n",
    "    .read \\\n",
    "    .format(\"jdbc\") \\\n",
    "    .option(\"url\", \"jdbc:postgresql://localhost/ImmoDataBase\") \\\n",
    "    .option(\"user\", \"postgres\") \\\n",
    "    .option(\"password\", \"102800\") \\\n",
    "    .option(\"dbtable\", \"apartmentrentalclean\") \\\n",
    "    .load()\n",
    "\n",
    "df.limit(5).toPandas().head()"
   ]
  },
  {
   "cell_type": "markdown",
   "metadata": {},
   "source": [
    "Se imprime el esquema"
   ]
  },
  {
   "cell_type": "code",
   "execution_count": 3,
   "metadata": {},
   "outputs": [
    {
     "name": "stdout",
     "output_type": "stream",
     "text": [
      "root\n",
      " |-- regio1: string (nullable = true)\n",
      " |-- serviceCharge: double (nullable = true)\n",
      " |-- heatingType: string (nullable = true)\n",
      " |-- telekomTvOffer: string (nullable = true)\n",
      " |-- newlyConst: boolean (nullable = true)\n",
      " |-- balcony: boolean (nullable = true)\n",
      " |-- picturecount: integer (nullable = true)\n",
      " |-- pricetrend: double (nullable = true)\n",
      " |-- telekomUploadSpeed: double (nullable = true)\n",
      " |-- totalRent: double (nullable = true)\n",
      " |-- firingTypes: string (nullable = true)\n",
      " |-- hasKitchen: boolean (nullable = true)\n",
      " |-- geo_bln: string (nullable = true)\n",
      " |-- cellar: boolean (nullable = true)\n",
      " |-- yearConstructedRange: double (nullable = true)\n",
      " |-- baseRent: double (nullable = true)\n",
      " |-- livingSpace: double (nullable = true)\n",
      " |-- geo_krs: string (nullable = true)\n",
      " |-- condition: string (nullable = true)\n",
      " |-- lift: boolean (nullable = true)\n",
      " |-- baseRentRange: integer (nullable = true)\n",
      " |-- typeOfFlat: string (nullable = true)\n",
      " |-- geo_plz: integer (nullable = true)\n",
      " |-- noRooms: double (nullable = true)\n",
      " |-- floor: double (nullable = true)\n",
      " |-- noRoomsRange: integer (nullable = true)\n",
      " |-- garden: boolean (nullable = true)\n",
      " |-- livingSpaceRange: integer (nullable = true)\n",
      " |-- regio2: string (nullable = true)\n",
      " |-- regio3: string (nullable = true)\n",
      " |-- date: string (nullable = true)\n",
      "\n"
     ]
    }
   ],
   "source": [
    "df.printSchema()"
   ]
  },
  {
   "cell_type": "markdown",
   "metadata": {},
   "source": [
    "Creamos la siguiente función para normalizar las columnas numericas"
   ]
  },
  {
   "cell_type": "code",
   "execution_count": 4,
   "metadata": {},
   "outputs": [],
   "source": [
    "def normalizeColumn(df,listColumnName):\n",
    "    unlist = udf(lambda x: round(float(list(x)[0]),5), DoubleType())\n",
    "\n",
    "    for i in listColumnName:\n",
    "       \n",
    "        assembler = VectorAssembler(inputCols=[i],outputCol=i+\"_Vect\")\n",
    "\n",
    "        scaler = MinMaxScaler(inputCol=i+\"_Vect\", outputCol=i+\"_Scaled\")\n",
    "\n",
    "        pipeline = Pipeline(stages=[assembler, scaler])\n",
    "        df = pipeline.fit(df).transform(df).withColumn(i, unlist(i+\"_Scaled\")).drop(i+\"_Vect\")\n",
    "        df = df.drop(i+\"_Scaled\")\n",
    "    return df\n"
   ]
  },
  {
   "cell_type": "markdown",
   "metadata": {},
   "source": [
    "Probamos la funcion para la normalización con solo una columna\n",
    "\n",
    "Primero vemos la columna serviceCharge sin normalización"
   ]
  },
  {
   "cell_type": "code",
   "execution_count": 5,
   "metadata": {},
   "outputs": [
    {
     "data": {
      "text/html": [
       "<div>\n",
       "<style scoped>\n",
       "    .dataframe tbody tr th:only-of-type {\n",
       "        vertical-align: middle;\n",
       "    }\n",
       "\n",
       "    .dataframe tbody tr th {\n",
       "        vertical-align: top;\n",
       "    }\n",
       "\n",
       "    .dataframe thead th {\n",
       "        text-align: right;\n",
       "    }\n",
       "</style>\n",
       "<table border=\"1\" class=\"dataframe\">\n",
       "  <thead>\n",
       "    <tr style=\"text-align: right;\">\n",
       "      <th></th>\n",
       "      <th>serviceCharge</th>\n",
       "      <th>count</th>\n",
       "      <th>perc_of_count_total</th>\n",
       "    </tr>\n",
       "  </thead>\n",
       "  <tbody>\n",
       "    <tr>\n",
       "      <td>0</td>\n",
       "      <td>150.00</td>\n",
       "      <td>9009</td>\n",
       "      <td>0.053431</td>\n",
       "    </tr>\n",
       "    <tr>\n",
       "      <td>1</td>\n",
       "      <td>100.00</td>\n",
       "      <td>8066</td>\n",
       "      <td>0.047838</td>\n",
       "    </tr>\n",
       "    <tr>\n",
       "      <td>2</td>\n",
       "      <td>200.00</td>\n",
       "      <td>6811</td>\n",
       "      <td>0.040395</td>\n",
       "    </tr>\n",
       "    <tr>\n",
       "      <td>3</td>\n",
       "      <td>120.00</td>\n",
       "      <td>6615</td>\n",
       "      <td>0.039233</td>\n",
       "    </tr>\n",
       "    <tr>\n",
       "      <td>4</td>\n",
       "      <td>130.00</td>\n",
       "      <td>4809</td>\n",
       "      <td>0.028522</td>\n",
       "    </tr>\n",
       "    <tr>\n",
       "      <td>5</td>\n",
       "      <td>140.00</td>\n",
       "      <td>4587</td>\n",
       "      <td>0.027205</td>\n",
       "    </tr>\n",
       "    <tr>\n",
       "      <td>6</td>\n",
       "      <td>180.00</td>\n",
       "      <td>4202</td>\n",
       "      <td>0.024922</td>\n",
       "    </tr>\n",
       "    <tr>\n",
       "      <td>7</td>\n",
       "      <td>80.00</td>\n",
       "      <td>4148</td>\n",
       "      <td>0.024601</td>\n",
       "    </tr>\n",
       "    <tr>\n",
       "      <td>8</td>\n",
       "      <td>110.00</td>\n",
       "      <td>3927</td>\n",
       "      <td>0.023291</td>\n",
       "    </tr>\n",
       "    <tr>\n",
       "      <td>9</td>\n",
       "      <td>250.00</td>\n",
       "      <td>3914</td>\n",
       "      <td>0.023213</td>\n",
       "    </tr>\n",
       "    <tr>\n",
       "      <td>10</td>\n",
       "      <td>90.00</td>\n",
       "      <td>3878</td>\n",
       "      <td>0.023000</td>\n",
       "    </tr>\n",
       "    <tr>\n",
       "      <td>11</td>\n",
       "      <td>160.00</td>\n",
       "      <td>3829</td>\n",
       "      <td>0.022709</td>\n",
       "    </tr>\n",
       "    <tr>\n",
       "      <td>12</td>\n",
       "      <td>70.00</td>\n",
       "      <td>3253</td>\n",
       "      <td>0.019293</td>\n",
       "    </tr>\n",
       "    <tr>\n",
       "      <td>13</td>\n",
       "      <td>170.00</td>\n",
       "      <td>3041</td>\n",
       "      <td>0.018036</td>\n",
       "    </tr>\n",
       "    <tr>\n",
       "      <td>14</td>\n",
       "      <td>151.55</td>\n",
       "      <td>3003</td>\n",
       "      <td>0.017810</td>\n",
       "    </tr>\n",
       "    <tr>\n",
       "      <td>15</td>\n",
       "      <td>60.00</td>\n",
       "      <td>2774</td>\n",
       "      <td>0.016452</td>\n",
       "    </tr>\n",
       "    <tr>\n",
       "      <td>16</td>\n",
       "      <td>0.00</td>\n",
       "      <td>2448</td>\n",
       "      <td>0.014519</td>\n",
       "    </tr>\n",
       "    <tr>\n",
       "      <td>17</td>\n",
       "      <td>50.00</td>\n",
       "      <td>2266</td>\n",
       "      <td>0.013439</td>\n",
       "    </tr>\n",
       "    <tr>\n",
       "      <td>18</td>\n",
       "      <td>190.00</td>\n",
       "      <td>2070</td>\n",
       "      <td>0.012277</td>\n",
       "    </tr>\n",
       "    <tr>\n",
       "      <td>19</td>\n",
       "      <td>220.00</td>\n",
       "      <td>2022</td>\n",
       "      <td>0.011992</td>\n",
       "    </tr>\n",
       "  </tbody>\n",
       "</table>\n",
       "</div>"
      ],
      "text/plain": [
       "    serviceCharge  count  perc_of_count_total\n",
       "0          150.00   9009             0.053431\n",
       "1          100.00   8066             0.047838\n",
       "2          200.00   6811             0.040395\n",
       "3          120.00   6615             0.039233\n",
       "4          130.00   4809             0.028522\n",
       "5          140.00   4587             0.027205\n",
       "6          180.00   4202             0.024922\n",
       "7           80.00   4148             0.024601\n",
       "8          110.00   3927             0.023291\n",
       "9          250.00   3914             0.023213\n",
       "10          90.00   3878             0.023000\n",
       "11         160.00   3829             0.022709\n",
       "12          70.00   3253             0.019293\n",
       "13         170.00   3041             0.018036\n",
       "14         151.55   3003             0.017810\n",
       "15          60.00   2774             0.016452\n",
       "16           0.00   2448             0.014519\n",
       "17          50.00   2266             0.013439\n",
       "18         190.00   2070             0.012277\n",
       "19         220.00   2022             0.011992"
      ]
     },
     "execution_count": 5,
     "metadata": {},
     "output_type": "execute_result"
    }
   ],
   "source": [
    "datasetSize = df.count()\n",
    "\n",
    "df.groupBy('serviceCharge').count().sort(col(\"count\").desc()).withColumn('perc_of_count_total', (F.col('count') / datasetSize)) \\\n",
    "  .toPandas().head(20)"
   ]
  },
  {
   "cell_type": "markdown",
   "metadata": {},
   "source": [
    "## Aplicamos la normalización con la función presentada anteriormente"
   ]
  },
  {
   "cell_type": "code",
   "execution_count": 6,
   "metadata": {},
   "outputs": [],
   "source": [
    "numericColumns = list()\n",
    "numericColumns.append('serviceCharge')\n",
    "df = normalizeColumn(df,numericColumns)"
   ]
  },
  {
   "cell_type": "markdown",
   "metadata": {},
   "source": [
    "Volvemos a consultar la columna para ver la normalización"
   ]
  },
  {
   "cell_type": "code",
   "execution_count": 7,
   "metadata": {},
   "outputs": [
    {
     "data": {
      "text/html": [
       "<div>\n",
       "<style scoped>\n",
       "    .dataframe tbody tr th:only-of-type {\n",
       "        vertical-align: middle;\n",
       "    }\n",
       "\n",
       "    .dataframe tbody tr th {\n",
       "        vertical-align: top;\n",
       "    }\n",
       "\n",
       "    .dataframe thead th {\n",
       "        text-align: right;\n",
       "    }\n",
       "</style>\n",
       "<table border=\"1\" class=\"dataframe\">\n",
       "  <thead>\n",
       "    <tr style=\"text-align: right;\">\n",
       "      <th></th>\n",
       "      <th>serviceCharge</th>\n",
       "      <th>count</th>\n",
       "      <th>perc_of_count_total</th>\n",
       "    </tr>\n",
       "  </thead>\n",
       "  <tbody>\n",
       "    <tr>\n",
       "      <td>0</td>\n",
       "      <td>0.00103</td>\n",
       "      <td>9309</td>\n",
       "      <td>0.055211</td>\n",
       "    </tr>\n",
       "    <tr>\n",
       "      <td>1</td>\n",
       "      <td>0.00068</td>\n",
       "      <td>8417</td>\n",
       "      <td>0.049920</td>\n",
       "    </tr>\n",
       "    <tr>\n",
       "      <td>2</td>\n",
       "      <td>0.00137</td>\n",
       "      <td>6888</td>\n",
       "      <td>0.040852</td>\n",
       "    </tr>\n",
       "    <tr>\n",
       "      <td>3</td>\n",
       "      <td>0.00082</td>\n",
       "      <td>6727</td>\n",
       "      <td>0.039897</td>\n",
       "    </tr>\n",
       "    <tr>\n",
       "      <td>4</td>\n",
       "      <td>0.00096</td>\n",
       "      <td>4952</td>\n",
       "      <td>0.029370</td>\n",
       "    </tr>\n",
       "    <tr>\n",
       "      <td>5</td>\n",
       "      <td>0.00089</td>\n",
       "      <td>4906</td>\n",
       "      <td>0.029097</td>\n",
       "    </tr>\n",
       "    <tr>\n",
       "      <td>6</td>\n",
       "      <td>0.00055</td>\n",
       "      <td>4499</td>\n",
       "      <td>0.026683</td>\n",
       "    </tr>\n",
       "    <tr>\n",
       "      <td>7</td>\n",
       "      <td>0.00123</td>\n",
       "      <td>4409</td>\n",
       "      <td>0.026149</td>\n",
       "    </tr>\n",
       "    <tr>\n",
       "      <td>8</td>\n",
       "      <td>0.00075</td>\n",
       "      <td>4301</td>\n",
       "      <td>0.025509</td>\n",
       "    </tr>\n",
       "    <tr>\n",
       "      <td>9</td>\n",
       "      <td>0.00062</td>\n",
       "      <td>4220</td>\n",
       "      <td>0.025028</td>\n",
       "    </tr>\n",
       "    <tr>\n",
       "      <td>10</td>\n",
       "      <td>0.00110</td>\n",
       "      <td>4037</td>\n",
       "      <td>0.023943</td>\n",
       "    </tr>\n",
       "    <tr>\n",
       "      <td>11</td>\n",
       "      <td>0.00171</td>\n",
       "      <td>3952</td>\n",
       "      <td>0.023439</td>\n",
       "    </tr>\n",
       "    <tr>\n",
       "      <td>12</td>\n",
       "      <td>0.00048</td>\n",
       "      <td>3436</td>\n",
       "      <td>0.020379</td>\n",
       "    </tr>\n",
       "    <tr>\n",
       "      <td>13</td>\n",
       "      <td>0.00104</td>\n",
       "      <td>3394</td>\n",
       "      <td>0.020129</td>\n",
       "    </tr>\n",
       "    <tr>\n",
       "      <td>14</td>\n",
       "      <td>0.00116</td>\n",
       "      <td>3264</td>\n",
       "      <td>0.019358</td>\n",
       "    </tr>\n",
       "    <tr>\n",
       "      <td>15</td>\n",
       "      <td>0.00041</td>\n",
       "      <td>2914</td>\n",
       "      <td>0.017283</td>\n",
       "    </tr>\n",
       "    <tr>\n",
       "      <td>16</td>\n",
       "      <td>0.00034</td>\n",
       "      <td>2450</td>\n",
       "      <td>0.014531</td>\n",
       "    </tr>\n",
       "    <tr>\n",
       "      <td>17</td>\n",
       "      <td>0.00000</td>\n",
       "      <td>2448</td>\n",
       "      <td>0.014519</td>\n",
       "    </tr>\n",
       "    <tr>\n",
       "      <td>18</td>\n",
       "      <td>0.00086</td>\n",
       "      <td>2390</td>\n",
       "      <td>0.014175</td>\n",
       "    </tr>\n",
       "    <tr>\n",
       "      <td>19</td>\n",
       "      <td>0.00051</td>\n",
       "      <td>2261</td>\n",
       "      <td>0.013410</td>\n",
       "    </tr>\n",
       "  </tbody>\n",
       "</table>\n",
       "</div>"
      ],
      "text/plain": [
       "    serviceCharge  count  perc_of_count_total\n",
       "0         0.00103   9309             0.055211\n",
       "1         0.00068   8417             0.049920\n",
       "2         0.00137   6888             0.040852\n",
       "3         0.00082   6727             0.039897\n",
       "4         0.00096   4952             0.029370\n",
       "5         0.00089   4906             0.029097\n",
       "6         0.00055   4499             0.026683\n",
       "7         0.00123   4409             0.026149\n",
       "8         0.00075   4301             0.025509\n",
       "9         0.00062   4220             0.025028\n",
       "10        0.00110   4037             0.023943\n",
       "11        0.00171   3952             0.023439\n",
       "12        0.00048   3436             0.020379\n",
       "13        0.00104   3394             0.020129\n",
       "14        0.00116   3264             0.019358\n",
       "15        0.00041   2914             0.017283\n",
       "16        0.00034   2450             0.014531\n",
       "17        0.00000   2448             0.014519\n",
       "18        0.00086   2390             0.014175\n",
       "19        0.00051   2261             0.013410"
      ]
     },
     "execution_count": 7,
     "metadata": {},
     "output_type": "execute_result"
    }
   ],
   "source": [
    "df.groupBy('serviceCharge').count().sort(col(\"count\").desc()).withColumn('perc_of_count_total', (F.col('count') / datasetSize)) \\\n",
    "  .toPandas().head(20)"
   ]
  },
  {
   "cell_type": "markdown",
   "metadata": {},
   "source": [
    "Una vez que se valida la normalización para dichos datos, correspondemos a realizarlo en las demas columnas numericas"
   ]
  },
  {
   "cell_type": "markdown",
   "metadata": {},
   "source": [
    "# Normalización de columnas numéricas"
   ]
  },
  {
   "cell_type": "code",
   "execution_count": 8,
   "metadata": {},
   "outputs": [
    {
     "name": "stdout",
     "output_type": "stream",
     "text": [
      "Numero de columnas:  13\n"
     ]
    }
   ],
   "source": [
    "# Columnas\n",
    "\n",
    "columnas =  ['picturecount','pricetrend','telekomUploadSpeed','totalRent','yearConstructedRange'\\\n",
    "           ,'baseRent','livingSpace','baseRentRange','geo_plz','noRooms','floor','noRoomsRange',\n",
    "           'livingSpaceRange']\n",
    "\n",
    "print(\"Numero de columnas: \",len(columnas))"
   ]
  },
  {
   "cell_type": "markdown",
   "metadata": {},
   "source": [
    "## Aplicamos normalización de columnas"
   ]
  },
  {
   "cell_type": "code",
   "execution_count": 9,
   "metadata": {},
   "outputs": [],
   "source": [
    "df = normalizeColumn(df,columnas)"
   ]
  },
  {
   "cell_type": "code",
   "execution_count": 10,
   "metadata": {},
   "outputs": [
    {
     "data": {
      "text/html": [
       "<div>\n",
       "<style scoped>\n",
       "    .dataframe tbody tr th:only-of-type {\n",
       "        vertical-align: middle;\n",
       "    }\n",
       "\n",
       "    .dataframe tbody tr th {\n",
       "        vertical-align: top;\n",
       "    }\n",
       "\n",
       "    .dataframe thead th {\n",
       "        text-align: right;\n",
       "    }\n",
       "</style>\n",
       "<table border=\"1\" class=\"dataframe\">\n",
       "  <thead>\n",
       "    <tr style=\"text-align: right;\">\n",
       "      <th></th>\n",
       "      <th>picturecount</th>\n",
       "      <th>pricetrend</th>\n",
       "      <th>telekomUploadSpeed</th>\n",
       "      <th>totalRent</th>\n",
       "      <th>yearConstructedRange</th>\n",
       "      <th>baseRent</th>\n",
       "      <th>livingSpace</th>\n",
       "      <th>baseRentRange</th>\n",
       "      <th>geo_plz</th>\n",
       "      <th>noRooms</th>\n",
       "      <th>floor</th>\n",
       "      <th>noRoomsRange</th>\n",
       "      <th>livingSpaceRange</th>\n",
       "    </tr>\n",
       "  </thead>\n",
       "  <tbody>\n",
       "    <tr>\n",
       "      <td>0</td>\n",
       "      <td>0.26606</td>\n",
       "      <td>0.52677</td>\n",
       "      <td>0.01414</td>\n",
       "      <td>0.00003</td>\n",
       "      <td>0.000</td>\n",
       "      <td>0.00027</td>\n",
       "      <td>0.00047</td>\n",
       "      <td>0.125</td>\n",
       "      <td>0.44860</td>\n",
       "      <td>0.00179</td>\n",
       "      <td>0.001</td>\n",
       "      <td>0.25</td>\n",
       "      <td>0.16667</td>\n",
       "    </tr>\n",
       "    <tr>\n",
       "      <td>1</td>\n",
       "      <td>0.03670</td>\n",
       "      <td>0.58489</td>\n",
       "      <td>0.01414</td>\n",
       "      <td>0.00004</td>\n",
       "      <td>0.500</td>\n",
       "      <td>0.00037</td>\n",
       "      <td>0.00068</td>\n",
       "      <td>0.250</td>\n",
       "      <td>0.47839</td>\n",
       "      <td>0.00358</td>\n",
       "      <td>0.003</td>\n",
       "      <td>0.50</td>\n",
       "      <td>0.33333</td>\n",
       "    </tr>\n",
       "    <tr>\n",
       "      <td>2</td>\n",
       "      <td>0.10092</td>\n",
       "      <td>0.57534</td>\n",
       "      <td>0.39394</td>\n",
       "      <td>0.00002</td>\n",
       "      <td>0.125</td>\n",
       "      <td>0.00020</td>\n",
       "      <td>0.00040</td>\n",
       "      <td>0.000</td>\n",
       "      <td>0.45781</td>\n",
       "      <td>0.00358</td>\n",
       "      <td>0.004</td>\n",
       "      <td>0.50</td>\n",
       "      <td>0.16667</td>\n",
       "    </tr>\n",
       "    <tr>\n",
       "      <td>3</td>\n",
       "      <td>0.08257</td>\n",
       "      <td>0.41926</td>\n",
       "      <td>0.39394</td>\n",
       "      <td>0.00002</td>\n",
       "      <td>0.125</td>\n",
       "      <td>0.00017</td>\n",
       "      <td>0.00041</td>\n",
       "      <td>0.000</td>\n",
       "      <td>0.38696</td>\n",
       "      <td>0.00179</td>\n",
       "      <td>0.001</td>\n",
       "      <td>0.25</td>\n",
       "      <td>0.16667</td>\n",
       "    </tr>\n",
       "    <tr>\n",
       "      <td>4</td>\n",
       "      <td>0.08257</td>\n",
       "      <td>0.30220</td>\n",
       "      <td>0.01414</td>\n",
       "      <td>0.00003</td>\n",
       "      <td>0.000</td>\n",
       "      <td>0.00023</td>\n",
       "      <td>0.00054</td>\n",
       "      <td>0.000</td>\n",
       "      <td>0.08345</td>\n",
       "      <td>0.00179</td>\n",
       "      <td>0.003</td>\n",
       "      <td>0.25</td>\n",
       "      <td>0.16667</td>\n",
       "    </tr>\n",
       "  </tbody>\n",
       "</table>\n",
       "</div>"
      ],
      "text/plain": [
       "   picturecount  pricetrend  telekomUploadSpeed  totalRent  \\\n",
       "0       0.26606     0.52677             0.01414    0.00003   \n",
       "1       0.03670     0.58489             0.01414    0.00004   \n",
       "2       0.10092     0.57534             0.39394    0.00002   \n",
       "3       0.08257     0.41926             0.39394    0.00002   \n",
       "4       0.08257     0.30220             0.01414    0.00003   \n",
       "\n",
       "   yearConstructedRange  baseRent  livingSpace  baseRentRange  geo_plz  \\\n",
       "0                 0.000   0.00027      0.00047          0.125  0.44860   \n",
       "1                 0.500   0.00037      0.00068          0.250  0.47839   \n",
       "2                 0.125   0.00020      0.00040          0.000  0.45781   \n",
       "3                 0.125   0.00017      0.00041          0.000  0.38696   \n",
       "4                 0.000   0.00023      0.00054          0.000  0.08345   \n",
       "\n",
       "   noRooms  floor  noRoomsRange  livingSpaceRange  \n",
       "0  0.00179  0.001          0.25           0.16667  \n",
       "1  0.00358  0.003          0.50           0.33333  \n",
       "2  0.00358  0.004          0.50           0.16667  \n",
       "3  0.00179  0.001          0.25           0.16667  \n",
       "4  0.00179  0.003          0.25           0.16667  "
      ]
     },
     "execution_count": 10,
     "metadata": {},
     "output_type": "execute_result"
    }
   ],
   "source": [
    "df.select(columnas).toPandas().head()"
   ]
  },
  {
   "cell_type": "markdown",
   "metadata": {},
   "source": [
    "Como se observa, los datos numéricos se encuentran normalizados"
   ]
  },
  {
   "cell_type": "markdown",
   "metadata": {},
   "source": [
    "# Iniciamos con la transformación de columnas booleansas"
   ]
  },
  {
   "cell_type": "code",
   "execution_count": 11,
   "metadata": {},
   "outputs": [
    {
     "name": "stdout",
     "output_type": "stream",
     "text": [
      "Cantidad de columnas Booleanas:  6\n"
     ]
    }
   ],
   "source": [
    "booleanColumns = ['newlyConst','balcony','hasKitchen','cellar','lift','garden']\n",
    "\n",
    "print(\"Cantidad de columnas Booleanas: \",len(booleanColumns))"
   ]
  },
  {
   "cell_type": "markdown",
   "metadata": {},
   "source": [
    "Función para remplazar columnas booleanas"
   ]
  },
  {
   "cell_type": "code",
   "execution_count": 12,
   "metadata": {},
   "outputs": [],
   "source": [
    "def replaceBooleans(df,listColumns):\n",
    "    for i in listColumns:\n",
    "        df = df.withColumn(i,F.when((col(i) == True),1).otherwise(0))\n",
    "    return df"
   ]
  },
  {
   "cell_type": "code",
   "execution_count": 13,
   "metadata": {},
   "outputs": [],
   "source": [
    "df = replaceBooleans(df,booleanColumns)\n",
    "df = df.drop()"
   ]
  },
  {
   "cell_type": "markdown",
   "metadata": {},
   "source": [
    "Observamos la transformación`"
   ]
  },
  {
   "cell_type": "code",
   "execution_count": 14,
   "metadata": {},
   "outputs": [
    {
     "data": {
      "text/html": [
       "<div>\n",
       "<style scoped>\n",
       "    .dataframe tbody tr th:only-of-type {\n",
       "        vertical-align: middle;\n",
       "    }\n",
       "\n",
       "    .dataframe tbody tr th {\n",
       "        vertical-align: top;\n",
       "    }\n",
       "\n",
       "    .dataframe thead th {\n",
       "        text-align: right;\n",
       "    }\n",
       "</style>\n",
       "<table border=\"1\" class=\"dataframe\">\n",
       "  <thead>\n",
       "    <tr style=\"text-align: right;\">\n",
       "      <th></th>\n",
       "      <th>newlyConst</th>\n",
       "      <th>balcony</th>\n",
       "      <th>hasKitchen</th>\n",
       "      <th>cellar</th>\n",
       "      <th>lift</th>\n",
       "      <th>garden</th>\n",
       "    </tr>\n",
       "  </thead>\n",
       "  <tbody>\n",
       "    <tr>\n",
       "      <td>0</td>\n",
       "      <td>0</td>\n",
       "      <td>0</td>\n",
       "      <td>0</td>\n",
       "      <td>0</td>\n",
       "      <td>0</td>\n",
       "      <td>0</td>\n",
       "    </tr>\n",
       "    <tr>\n",
       "      <td>1</td>\n",
       "      <td>0</td>\n",
       "      <td>1</td>\n",
       "      <td>0</td>\n",
       "      <td>0</td>\n",
       "      <td>0</td>\n",
       "      <td>0</td>\n",
       "    </tr>\n",
       "    <tr>\n",
       "      <td>2</td>\n",
       "      <td>0</td>\n",
       "      <td>0</td>\n",
       "      <td>0</td>\n",
       "      <td>0</td>\n",
       "      <td>0</td>\n",
       "      <td>0</td>\n",
       "    </tr>\n",
       "    <tr>\n",
       "      <td>3</td>\n",
       "      <td>0</td>\n",
       "      <td>0</td>\n",
       "      <td>0</td>\n",
       "      <td>1</td>\n",
       "      <td>0</td>\n",
       "      <td>0</td>\n",
       "    </tr>\n",
       "    <tr>\n",
       "      <td>4</td>\n",
       "      <td>0</td>\n",
       "      <td>1</td>\n",
       "      <td>1</td>\n",
       "      <td>1</td>\n",
       "      <td>0</td>\n",
       "      <td>0</td>\n",
       "    </tr>\n",
       "  </tbody>\n",
       "</table>\n",
       "</div>"
      ],
      "text/plain": [
       "   newlyConst  balcony  hasKitchen  cellar  lift  garden\n",
       "0           0        0           0       0     0       0\n",
       "1           0        1           0       0     0       0\n",
       "2           0        0           0       0     0       0\n",
       "3           0        0           0       1     0       0\n",
       "4           0        1           1       1     0       0"
      ]
     },
     "execution_count": 14,
     "metadata": {},
     "output_type": "execute_result"
    }
   ],
   "source": [
    "df.select(booleanColumns).toPandas().head()"
   ]
  },
  {
   "cell_type": "markdown",
   "metadata": {},
   "source": [
    "# Remplazamos variables categóricas por OneHotEncoding"
   ]
  },
  {
   "cell_type": "markdown",
   "metadata": {},
   "source": [
    "Creamos la función para remplazar valores categóricos"
   ]
  },
  {
   "cell_type": "code",
   "execution_count": 15,
   "metadata": {},
   "outputs": [],
   "source": [
    "def createCategoricalVects(df,columns):\n",
    "    for i in columns:\n",
    "        temp_indexer = StringIndexer(inputCol=i, outputCol=i+\"_index\").fit(df)\n",
    "        df = temp_indexer.transform(df)\n",
    "        temp_encoder = OneHotEncoder(inputCol=i+\"_index\", outputCol=i+\"_vec\")\n",
    "        df = temp_encoder.transform(df)\n",
    "        df = df.drop(i+\"_index\")\n",
    "        print(\"Columna Procesada:\",i,\"Tammano\",df.groupBy(i).count().count())\n",
    "        df = df.drop(i)\n",
    "    return df"
   ]
  },
  {
   "cell_type": "markdown",
   "metadata": {},
   "source": [
    "Dicha función detecta si una columna tiene bastantes categorias para borrarla\n",
    "\n",
    "Al observar la gran cantidad de columnas que se generan con diferentes datos categóricos, se evalua solo aceptar columnas categóricas con no más de 50 datos categoricos diferentes"
   ]
  },
  {
   "cell_type": "code",
   "execution_count": 16,
   "metadata": {},
   "outputs": [],
   "source": [
    "def deleteBigColumns(df,columns,limit):\n",
    "    goodColumns = list()\n",
    "    for i in columns:\n",
    "        size = df.groupBy(i).count().count()\n",
    "        print(i,size)\n",
    "        if(size > limit):\n",
    "            print(\"Columna borrada:\",i,\"Tamanno:\", size) \n",
    "            df = df.drop(i)\n",
    "        else:\n",
    "            goodColumns.append(i)\n",
    "    return df,goodColumns"
   ]
  },
  {
   "cell_type": "markdown",
   "metadata": {},
   "source": [
    "## Procesamos las columnas categóricas"
   ]
  },
  {
   "cell_type": "markdown",
   "metadata": {},
   "source": [
    "Un detalle importante a rescatar es la escogencia del tamaño de las variables categóricas este tamaño se refiere a la cantidad de categorias que presenta varias columnas, por motivos de hardware y optmización se limite a un maximo de 50 categorias. Por otra parte este proceso fue detectado gracias a la validaciones que se realizaron en este jupyternotebook"
   ]
  },
  {
   "cell_type": "code",
   "execution_count": 17,
   "metadata": {},
   "outputs": [
    {
     "name": "stdout",
     "output_type": "stream",
     "text": [
      "regio1 16\n",
      "heatingType 13\n",
      "geo_bln 16\n",
      "geo_krs 419\n",
      "Columna borrada: geo_krs Tamanno: 419\n",
      "condition 10\n",
      "typeOfFlat 10\n",
      "regio2 419\n",
      "Columna borrada: regio2 Tamanno: 419\n",
      "regio3 7794\n",
      "Columna borrada: regio3 Tamanno: 7794\n",
      "date 3\n",
      "firingTypes 102\n",
      "Columna borrada: firingTypes Tamanno: 102\n",
      "telekomTvOffer 3\n",
      "Procesamiento de las columnas: \n",
      "Columna Procesada: regio1 Tammano 16\n",
      "Columna Procesada: heatingType Tammano 13\n",
      "Columna Procesada: geo_bln Tammano 16\n",
      "Columna Procesada: condition Tammano 10\n",
      "Columna Procesada: typeOfFlat Tammano 10\n",
      "Columna Procesada: date Tammano 3\n",
      "Columna Procesada: telekomTvOffer Tammano 3\n"
     ]
    }
   ],
   "source": [
    "categoryList = ['regio1','heatingType','geo_bln','geo_krs','condition','typeOfFlat','regio2','regio3','date','firingTypes','telekomTvOffer']\n",
    "df,categoryList = deleteBigColumns(df,categoryList,50)\n",
    "print('Procesamiento de las columnas: ')\n",
    "df = createCategoricalVects(df,categoryList)\n"
   ]
  },
  {
   "cell_type": "markdown",
   "metadata": {},
   "source": [
    "## Observamos los nuevos datos categóricos"
   ]
  },
  {
   "cell_type": "code",
   "execution_count": 18,
   "metadata": {},
   "outputs": [
    {
     "name": "stdout",
     "output_type": "stream",
     "text": [
      "+---------------+---------------+---------------+-------------+--------------+-------------+------------------+\n",
      "|     regio1_vec|heatingType_vec|    geo_bln_vec|condition_vec|typeOfFlat_vec|     date_vec|telekomTvOffer_vec|\n",
      "+---------------+---------------+---------------+-------------+--------------+-------------+------------------+\n",
      "| (15,[1],[1.0])| (12,[0],[1.0])| (15,[1],[1.0])|(9,[6],[1.0])| (9,[2],[1.0])|(2,[0],[1.0])|     (2,[0],[1.0])|\n",
      "| (15,[1],[1.0])| (12,[0],[1.0])| (15,[1],[1.0])|(9,[0],[1.0])| (9,[1],[1.0])|    (2,[],[])|     (2,[0],[1.0])|\n",
      "| (15,[1],[1.0])| (12,[8],[1.0])| (15,[1],[1.0])|(9,[0],[1.0])| (9,[1],[1.0])|    (2,[],[])|     (2,[0],[1.0])|\n",
      "| (15,[2],[1.0])| (12,[4],[1.0])| (15,[2],[1.0])|(9,[0],[1.0])| (9,[1],[1.0])|(2,[0],[1.0])|     (2,[0],[1.0])|\n",
      "| (15,[0],[1.0])| (12,[2],[1.0])| (15,[0],[1.0])|(9,[2],[1.0])| (9,[0],[1.0])|(2,[0],[1.0])|     (2,[0],[1.0])|\n",
      "| (15,[1],[1.0])| (12,[0],[1.0])| (15,[1],[1.0])|(9,[2],[1.0])| (9,[2],[1.0])|(2,[1],[1.0])|     (2,[0],[1.0])|\n",
      "| (15,[2],[1.0])| (12,[0],[1.0])| (15,[2],[1.0])|(9,[7],[1.0])| (9,[0],[1.0])|(2,[1],[1.0])|     (2,[0],[1.0])|\n",
      "| (15,[0],[1.0])| (12,[2],[1.0])| (15,[0],[1.0])|(9,[4],[1.0])| (9,[0],[1.0])|(2,[0],[1.0])|     (2,[0],[1.0])|\n",
      "| (15,[1],[1.0])| (12,[0],[1.0])| (15,[1],[1.0])|(9,[1],[1.0])| (9,[0],[1.0])|(2,[0],[1.0])|     (2,[0],[1.0])|\n",
      "|(15,[13],[1.0])| (12,[0],[1.0])|(15,[13],[1.0])|(9,[0],[1.0])| (9,[0],[1.0])|    (2,[],[])|     (2,[0],[1.0])|\n",
      "|(15,[12],[1.0])|     (12,[],[])|(15,[12],[1.0])|(9,[4],[1.0])| (9,[2],[1.0])|    (2,[],[])|     (2,[0],[1.0])|\n",
      "|(15,[10],[1.0])| (12,[6],[1.0])|(15,[10],[1.0])|(9,[3],[1.0])| (9,[3],[1.0])|(2,[1],[1.0])|     (2,[0],[1.0])|\n",
      "| (15,[0],[1.0])| (12,[0],[1.0])| (15,[0],[1.0])|(9,[1],[1.0])| (9,[0],[1.0])|(2,[1],[1.0])|     (2,[0],[1.0])|\n",
      "| (15,[1],[1.0])| (12,[0],[1.0])| (15,[1],[1.0])|(9,[2],[1.0])| (9,[0],[1.0])|(2,[1],[1.0])|     (2,[0],[1.0])|\n",
      "| (15,[1],[1.0])| (12,[2],[1.0])| (15,[1],[1.0])|(9,[0],[1.0])| (9,[0],[1.0])|(2,[1],[1.0])|     (2,[0],[1.0])|\n",
      "| (15,[3],[1.0])| (12,[0],[1.0])| (15,[3],[1.0])|(9,[3],[1.0])| (9,[1],[1.0])|(2,[0],[1.0])|     (2,[0],[1.0])|\n",
      "| (15,[0],[1.0])| (12,[0],[1.0])| (15,[0],[1.0])|(9,[5],[1.0])| (9,[2],[1.0])|(2,[1],[1.0])|     (2,[0],[1.0])|\n",
      "| (15,[0],[1.0])| (12,[1],[1.0])| (15,[0],[1.0])|(9,[0],[1.0])| (9,[0],[1.0])|(2,[0],[1.0])|     (2,[0],[1.0])|\n",
      "|     (15,[],[])| (12,[0],[1.0])|     (15,[],[])|(9,[4],[1.0])| (9,[0],[1.0])|    (2,[],[])|     (2,[0],[1.0])|\n",
      "| (15,[0],[1.0])| (12,[1],[1.0])| (15,[0],[1.0])|(9,[1],[1.0])| (9,[0],[1.0])|(2,[1],[1.0])|     (2,[0],[1.0])|\n",
      "+---------------+---------------+---------------+-------------+--------------+-------------+------------------+\n",
      "only showing top 20 rows\n",
      "\n"
     ]
    }
   ],
   "source": [
    "vectCat = [i+\"_vec\" for i in categoryList]\n",
    "df.select(vectCat).show()"
   ]
  },
  {
   "cell_type": "markdown",
   "metadata": {},
   "source": [
    "# Mostramos la columnas que utilizamos para el training"
   ]
  },
  {
   "cell_type": "code",
   "execution_count": 19,
   "metadata": {},
   "outputs": [
    {
     "name": "stdout",
     "output_type": "stream",
     "text": [
      "['serviceCharge', 'newlyConst', 'balcony', 'picturecount', 'pricetrend', 'telekomUploadSpeed', 'hasKitchen', 'cellar', 'yearConstructedRange', 'baseRent', 'livingSpace', 'lift', 'baseRentRange', 'geo_plz', 'noRooms', 'floor', 'noRoomsRange', 'garden', 'livingSpaceRange', 'regio1_vec', 'heatingType_vec', 'geo_bln_vec', 'condition_vec', 'typeOfFlat_vec', 'date_vec', 'telekomTvOffer_vec']\n"
     ]
    }
   ],
   "source": [
    "datasetColumns = df.columns\n",
    "datasetColumns.remove('totalRent')\n",
    "print(datasetColumns)\n",
    "\n"
   ]
  },
  {
   "cell_type": "code",
   "execution_count": 20,
   "metadata": {},
   "outputs": [
    {
     "name": "stdout",
     "output_type": "stream",
     "text": [
      "+-------------+----------+-------+------------+----------+------------------+----------+------+--------------------+--------+-----------+----+-------------+-------+-------+-----+------------+------+----------------+---------------+---------------+---------------+-------------+--------------+-------------+------------------+\n",
      "|serviceCharge|newlyConst|balcony|picturecount|pricetrend|telekomUploadSpeed|hasKitchen|cellar|yearConstructedRange|baseRent|livingSpace|lift|baseRentRange|geo_plz|noRooms|floor|noRoomsRange|garden|livingSpaceRange|     regio1_vec|heatingType_vec|    geo_bln_vec|condition_vec|typeOfFlat_vec|     date_vec|telekomTvOffer_vec|\n",
      "+-------------+----------+-------+------------+----------+------------------+----------+------+--------------------+--------+-----------+----+-------------+-------+-------+-----+------------+------+----------------+---------------+---------------+---------------+-------------+--------------+-------------+------------------+\n",
      "|       6.8E-4|         0|      0|     0.26606|   0.52677|           0.01414|         0|     0|                 0.0|  2.7E-4|     4.7E-4|   0|        0.125| 0.4486|0.00179|0.001|        0.25|     0|         0.16667| (15,[1],[1.0])| (12,[0],[1.0])| (15,[1],[1.0])|(9,[6],[1.0])| (9,[2],[1.0])|(2,[0],[1.0])|     (2,[0],[1.0])|\n",
      "|       5.7E-4|         0|      1|      0.0367|   0.58489|           0.01414|         0|     0|                 0.5|  3.7E-4|     6.8E-4|   0|         0.25|0.47839|0.00358|0.003|         0.5|     0|         0.33333| (15,[1],[1.0])| (12,[0],[1.0])| (15,[1],[1.0])|(9,[0],[1.0])| (9,[1],[1.0])|    (2,[],[])|     (2,[0],[1.0])|\n",
      "|       7.9E-4|         0|      0|     0.10092|   0.57534|           0.39394|         0|     0|               0.125|  2.0E-4|     4.0E-4|   0|          0.0|0.45781|0.00358|0.004|         0.5|     0|         0.16667| (15,[1],[1.0])| (12,[8],[1.0])| (15,[1],[1.0])|(9,[0],[1.0])| (9,[1],[1.0])|    (2,[],[])|     (2,[0],[1.0])|\n",
      "|       2.3E-4|         0|      0|     0.08257|   0.41926|           0.39394|         0|     1|               0.125|  1.7E-4|     4.1E-4|   0|          0.0|0.38696|0.00179|0.001|        0.25|     0|         0.16667| (15,[2],[1.0])| (12,[4],[1.0])| (15,[2],[1.0])|(9,[0],[1.0])| (9,[1],[1.0])|(2,[0],[1.0])|     (2,[0],[1.0])|\n",
      "|      0.00116|         0|      1|     0.08257|    0.3022|           0.01414|         1|     1|                 0.0|  2.3E-4|     5.4E-4|   0|          0.0|0.08345|0.00179|0.003|        0.25|     0|         0.16667| (15,[0],[1.0])| (12,[2],[1.0])| (15,[0],[1.0])|(9,[2],[1.0])| (9,[0],[1.0])|(2,[0],[1.0])|     (2,[0],[1.0])|\n",
      "|       9.4E-4|         0|      0|     0.07339|   0.46036|           0.39394|         0|     1|               0.125|  2.2E-4|     4.5E-4|   0|          0.0|0.45424|0.00179|0.001|        0.25|     0|         0.16667| (15,[1],[1.0])| (12,[0],[1.0])| (15,[1],[1.0])|(9,[2],[1.0])| (9,[2],[1.0])|(2,[1],[1.0])|     (2,[0],[1.0])|\n",
      "|       4.7E-4|         0|      1|     0.09174|   0.43545|           0.39394|         0|     1|               0.375|  2.2E-4|     5.1E-4|   0|          0.0|0.05317|0.00358|0.002|         0.5|     0|         0.16667| (15,[2],[1.0])| (12,[0],[1.0])| (15,[2],[1.0])|(9,[7],[1.0])| (9,[0],[1.0])|(2,[1],[1.0])|     (2,[0],[1.0])|\n",
      "|       5.9E-4|         0|      1|     0.00917|   0.60938|           0.39394|         0|     0|                 0.0|  2.0E-4|     3.4E-4|   0|          0.0|0.03477|    0.0|0.002|         0.0|     0|             0.0| (15,[0],[1.0])| (12,[2],[1.0])| (15,[0],[1.0])|(9,[4],[1.0])| (9,[0],[1.0])|(2,[0],[1.0])|     (2,[0],[1.0])|\n",
      "|       8.1E-4|         0|      0|      0.0367|   0.52553|           0.39394|         0|     1|               0.125|  2.6E-4|     5.0E-4|   0|        0.125|0.45683|0.00268|0.002|        0.25|     0|         0.16667| (15,[1],[1.0])| (12,[0],[1.0])| (15,[1],[1.0])|(9,[1],[1.0])| (9,[0],[1.0])|(2,[0],[1.0])|     (2,[0],[1.0])|\n",
      "|      0.00154|         0|      1|     0.11927|   0.66833|           0.39394|         1|     1|                 0.5|  6.5E-4|     7.4E-4|   0|          0.5| 0.2138|0.00179|0.002|        0.25|     0|             0.5|(15,[13],[1.0])| (12,[0],[1.0])|(15,[13],[1.0])|(9,[0],[1.0])| (9,[0],[1.0])|    (2,[],[])|     (2,[0],[1.0])|\n",
      "|       6.2E-4|         0|      0|     0.05505|   0.59153|           0.01414|         0|     0|                 0.5|  2.4E-4|     4.9E-4|   0|          0.0|0.24885|0.00179|0.003|        0.25|     0|         0.16667|(15,[12],[1.0])|     (12,[],[])|(15,[12],[1.0])|(9,[4],[1.0])| (9,[2],[1.0])|    (2,[],[])|     (2,[0],[1.0])|\n",
      "|      0.00137|         0|      1|     0.05505|   0.53757|           0.39394|         0|     1|               0.875|  7.0E-4|     8.1E-4|   1|        0.625|0.55692|0.00358|0.004|         0.5|     0|             0.5|(15,[10],[1.0])| (12,[6],[1.0])|(15,[10],[1.0])|(9,[3],[1.0])| (9,[3],[1.0])|(2,[1],[1.0])|     (2,[0],[1.0])|\n",
      "|       5.5E-4|         0|      1|     0.12844|    0.4973|           0.01414|         0|     1|               0.125|  2.8E-4|     6.3E-4|   0|        0.125| 0.0786|0.00537|0.004|        0.75|     0|         0.33333| (15,[0],[1.0])| (12,[0],[1.0])| (15,[0],[1.0])|(9,[1],[1.0])| (9,[0],[1.0])|(2,[1],[1.0])|     (2,[0],[1.0])|\n",
      "|      0.00103|         0|      1|     0.09174|    0.4616|           0.39394|         0|     0|                0.25|  2.8E-4|     5.9E-4|   1|        0.125|0.46807|0.00179|0.003|        0.25|     0|         0.33333| (15,[1],[1.0])| (12,[0],[1.0])| (15,[1],[1.0])|(9,[2],[1.0])| (9,[0],[1.0])|(2,[1],[1.0])|     (2,[0],[1.0])|\n",
      "|       5.4E-4|         0|      0|     0.04587|   0.45496|           0.39394|         0|     0|               0.125|  2.2E-4|     4.9E-4|   1|          0.0|0.45422|0.00179|0.004|        0.25|     0|         0.16667| (15,[1],[1.0])| (12,[2],[1.0])| (15,[1],[1.0])|(9,[0],[1.0])| (9,[0],[1.0])|(2,[1],[1.0])|     (2,[0],[1.0])|\n",
      "|      0.00144|         0|      1|     0.17431|    0.5907|           0.39394|         1|     1|                 0.5|  7.5E-4|     8.7E-4|   1|        0.625|0.85244|0.00537|0.005|        0.75|     0|             0.5| (15,[3],[1.0])| (12,[0],[1.0])| (15,[3],[1.0])|(9,[3],[1.0])| (9,[1],[1.0])|(2,[0],[1.0])|     (2,[0],[1.0])|\n",
      "|       5.3E-4|         0|      0|     0.02752|   0.45911|           0.39394|         0|     1|                0.25|  2.1E-4|     5.3E-4|   0|          0.0|0.08587|0.00358|0.003|         0.5|     0|         0.16667| (15,[0],[1.0])| (12,[0],[1.0])| (15,[0],[1.0])|(9,[5],[1.0])| (9,[2],[1.0])|(2,[1],[1.0])|     (2,[0],[1.0])|\n",
      "|       9.6E-4|         0|      1|     0.14679|   0.38854|           0.39394|         1|     1|                 0.0|  2.8E-4|     5.4E-4|   1|        0.125|0.08344|0.00179|0.002|        0.25|     0|         0.16667| (15,[0],[1.0])| (12,[1],[1.0])| (15,[0],[1.0])|(9,[0],[1.0])| (9,[0],[1.0])|(2,[0],[1.0])|     (2,[0],[1.0])|\n",
      "|       0.0015|         0|      1|     0.07339|   0.44749|           0.09091|         1|     0|                 1.0|  8.7E-4|     9.9E-4|   1|         0.75|0.66252|0.00358|0.002|         0.5|     0|         0.66667|     (15,[],[])| (12,[0],[1.0])|     (15,[],[])|(9,[4],[1.0])| (9,[0],[1.0])|    (2,[],[])|     (2,[0],[1.0])|\n",
      "|       8.2E-4|         0|      1|      0.0367|   0.42673|           0.39394|         0|     1|                 0.0|  2.4E-4|     4.7E-4|   0|          0.0|0.00965|    0.0|0.003|         0.0|     0|         0.16667| (15,[0],[1.0])| (12,[1],[1.0])| (15,[0],[1.0])|(9,[1],[1.0])| (9,[0],[1.0])|(2,[1],[1.0])|     (2,[0],[1.0])|\n",
      "+-------------+----------+-------+------------+----------+------------------+----------+------+--------------------+--------+-----------+----+-------------+-------+-------+-----+------------+------+----------------+---------------+---------------+---------------+-------------+--------------+-------------+------------------+\n",
      "only showing top 20 rows\n",
      "\n"
     ]
    }
   ],
   "source": [
    "df.select(datasetColumns).show()"
   ]
  },
  {
   "cell_type": "markdown",
   "metadata": {},
   "source": [
    "# Creamos la columna features"
   ]
  },
  {
   "cell_type": "code",
   "execution_count": 21,
   "metadata": {},
   "outputs": [],
   "source": [
    "df_assembler = VectorAssembler(inputCols = datasetColumns,outputCol=\"features\")\n",
    "df = df_assembler.transform(df)\n",
    "df = df.select(['features','totalRent'])\n"
   ]
  },
  {
   "cell_type": "code",
   "execution_count": 22,
   "metadata": {},
   "outputs": [],
   "source": [
    "df = df.withColumnRenamed('totalRent','label')"
   ]
  },
  {
   "cell_type": "code",
   "execution_count": 23,
   "metadata": {},
   "outputs": [
    {
     "name": "stdout",
     "output_type": "stream",
     "text": [
      "+--------------------+------+\n",
      "|            features| label|\n",
      "+--------------------+------+\n",
      "|(83,[0,3,4,5,9,10...|3.0E-5|\n",
      "|(83,[0,2,3,4,5,8,...|4.0E-5|\n",
      "|(83,[0,3,4,5,8,9,...|2.0E-5|\n",
      "|(83,[0,3,4,5,7,8,...|2.0E-5|\n",
      "|(83,[0,2,3,4,5,6,...|3.0E-5|\n",
      "|(83,[0,3,4,5,7,8,...|3.0E-5|\n",
      "|(83,[0,2,3,4,5,7,...|3.0E-5|\n",
      "|(83,[0,2,3,4,5,9,...|2.0E-5|\n",
      "|(83,[0,3,4,5,7,8,...|3.0E-5|\n",
      "|(83,[0,2,3,4,5,6,...|7.0E-5|\n",
      "|(83,[0,3,4,5,8,9,...|3.0E-5|\n",
      "|(83,[0,2,3,4,5,7,...|7.0E-5|\n",
      "|(83,[0,2,3,4,5,7,...|3.0E-5|\n",
      "|(83,[0,2,3,4,5,8,...|4.0E-5|\n",
      "|(83,[0,3,4,5,8,9,...|3.0E-5|\n",
      "|(83,[0,2,3,4,5,6,...|7.0E-5|\n",
      "|(83,[0,3,4,5,7,8,...|3.0E-5|\n",
      "|(83,[0,2,3,4,5,6,...|3.0E-5|\n",
      "|(83,[0,2,3,4,5,6,...|8.0E-5|\n",
      "|(83,[0,2,3,4,5,7,...|3.0E-5|\n",
      "+--------------------+------+\n",
      "only showing top 20 rows\n",
      "\n"
     ]
    }
   ],
   "source": [
    "\n",
    "df.select(['features','label']).show()\n"
   ]
  },
  {
   "cell_type": "code",
   "execution_count": 24,
   "metadata": {},
   "outputs": [
    {
     "name": "stdout",
     "output_type": "stream",
     "text": [
      "+---------------------------------------------------------------------------------------------------------------------------------------------------------------------------------------------------------+\n",
      "|features                                                                                                                                                                                                 |\n",
      "+---------------------------------------------------------------------------------------------------------------------------------------------------------------------------------------------------------+\n",
      "|(83,[0,3,4,5,9,10,12,13,14,15,16,18,20,34,47,67,72,79,81],[6.8E-4,0.26606,0.52677,0.01414,2.7E-4,4.7E-4,0.125,0.4486,0.00179,0.001,0.25,0.16667,1.0,1.0,1.0,1.0,1.0,1.0,1.0])                            |\n",
      "|(83,[0,2,3,4,5,8,9,10,12,13,14,15,16,18,20,34,47,61,71,81],[5.7E-4,1.0,0.0367,0.58489,0.01414,0.5,3.7E-4,6.8E-4,0.25,0.47839,0.00358,0.003,0.5,0.33333,1.0,1.0,1.0,1.0,1.0,1.0])                         |\n",
      "|(83,[0,3,4,5,8,9,10,13,14,15,16,18,20,42,47,61,71,81],[7.9E-4,0.10092,0.57534,0.39394,0.125,2.0E-4,4.0E-4,0.45781,0.00358,0.004,0.5,0.16667,1.0,1.0,1.0,1.0,1.0,1.0])                                    |\n",
      "|(83,[0,3,4,5,7,8,9,10,13,14,15,16,18,21,38,48,61,71,79,81],[2.3E-4,0.08257,0.41926,0.39394,1.0,0.125,1.7E-4,4.1E-4,0.38696,0.00179,0.001,0.25,0.16667,1.0,1.0,1.0,1.0,1.0,1.0,1.0])                      |\n",
      "|(83,[0,2,3,4,5,6,7,9,10,13,14,15,16,18,19,36,46,63,70,79,81],[0.00116,1.0,0.08257,0.3022,0.01414,1.0,1.0,2.3E-4,5.4E-4,0.08345,0.00179,0.003,0.25,0.16667,1.0,1.0,1.0,1.0,1.0,1.0,1.0])                  |\n",
      "|(83,[0,3,4,5,7,8,9,10,13,14,15,16,18,20,34,47,63,72,80,81],[9.4E-4,0.07339,0.46036,0.39394,1.0,0.125,2.2E-4,4.5E-4,0.45424,0.00179,0.001,0.25,0.16667,1.0,1.0,1.0,1.0,1.0,1.0,1.0])                      |\n",
      "|(83,[0,2,3,4,5,7,8,9,10,13,14,15,16,18,21,34,48,68,70,80,81],[4.7E-4,1.0,0.09174,0.43545,0.39394,1.0,0.375,2.2E-4,5.1E-4,0.05317,0.00358,0.002,0.5,0.16667,1.0,1.0,1.0,1.0,1.0,1.0,1.0])                 |\n",
      "|(83,[0,2,3,4,5,9,10,13,15,19,36,46,65,70,79,81],[5.9E-4,1.0,0.00917,0.60938,0.39394,2.0E-4,3.4E-4,0.03477,0.002,1.0,1.0,1.0,1.0,1.0,1.0,1.0])                                                            |\n",
      "|(83,[0,3,4,5,7,8,9,10,12,13,14,15,16,18,20,34,47,62,70,79,81],[8.1E-4,0.0367,0.52553,0.39394,1.0,0.125,2.6E-4,5.0E-4,0.125,0.45683,0.00268,0.002,0.25,0.16667,1.0,1.0,1.0,1.0,1.0,1.0,1.0])              |\n",
      "|(83,[0,2,3,4,5,6,7,8,9,10,12,13,14,15,16,18,32,34,59,61,70,81],[0.00154,1.0,0.11927,0.66833,0.39394,1.0,1.0,0.5,6.5E-4,7.4E-4,0.5,0.2138,0.00179,0.002,0.25,0.5,1.0,1.0,1.0,1.0,1.0,1.0])                |\n",
      "|(83,[0,3,4,5,8,9,10,13,14,15,16,18,31,58,65,72,81],[6.2E-4,0.05505,0.59153,0.01414,0.5,2.4E-4,4.9E-4,0.24885,0.00179,0.003,0.25,0.16667,1.0,1.0,1.0,1.0,1.0])                                            |\n",
      "|(83,[0,2,3,4,5,7,8,9,10,11,12,13,14,15,16,18,29,40,56,64,73,80,81],[0.00137,1.0,0.05505,0.53757,0.39394,1.0,0.875,7.0E-4,8.1E-4,1.0,0.625,0.55692,0.00358,0.004,0.5,0.5,1.0,1.0,1.0,1.0,1.0,1.0,1.0])    |\n",
      "|(83,[0,2,3,4,5,7,8,9,10,12,13,14,15,16,18,19,34,46,62,70,80,81],[5.5E-4,1.0,0.12844,0.4973,0.01414,1.0,0.125,2.8E-4,6.3E-4,0.125,0.0786,0.00537,0.004,0.75,0.33333,1.0,1.0,1.0,1.0,1.0,1.0,1.0])         |\n",
      "|(83,[0,2,3,4,5,8,9,10,11,12,13,14,15,16,18,20,34,47,63,70,80,81],[0.00103,1.0,0.09174,0.4616,0.39394,0.25,2.8E-4,5.9E-4,1.0,0.125,0.46807,0.00179,0.003,0.25,0.33333,1.0,1.0,1.0,1.0,1.0,1.0,1.0])       |\n",
      "|(83,[0,3,4,5,8,9,10,11,13,14,15,16,18,20,36,47,61,70,80,81],[5.4E-4,0.04587,0.45496,0.39394,0.125,2.2E-4,4.9E-4,1.0,0.45422,0.00179,0.004,0.25,0.16667,1.0,1.0,1.0,1.0,1.0,1.0,1.0])                     |\n",
      "|(83,[0,2,3,4,5,6,7,8,9,10,11,12,13,14,15,16,18,22,34,49,64,71,79,81],[0.00144,1.0,0.17431,0.5907,0.39394,1.0,1.0,0.5,7.5E-4,8.7E-4,1.0,0.625,0.85244,0.00537,0.005,0.75,0.5,1.0,1.0,1.0,1.0,1.0,1.0,1.0])|\n",
      "|(83,[0,3,4,5,7,8,9,10,13,14,15,16,18,19,34,46,66,72,80,81],[5.3E-4,0.02752,0.45911,0.39394,1.0,0.25,2.1E-4,5.3E-4,0.08587,0.00358,0.003,0.5,0.16667,1.0,1.0,1.0,1.0,1.0,1.0,1.0])                        |\n",
      "|(83,[0,2,3,4,5,6,7,9,10,11,12,13,14,15,16,18,19,35,46,61,70,79,81],[9.6E-4,1.0,0.14679,0.38854,0.39394,1.0,1.0,2.8E-4,5.4E-4,1.0,0.125,0.08344,0.00179,0.002,0.25,0.16667,1.0,1.0,1.0,1.0,1.0,1.0,1.0])  |\n",
      "|(83,[0,2,3,4,5,6,8,9,10,11,12,13,14,15,16,18,34,65,70,81],[0.0015,1.0,0.07339,0.44749,0.09091,1.0,1.0,8.7E-4,9.9E-4,1.0,0.75,0.66252,0.00358,0.002,0.5,0.66667,1.0,1.0,1.0,1.0])                         |\n",
      "|(83,[0,2,3,4,5,7,9,10,13,15,18,19,35,46,62,70,80,81],[8.2E-4,1.0,0.0367,0.42673,0.39394,1.0,2.4E-4,4.7E-4,0.00965,0.003,0.16667,1.0,1.0,1.0,1.0,1.0,1.0,1.0])                                            |\n",
      "+---------------------------------------------------------------------------------------------------------------------------------------------------------------------------------------------------------+\n",
      "only showing top 20 rows\n",
      "\n"
     ]
    }
   ],
   "source": [
    "df.select(\"features\").show(20,False)"
   ]
  },
  {
   "cell_type": "markdown",
   "metadata": {},
   "source": [
    "# Dividimos el dataset para entrenamiento y prueba"
   ]
  },
  {
   "cell_type": "code",
   "execution_count": 25,
   "metadata": {},
   "outputs": [],
   "source": [
    "train,test = df.randomSplit([0.8,0.2])"
   ]
  },
  {
   "cell_type": "markdown",
   "metadata": {},
   "source": [
    "# Iniciamos con el entrenamiento"
   ]
  },
  {
   "cell_type": "code",
   "execution_count": 26,
   "metadata": {},
   "outputs": [],
   "source": [
    "from pyspark.ml.tuning import ParamGridBuilder, CrossValidator\n",
    "from pyspark.ml.evaluation import BinaryClassificationEvaluator"
   ]
  },
  {
   "cell_type": "markdown",
   "metadata": {},
   "source": [
    "## Iniciamos con el algoritmo Linear Regression"
   ]
  },
  {
   "cell_type": "code",
   "execution_count": 27,
   "metadata": {},
   "outputs": [],
   "source": [
    "# Importacion de libs y operaciones\n",
    "from pyspark.ml.regression import LinearRegression\n",
    "lr = LinearRegression()"
   ]
  },
  {
   "cell_type": "code",
   "execution_count": 28,
   "metadata": {},
   "outputs": [],
   "source": [
    "lr_model=lr.fit(train)"
   ]
  },
  {
   "cell_type": "code",
   "execution_count": 29,
   "metadata": {},
   "outputs": [],
   "source": [
    "predictions_df = lr_model.transform(test)"
   ]
  },
  {
   "cell_type": "code",
   "execution_count": 30,
   "metadata": {},
   "outputs": [
    {
     "data": {
      "text/plain": [
       "<pyspark.ml.regression.LinearRegressionSummary at 0x11f18b5c0>"
      ]
     },
     "execution_count": 30,
     "metadata": {},
     "output_type": "execute_result"
    }
   ],
   "source": [
    "# evaluacion del modelo, le llamaremos model_predictions\n",
    "model_predictions = lr_model.evaluate(test)\n",
    "model_predictions"
   ]
  },
  {
   "cell_type": "markdown",
   "metadata": {},
   "source": [
    "### imprimimos el valor R2:"
   ]
  },
  {
   "cell_type": "code",
   "execution_count": 31,
   "metadata": {},
   "outputs": [
    {
     "data": {
      "text/plain": [
       "0.92916"
      ]
     },
     "execution_count": 31,
     "metadata": {},
     "output_type": "execute_result"
    }
   ],
   "source": [
    "round(float(model_predictions.r2),5)"
   ]
  },
  {
   "cell_type": "markdown",
   "metadata": {},
   "source": [
    "### imprimimos el valor de meanSquaredError"
   ]
  },
  {
   "cell_type": "code",
   "execution_count": 32,
   "metadata": {},
   "outputs": [
    {
     "data": {
      "text/plain": [
       "0.0"
      ]
     },
     "execution_count": 32,
     "metadata": {},
     "output_type": "execute_result"
    }
   ],
   "source": [
    "round(float(model_predictions.meanSquaredError),5)"
   ]
  },
  {
   "cell_type": "code",
   "execution_count": null,
   "metadata": {},
   "outputs": [],
   "source": []
  },
  {
   "cell_type": "markdown",
   "metadata": {},
   "source": [
    "## Probamos el Algoritmo Decision Tree Regressor"
   ]
  },
  {
   "cell_type": "code",
   "execution_count": 33,
   "metadata": {},
   "outputs": [],
   "source": [
    "from pyspark.ml.regression import DecisionTreeRegressor"
   ]
  },
  {
   "cell_type": "code",
   "execution_count": 34,
   "metadata": {},
   "outputs": [],
   "source": [
    "dec_tree = DecisionTreeRegressor()"
   ]
  },
  {
   "cell_type": "code",
   "execution_count": 35,
   "metadata": {},
   "outputs": [],
   "source": [
    "dec_tree_model = dec_tree.fit(train)"
   ]
  },
  {
   "cell_type": "code",
   "execution_count": 36,
   "metadata": {},
   "outputs": [],
   "source": [
    "model_predictions = dec_tree_model.transform(test)"
   ]
  },
  {
   "cell_type": "markdown",
   "metadata": {},
   "source": [
    "Usamos el RegressionEvaluator"
   ]
  },
  {
   "cell_type": "code",
   "execution_count": 37,
   "metadata": {},
   "outputs": [],
   "source": [
    "from pyspark.ml.evaluation import RegressionEvaluator\n"
   ]
  },
  {
   "cell_type": "code",
   "execution_count": 38,
   "metadata": {},
   "outputs": [
    {
     "name": "stdout",
     "output_type": "stream",
     "text": [
      "The r-square value this model is -0.15439\n",
      "The RMSE value this model is 0.00037\n",
      "The MAE value this model is 0.00037\n"
     ]
    }
   ],
   "source": [
    "# R2 value of the model on test data \n",
    "dt_evaluator = RegressionEvaluator(metricName='r2')\n",
    "dt_r2 = dt_evaluator.evaluate(model_predictions)\n",
    "print(f'The r-square value this model is {round(float(dt_r2),5)}')\n",
    "\n",
    "# RMSE value of the model on test data \n",
    "dt_evaluatorRMSE = RegressionEvaluator(metricName='rmse')\n",
    "dt_RMSE = dt_evaluatorRMSE.evaluate(model_predictions)\n",
    "print(f'The RMSE value this model is {round(float(dt_RMSE),5)}')\n",
    "\n",
    "# RMSE value of the model on test data \n",
    "dt_evaluatorMAE = RegressionEvaluator(metricName='mae')\n",
    "dt_mae = dt_evaluatorMAE.evaluate(model_predictions)\n",
    "print(f'The MAE value this model is {round(float(dt_RMSE),5)}')"
   ]
  },
  {
   "cell_type": "markdown",
   "metadata": {},
   "source": [
    "## Utilizamos el algoritmo Random Forest Regressor"
   ]
  },
  {
   "cell_type": "code",
   "execution_count": 39,
   "metadata": {},
   "outputs": [],
   "source": [
    "from pyspark.ml.regression import RandomForestRegressor\n",
    "\n",
    "# Regresor \n",
    "Rfr = RandomForestRegressor()\n",
    "# Train model, le llamaremos rf_model\n",
    "rf_model=Rfr.fit(train)\n",
    "# model_predictions\n",
    "model_predictions = rf_model.transform(test)"
   ]
  },
  {
   "cell_type": "markdown",
   "metadata": {},
   "source": [
    "Observamos el reseltado"
   ]
  },
  {
   "cell_type": "code",
   "execution_count": 40,
   "metadata": {},
   "outputs": [
    {
     "name": "stdout",
     "output_type": "stream",
     "text": [
      "The r-square value this model is -1.24016\n",
      "The RMSE value this model is 0.00052\n",
      "The MAE value this model is 0.00052\n"
     ]
    }
   ],
   "source": [
    "# R2 value of the model on test data \n",
    "dt_evaluator = RegressionEvaluator(metricName='r2')\n",
    "dt_r2 = dt_evaluator.evaluate(model_predictions)\n",
    "print(f'The r-square value this model is {round(float(dt_r2),5)}')\n",
    "\n",
    "# RMSE value of the model on test data \n",
    "dt_evaluatorRMSE = RegressionEvaluator(metricName='rmse')\n",
    "dt_RMSE = dt_evaluatorRMSE.evaluate(model_predictions)\n",
    "print(f'The RMSE value this model is {round(float(dt_RMSE),5)}')\n",
    "\n",
    "# RMSE value of the model on test data \n",
    "dt_evaluatorMAE = RegressionEvaluator(metricName='mae')\n",
    "dt_mae = dt_evaluatorMAE.evaluate(model_predictions)\n",
    "print(f'The MAE value this model is {round(float(dt_RMSE),5)}')"
   ]
  },
  {
   "cell_type": "markdown",
   "metadata": {},
   "source": [
    "## Utilizamos Gradient-Boosted Tree Regressor¶"
   ]
  },
  {
   "cell_type": "code",
   "execution_count": 41,
   "metadata": {},
   "outputs": [],
   "source": [
    "from pyspark.ml.regression import GBTRegressor\n",
    "gbt = GBTRegressor()\n",
    "gbt_model=gbt.fit(train)\n",
    "model_predictions = gbt_model.transform(test)\n"
   ]
  },
  {
   "cell_type": "code",
   "execution_count": 42,
   "metadata": {},
   "outputs": [
    {
     "name": "stdout",
     "output_type": "stream",
     "text": [
      "The r-square value this model is -0.01908\n",
      "The RMSE value this model is 0.00035\n",
      "The MAE value this model is 0.00035\n"
     ]
    }
   ],
   "source": [
    "# R2 value of the model on test data \n",
    "dt_evaluator = RegressionEvaluator(metricName='r2')\n",
    "dt_r2 = dt_evaluator.evaluate(model_predictions)\n",
    "print(f'The r-square value this model is {round(float(dt_r2),5)}')\n",
    "\n",
    "# RMSE value of the model on test data \n",
    "dt_evaluatorRMSE = RegressionEvaluator(metricName='rmse')\n",
    "dt_RMSE = dt_evaluatorRMSE.evaluate(model_predictions)\n",
    "print(f'The RMSE value this model is {round(float(dt_RMSE),5)}')\n",
    "\n",
    "# RMSE value of the model on test data \n",
    "dt_evaluatorMAE = RegressionEvaluator(metricName='mae')\n",
    "dt_mae = dt_evaluatorMAE.evaluate(model_predictions)\n",
    "print(f'The MAE value this model is {round(float(dt_RMSE),5)}')"
   ]
  },
  {
   "cell_type": "markdown",
   "metadata": {},
   "source": [
    "## Utilizamos Isotonic regression\n"
   ]
  },
  {
   "cell_type": "code",
   "execution_count": 43,
   "metadata": {},
   "outputs": [],
   "source": [
    "from pyspark.ml.regression import IsotonicRegression\n",
    "ir_model = IsotonicRegression().fit(train)\n",
    "model_predictions = ir_model.transform(test)"
   ]
  },
  {
   "cell_type": "code",
   "execution_count": 44,
   "metadata": {},
   "outputs": [
    {
     "name": "stdout",
     "output_type": "stream",
     "text": [
      "The r-square value this model is -0.00028\n",
      "The RMSE value this model is 0.00035\n",
      "The MAE value this model is 0.00035\n"
     ]
    }
   ],
   "source": [
    "# R2 value of the model on test data \n",
    "dt_evaluator = RegressionEvaluator(metricName='r2')\n",
    "dt_r2 = dt_evaluator.evaluate(model_predictions)\n",
    "print(f'The r-square value this model is {round(float(dt_r2),5)}')\n",
    "\n",
    "# RMSE value of the model on test data \n",
    "dt_evaluatorRMSE = RegressionEvaluator(metricName='rmse')\n",
    "dt_RMSE = dt_evaluatorRMSE.evaluate(model_predictions)\n",
    "print(f'The RMSE value this model is {round(float(dt_RMSE),5)}')\n",
    "\n",
    "# RMSE value of the model on test data \n",
    "dt_evaluatorMAE = RegressionEvaluator(metricName='mae')\n",
    "dt_mae = dt_evaluatorMAE.evaluate(model_predictions)\n",
    "print(f'The MAE value this model is {round(float(dt_RMSE),5)}')"
   ]
  },
  {
   "cell_type": "code",
   "execution_count": 45,
   "metadata": {},
   "outputs": [
    {
     "name": "stdout",
     "output_type": "stream",
     "text": [
      "Tiempo Transcurrido en minutos:  20.587393816312154\n"
     ]
    }
   ],
   "source": [
    "end = time.time()\n",
    "print(\"Tiempo Transcurrido en minutos: \",(end-start)/60)"
   ]
  },
  {
   "cell_type": "markdown",
   "metadata": {},
   "source": [
    "# Conclusión\n",
    "\n",
    "Las pruebas se realizaron con un dataset 20% para validación y 80% para entrenamiento con un total de 168609 registros\n",
    "\n",
    "Como se puede observar lo mas alarmante es el resultado de la metrica r_2, que tiende a cero o en algunos modelos hasta en negativo, estamos utilizando datos categoricos y bastantes columnas como un total de 83, la metrica r_2 puede verse muy afectada por la distancias que se encuentras los vectores categoricos, por lo cual presenta un valor inconsistente.\n",
    "\n",
    "Este articulo nos menciona como esta metrica no nos puede contar si un modelo de regression esta bien entrenado:\n",
    "\n",
    "https://blog.minitab.com/blog/adventures-in-statistics-2/regression-analysis-how-do-i-interpret-r-squared-and-assess-the-goodness-of-fit\n",
    "\n",
    "MAE: el error se calcula como un promedio de diferencias absolutas entre los valores objetivo y las predicciones.\n",
    "\n",
    "RMSE: básicamente mide el error cuadrado promedio de nuestras predicciones\n",
    "\n",
    "\n",
    "Por otra parte La metrica MAE Y RMSE, son las metricas mas usadas para modelos de regresición, por lo cual entre mas bajo sea este valor mejor, podemos observar que en los modelos el MAE y RMSE son muy bajos teniendo como mejores modelos Isotonic regression y Gradient-Boosted Tree Regressor los cuales los valoraremos por separado en otra jupyternotebook "
   ]
  },
  {
   "cell_type": "code",
   "execution_count": null,
   "metadata": {},
   "outputs": [],
   "source": []
  }
 ],
 "metadata": {
  "kernelspec": {
   "display_name": "Python 3",
   "language": "python",
   "name": "python3"
  },
  "language_info": {
   "codemirror_mode": {
    "name": "ipython",
    "version": 3
   },
   "file_extension": ".py",
   "mimetype": "text/x-python",
   "name": "python",
   "nbconvert_exporter": "python",
   "pygments_lexer": "ipython3",
   "version": "3.6.9"
  }
 },
 "nbformat": 4,
 "nbformat_minor": 2
}
