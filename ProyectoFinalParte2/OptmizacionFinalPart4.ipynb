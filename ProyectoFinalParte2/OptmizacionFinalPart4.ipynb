{
 "cells": [
  {
   "cell_type": "markdown",
   "metadata": {},
   "source": [
    "Importamos las librerias necesarias"
   ]
  },
  {
   "cell_type": "code",
   "execution_count": 1,
   "metadata": {},
   "outputs": [],
   "source": [
    "import findspark\n",
    "findspark.init('/opt/spark')\n",
    "\n",
    "from datetime import datetime\n",
    "from pyspark.sql import SparkSession\n",
    "from pyspark.sql.functions import col, date_format, udf \n",
    "from pyspark.sql.types import DateType\n",
    "from pyspark.sql import Window\n",
    "import pyspark.sql.functions as F\n",
    "import numpy as np\n",
    "from pyspark.ml.feature import MinMaxScaler\n",
    "from pyspark.ml.feature import VectorAssembler\n",
    "from pyspark.ml import Pipeline\n",
    "from pyspark.sql.functions import udf\n",
    "from pyspark.sql.types import DoubleType\n",
    "from pyspark.ml.feature import OneHotEncoder, StringIndexer, VectorAssembler\n",
    "import time\n",
    "\n",
    "\n",
    "#path del archivo postgresql-42.1.4.jar\n",
    "dir = \"/Users/jasonsolano/Documents/BigData/BigDataTEC/Clase1/DB/\"\n",
    "spark = SparkSession \\\n",
    "    .builder \\\n",
    "    .appName(\"Basic JDBC pipeline\") \\\n",
    "    .config(\"spark.driver.extraClassPath\", dir+\"postgresql-42.1.4.jar\") \\\n",
    "    .config(\"spark.executor.extraClassPath\", dir+\"postgresql-42.1.4.jar\") \\\n",
    "    .getOrCreate()\n",
    "\n",
    "start = time.time()"
   ]
  },
  {
   "cell_type": "markdown",
   "metadata": {},
   "source": [
    "Importamos los datos limpios de postgres"
   ]
  },
  {
   "cell_type": "code",
   "execution_count": 2,
   "metadata": {},
   "outputs": [
    {
     "data": {
      "text/html": [
       "<div>\n",
       "<style scoped>\n",
       "    .dataframe tbody tr th:only-of-type {\n",
       "        vertical-align: middle;\n",
       "    }\n",
       "\n",
       "    .dataframe tbody tr th {\n",
       "        vertical-align: top;\n",
       "    }\n",
       "\n",
       "    .dataframe thead th {\n",
       "        text-align: right;\n",
       "    }\n",
       "</style>\n",
       "<table border=\"1\" class=\"dataframe\">\n",
       "  <thead>\n",
       "    <tr style=\"text-align: right;\">\n",
       "      <th></th>\n",
       "      <th>regio1</th>\n",
       "      <th>serviceCharge</th>\n",
       "      <th>heatingType</th>\n",
       "      <th>telekomTvOffer</th>\n",
       "      <th>newlyConst</th>\n",
       "      <th>balcony</th>\n",
       "      <th>picturecount</th>\n",
       "      <th>pricetrend</th>\n",
       "      <th>telekomUploadSpeed</th>\n",
       "      <th>totalRent</th>\n",
       "      <th>...</th>\n",
       "      <th>typeOfFlat</th>\n",
       "      <th>geo_plz</th>\n",
       "      <th>noRooms</th>\n",
       "      <th>floor</th>\n",
       "      <th>noRoomsRange</th>\n",
       "      <th>garden</th>\n",
       "      <th>livingSpaceRange</th>\n",
       "      <th>regio2</th>\n",
       "      <th>regio3</th>\n",
       "      <th>date</th>\n",
       "    </tr>\n",
       "  </thead>\n",
       "  <tbody>\n",
       "    <tr>\n",
       "      <td>0</td>\n",
       "      <td>Nordrhein_Westfalen</td>\n",
       "      <td>100.00</td>\n",
       "      <td>central_heating</td>\n",
       "      <td>ONE_YEAR_FREE</td>\n",
       "      <td>False</td>\n",
       "      <td>False</td>\n",
       "      <td>29</td>\n",
       "      <td>3.52</td>\n",
       "      <td>2.4</td>\n",
       "      <td>429.00</td>\n",
       "      <td>...</td>\n",
       "      <td>ground_floor</td>\n",
       "      <td>45329</td>\n",
       "      <td>2.0</td>\n",
       "      <td>0.0</td>\n",
       "      <td>2</td>\n",
       "      <td>False</td>\n",
       "      <td>2</td>\n",
       "      <td>Essen</td>\n",
       "      <td>Karnap</td>\n",
       "      <td>May19</td>\n",
       "    </tr>\n",
       "    <tr>\n",
       "      <td>1</td>\n",
       "      <td>Nordrhein_Westfalen</td>\n",
       "      <td>84.00</td>\n",
       "      <td>central_heating</td>\n",
       "      <td>ONE_YEAR_FREE</td>\n",
       "      <td>False</td>\n",
       "      <td>True</td>\n",
       "      <td>4</td>\n",
       "      <td>4.92</td>\n",
       "      <td>2.4</td>\n",
       "      <td>578.00</td>\n",
       "      <td>...</td>\n",
       "      <td>roof_storey</td>\n",
       "      <td>48282</td>\n",
       "      <td>3.0</td>\n",
       "      <td>2.0</td>\n",
       "      <td>3</td>\n",
       "      <td>False</td>\n",
       "      <td>3</td>\n",
       "      <td>Steinfurt_Kreis</td>\n",
       "      <td>Emsdetten</td>\n",
       "      <td>Sep18</td>\n",
       "    </tr>\n",
       "    <tr>\n",
       "      <td>2</td>\n",
       "      <td>Nordrhein_Westfalen</td>\n",
       "      <td>115.00</td>\n",
       "      <td>night_storage_heater</td>\n",
       "      <td>ONE_YEAR_FREE</td>\n",
       "      <td>False</td>\n",
       "      <td>False</td>\n",
       "      <td>11</td>\n",
       "      <td>4.69</td>\n",
       "      <td>40.0</td>\n",
       "      <td>365.00</td>\n",
       "      <td>...</td>\n",
       "      <td>roof_storey</td>\n",
       "      <td>46242</td>\n",
       "      <td>3.0</td>\n",
       "      <td>3.0</td>\n",
       "      <td>3</td>\n",
       "      <td>False</td>\n",
       "      <td>2</td>\n",
       "      <td>Bottrop</td>\n",
       "      <td>Lehmkuhle</td>\n",
       "      <td>Sep18</td>\n",
       "    </tr>\n",
       "    <tr>\n",
       "      <td>3</td>\n",
       "      <td>Sachsen_Anhalt</td>\n",
       "      <td>33.00</td>\n",
       "      <td>self_contained_central_heating</td>\n",
       "      <td>ONE_YEAR_FREE</td>\n",
       "      <td>False</td>\n",
       "      <td>False</td>\n",
       "      <td>9</td>\n",
       "      <td>0.93</td>\n",
       "      <td>40.0</td>\n",
       "      <td>358.00</td>\n",
       "      <td>...</td>\n",
       "      <td>roof_storey</td>\n",
       "      <td>39218</td>\n",
       "      <td>2.0</td>\n",
       "      <td>0.0</td>\n",
       "      <td>2</td>\n",
       "      <td>False</td>\n",
       "      <td>2</td>\n",
       "      <td>Salzlandkreis</td>\n",
       "      <td>Schönebeck_Elbe</td>\n",
       "      <td>May19</td>\n",
       "    </tr>\n",
       "    <tr>\n",
       "      <td>4</td>\n",
       "      <td>Sachsen</td>\n",
       "      <td>169.75</td>\n",
       "      <td>gas_heating</td>\n",
       "      <td>ONE_YEAR_FREE</td>\n",
       "      <td>False</td>\n",
       "      <td>True</td>\n",
       "      <td>9</td>\n",
       "      <td>-1.89</td>\n",
       "      <td>2.4</td>\n",
       "      <td>449.49</td>\n",
       "      <td>...</td>\n",
       "      <td>apartment</td>\n",
       "      <td>9126</td>\n",
       "      <td>2.0</td>\n",
       "      <td>2.0</td>\n",
       "      <td>2</td>\n",
       "      <td>False</td>\n",
       "      <td>2</td>\n",
       "      <td>Chemnitz</td>\n",
       "      <td>Bernsdorf</td>\n",
       "      <td>May19</td>\n",
       "    </tr>\n",
       "  </tbody>\n",
       "</table>\n",
       "<p>5 rows × 31 columns</p>\n",
       "</div>"
      ],
      "text/plain": [
       "                regio1  serviceCharge                     heatingType  \\\n",
       "0  Nordrhein_Westfalen         100.00                 central_heating   \n",
       "1  Nordrhein_Westfalen          84.00                 central_heating   \n",
       "2  Nordrhein_Westfalen         115.00            night_storage_heater   \n",
       "3       Sachsen_Anhalt          33.00  self_contained_central_heating   \n",
       "4              Sachsen         169.75                     gas_heating   \n",
       "\n",
       "  telekomTvOffer  newlyConst  balcony  picturecount  pricetrend  \\\n",
       "0  ONE_YEAR_FREE       False    False            29        3.52   \n",
       "1  ONE_YEAR_FREE       False     True             4        4.92   \n",
       "2  ONE_YEAR_FREE       False    False            11        4.69   \n",
       "3  ONE_YEAR_FREE       False    False             9        0.93   \n",
       "4  ONE_YEAR_FREE       False     True             9       -1.89   \n",
       "\n",
       "   telekomUploadSpeed  totalRent  ...    typeOfFlat  geo_plz noRooms  floor  \\\n",
       "0                 2.4     429.00  ...  ground_floor    45329     2.0    0.0   \n",
       "1                 2.4     578.00  ...   roof_storey    48282     3.0    2.0   \n",
       "2                40.0     365.00  ...   roof_storey    46242     3.0    3.0   \n",
       "3                40.0     358.00  ...   roof_storey    39218     2.0    0.0   \n",
       "4                 2.4     449.49  ...     apartment     9126     2.0    2.0   \n",
       "\n",
       "   noRoomsRange  garden  livingSpaceRange           regio2           regio3  \\\n",
       "0             2   False                 2            Essen           Karnap   \n",
       "1             3   False                 3  Steinfurt_Kreis        Emsdetten   \n",
       "2             3   False                 2          Bottrop        Lehmkuhle   \n",
       "3             2   False                 2    Salzlandkreis  Schönebeck_Elbe   \n",
       "4             2   False                 2         Chemnitz        Bernsdorf   \n",
       "\n",
       "    date  \n",
       "0  May19  \n",
       "1  Sep18  \n",
       "2  Sep18  \n",
       "3  May19  \n",
       "4  May19  \n",
       "\n",
       "[5 rows x 31 columns]"
      ]
     },
     "execution_count": 2,
     "metadata": {},
     "output_type": "execute_result"
    }
   ],
   "source": [
    "df = spark \\\n",
    "    .read \\\n",
    "    .format(\"jdbc\") \\\n",
    "    .option(\"url\", \"jdbc:postgresql://localhost/ImmoDataBase\") \\\n",
    "    .option(\"user\", \"postgres\") \\\n",
    "    .option(\"password\", \"102800\") \\\n",
    "    .option(\"dbtable\", \"apartmentrentalclean\") \\\n",
    "    .load()\n",
    "\n",
    "df.limit(5).toPandas().head()"
   ]
  },
  {
   "cell_type": "markdown",
   "metadata": {},
   "source": [
    "Se imprime el esquema"
   ]
  },
  {
   "cell_type": "code",
   "execution_count": 3,
   "metadata": {},
   "outputs": [
    {
     "name": "stdout",
     "output_type": "stream",
     "text": [
      "root\n",
      " |-- regio1: string (nullable = true)\n",
      " |-- serviceCharge: double (nullable = true)\n",
      " |-- heatingType: string (nullable = true)\n",
      " |-- telekomTvOffer: string (nullable = true)\n",
      " |-- newlyConst: boolean (nullable = true)\n",
      " |-- balcony: boolean (nullable = true)\n",
      " |-- picturecount: integer (nullable = true)\n",
      " |-- pricetrend: double (nullable = true)\n",
      " |-- telekomUploadSpeed: double (nullable = true)\n",
      " |-- totalRent: double (nullable = true)\n",
      " |-- firingTypes: string (nullable = true)\n",
      " |-- hasKitchen: boolean (nullable = true)\n",
      " |-- geo_bln: string (nullable = true)\n",
      " |-- cellar: boolean (nullable = true)\n",
      " |-- yearConstructedRange: double (nullable = true)\n",
      " |-- baseRent: double (nullable = true)\n",
      " |-- livingSpace: double (nullable = true)\n",
      " |-- geo_krs: string (nullable = true)\n",
      " |-- condition: string (nullable = true)\n",
      " |-- lift: boolean (nullable = true)\n",
      " |-- baseRentRange: integer (nullable = true)\n",
      " |-- typeOfFlat: string (nullable = true)\n",
      " |-- geo_plz: integer (nullable = true)\n",
      " |-- noRooms: double (nullable = true)\n",
      " |-- floor: double (nullable = true)\n",
      " |-- noRoomsRange: integer (nullable = true)\n",
      " |-- garden: boolean (nullable = true)\n",
      " |-- livingSpaceRange: integer (nullable = true)\n",
      " |-- regio2: string (nullable = true)\n",
      " |-- regio3: string (nullable = true)\n",
      " |-- date: string (nullable = true)\n",
      "\n"
     ]
    }
   ],
   "source": [
    "df.printSchema()"
   ]
  },
  {
   "cell_type": "markdown",
   "metadata": {},
   "source": [
    "Creamos la siguiente funcioon para normalizar las columnas numericas"
   ]
  },
  {
   "cell_type": "code",
   "execution_count": 4,
   "metadata": {},
   "outputs": [],
   "source": [
    "def normalizeColumn(df,listColumnName):\n",
    "    unlist = udf(lambda x: round(float(list(x)[0]),10), DoubleType())\n",
    "\n",
    "    for i in listColumnName:\n",
    "       \n",
    "        assembler = VectorAssembler(inputCols=[i],outputCol=i+\"_Vect\")\n",
    "\n",
    "        scaler = MinMaxScaler(inputCol=i+\"_Vect\", outputCol=i+\"_Scaled\")\n",
    "\n",
    "        pipeline = Pipeline(stages=[assembler, scaler])\n",
    "\n",
    "        # Fitting pipeline on dataframe\n",
    "        df = pipeline.fit(df).transform(df).withColumn(i, unlist(i+\"_Scaled\")).drop(i+\"_Vect\")\n",
    "        df = df.drop(i+\"_Scaled\")\n",
    "    return df\n"
   ]
  },
  {
   "cell_type": "markdown",
   "metadata": {},
   "source": [
    "Probamos la funcion para la normalizacion con solo una columna\n",
    "\n",
    "Primero vemos la columna serviceCharge sin normalizacion"
   ]
  },
  {
   "cell_type": "code",
   "execution_count": 5,
   "metadata": {},
   "outputs": [
    {
     "data": {
      "text/html": [
       "<div>\n",
       "<style scoped>\n",
       "    .dataframe tbody tr th:only-of-type {\n",
       "        vertical-align: middle;\n",
       "    }\n",
       "\n",
       "    .dataframe tbody tr th {\n",
       "        vertical-align: top;\n",
       "    }\n",
       "\n",
       "    .dataframe thead th {\n",
       "        text-align: right;\n",
       "    }\n",
       "</style>\n",
       "<table border=\"1\" class=\"dataframe\">\n",
       "  <thead>\n",
       "    <tr style=\"text-align: right;\">\n",
       "      <th></th>\n",
       "      <th>serviceCharge</th>\n",
       "      <th>count</th>\n",
       "      <th>perc_of_count_total</th>\n",
       "    </tr>\n",
       "  </thead>\n",
       "  <tbody>\n",
       "    <tr>\n",
       "      <td>0</td>\n",
       "      <td>150.00</td>\n",
       "      <td>9009</td>\n",
       "      <td>0.053431</td>\n",
       "    </tr>\n",
       "    <tr>\n",
       "      <td>1</td>\n",
       "      <td>100.00</td>\n",
       "      <td>8066</td>\n",
       "      <td>0.047838</td>\n",
       "    </tr>\n",
       "    <tr>\n",
       "      <td>2</td>\n",
       "      <td>200.00</td>\n",
       "      <td>6811</td>\n",
       "      <td>0.040395</td>\n",
       "    </tr>\n",
       "    <tr>\n",
       "      <td>3</td>\n",
       "      <td>120.00</td>\n",
       "      <td>6615</td>\n",
       "      <td>0.039233</td>\n",
       "    </tr>\n",
       "    <tr>\n",
       "      <td>4</td>\n",
       "      <td>130.00</td>\n",
       "      <td>4809</td>\n",
       "      <td>0.028522</td>\n",
       "    </tr>\n",
       "    <tr>\n",
       "      <td>5</td>\n",
       "      <td>140.00</td>\n",
       "      <td>4587</td>\n",
       "      <td>0.027205</td>\n",
       "    </tr>\n",
       "    <tr>\n",
       "      <td>6</td>\n",
       "      <td>180.00</td>\n",
       "      <td>4202</td>\n",
       "      <td>0.024922</td>\n",
       "    </tr>\n",
       "    <tr>\n",
       "      <td>7</td>\n",
       "      <td>80.00</td>\n",
       "      <td>4148</td>\n",
       "      <td>0.024601</td>\n",
       "    </tr>\n",
       "    <tr>\n",
       "      <td>8</td>\n",
       "      <td>110.00</td>\n",
       "      <td>3927</td>\n",
       "      <td>0.023291</td>\n",
       "    </tr>\n",
       "    <tr>\n",
       "      <td>9</td>\n",
       "      <td>250.00</td>\n",
       "      <td>3914</td>\n",
       "      <td>0.023213</td>\n",
       "    </tr>\n",
       "    <tr>\n",
       "      <td>10</td>\n",
       "      <td>90.00</td>\n",
       "      <td>3878</td>\n",
       "      <td>0.023000</td>\n",
       "    </tr>\n",
       "    <tr>\n",
       "      <td>11</td>\n",
       "      <td>160.00</td>\n",
       "      <td>3829</td>\n",
       "      <td>0.022709</td>\n",
       "    </tr>\n",
       "    <tr>\n",
       "      <td>12</td>\n",
       "      <td>70.00</td>\n",
       "      <td>3253</td>\n",
       "      <td>0.019293</td>\n",
       "    </tr>\n",
       "    <tr>\n",
       "      <td>13</td>\n",
       "      <td>170.00</td>\n",
       "      <td>3041</td>\n",
       "      <td>0.018036</td>\n",
       "    </tr>\n",
       "    <tr>\n",
       "      <td>14</td>\n",
       "      <td>151.55</td>\n",
       "      <td>3003</td>\n",
       "      <td>0.017810</td>\n",
       "    </tr>\n",
       "    <tr>\n",
       "      <td>15</td>\n",
       "      <td>60.00</td>\n",
       "      <td>2774</td>\n",
       "      <td>0.016452</td>\n",
       "    </tr>\n",
       "    <tr>\n",
       "      <td>16</td>\n",
       "      <td>0.00</td>\n",
       "      <td>2448</td>\n",
       "      <td>0.014519</td>\n",
       "    </tr>\n",
       "    <tr>\n",
       "      <td>17</td>\n",
       "      <td>50.00</td>\n",
       "      <td>2266</td>\n",
       "      <td>0.013439</td>\n",
       "    </tr>\n",
       "    <tr>\n",
       "      <td>18</td>\n",
       "      <td>190.00</td>\n",
       "      <td>2070</td>\n",
       "      <td>0.012277</td>\n",
       "    </tr>\n",
       "    <tr>\n",
       "      <td>19</td>\n",
       "      <td>220.00</td>\n",
       "      <td>2022</td>\n",
       "      <td>0.011992</td>\n",
       "    </tr>\n",
       "  </tbody>\n",
       "</table>\n",
       "</div>"
      ],
      "text/plain": [
       "    serviceCharge  count  perc_of_count_total\n",
       "0          150.00   9009             0.053431\n",
       "1          100.00   8066             0.047838\n",
       "2          200.00   6811             0.040395\n",
       "3          120.00   6615             0.039233\n",
       "4          130.00   4809             0.028522\n",
       "5          140.00   4587             0.027205\n",
       "6          180.00   4202             0.024922\n",
       "7           80.00   4148             0.024601\n",
       "8          110.00   3927             0.023291\n",
       "9          250.00   3914             0.023213\n",
       "10          90.00   3878             0.023000\n",
       "11         160.00   3829             0.022709\n",
       "12          70.00   3253             0.019293\n",
       "13         170.00   3041             0.018036\n",
       "14         151.55   3003             0.017810\n",
       "15          60.00   2774             0.016452\n",
       "16           0.00   2448             0.014519\n",
       "17          50.00   2266             0.013439\n",
       "18         190.00   2070             0.012277\n",
       "19         220.00   2022             0.011992"
      ]
     },
     "execution_count": 5,
     "metadata": {},
     "output_type": "execute_result"
    }
   ],
   "source": [
    "datasetSize = df.count()\n",
    "\n",
    "df.groupBy('serviceCharge').count().sort(col(\"count\").desc()).withColumn('perc_of_count_total', (F.col('count') / datasetSize)) \\\n",
    "  .toPandas().head(20)"
   ]
  },
  {
   "cell_type": "markdown",
   "metadata": {},
   "source": [
    "## Aplicamos la normalizacion con la funcion presentada anteriormente"
   ]
  },
  {
   "cell_type": "code",
   "execution_count": 6,
   "metadata": {},
   "outputs": [],
   "source": [
    "numericColumns = list()\n",
    "numericColumns.append('serviceCharge')\n",
    "df = normalizeColumn(df,numericColumns)"
   ]
  },
  {
   "cell_type": "markdown",
   "metadata": {},
   "source": [
    "Volvemos a consultar la columna para ver la normalizacion"
   ]
  },
  {
   "cell_type": "code",
   "execution_count": 7,
   "metadata": {},
   "outputs": [
    {
     "data": {
      "text/html": [
       "<div>\n",
       "<style scoped>\n",
       "    .dataframe tbody tr th:only-of-type {\n",
       "        vertical-align: middle;\n",
       "    }\n",
       "\n",
       "    .dataframe tbody tr th {\n",
       "        vertical-align: top;\n",
       "    }\n",
       "\n",
       "    .dataframe thead th {\n",
       "        text-align: right;\n",
       "    }\n",
       "</style>\n",
       "<table border=\"1\" class=\"dataframe\">\n",
       "  <thead>\n",
       "    <tr style=\"text-align: right;\">\n",
       "      <th></th>\n",
       "      <th>serviceCharge</th>\n",
       "      <th>count</th>\n",
       "      <th>perc_of_count_total</th>\n",
       "    </tr>\n",
       "  </thead>\n",
       "  <tbody>\n",
       "    <tr>\n",
       "      <td>0</td>\n",
       "      <td>0.001027</td>\n",
       "      <td>9009</td>\n",
       "      <td>0.053431</td>\n",
       "    </tr>\n",
       "    <tr>\n",
       "      <td>1</td>\n",
       "      <td>0.000684</td>\n",
       "      <td>8066</td>\n",
       "      <td>0.047838</td>\n",
       "    </tr>\n",
       "    <tr>\n",
       "      <td>2</td>\n",
       "      <td>0.001369</td>\n",
       "      <td>6811</td>\n",
       "      <td>0.040395</td>\n",
       "    </tr>\n",
       "    <tr>\n",
       "      <td>3</td>\n",
       "      <td>0.000821</td>\n",
       "      <td>6615</td>\n",
       "      <td>0.039233</td>\n",
       "    </tr>\n",
       "    <tr>\n",
       "      <td>4</td>\n",
       "      <td>0.000890</td>\n",
       "      <td>4809</td>\n",
       "      <td>0.028522</td>\n",
       "    </tr>\n",
       "    <tr>\n",
       "      <td>5</td>\n",
       "      <td>0.000958</td>\n",
       "      <td>4587</td>\n",
       "      <td>0.027205</td>\n",
       "    </tr>\n",
       "    <tr>\n",
       "      <td>6</td>\n",
       "      <td>0.001232</td>\n",
       "      <td>4202</td>\n",
       "      <td>0.024922</td>\n",
       "    </tr>\n",
       "    <tr>\n",
       "      <td>7</td>\n",
       "      <td>0.000548</td>\n",
       "      <td>4148</td>\n",
       "      <td>0.024601</td>\n",
       "    </tr>\n",
       "    <tr>\n",
       "      <td>8</td>\n",
       "      <td>0.000753</td>\n",
       "      <td>3927</td>\n",
       "      <td>0.023291</td>\n",
       "    </tr>\n",
       "    <tr>\n",
       "      <td>9</td>\n",
       "      <td>0.001711</td>\n",
       "      <td>3914</td>\n",
       "      <td>0.023213</td>\n",
       "    </tr>\n",
       "    <tr>\n",
       "      <td>10</td>\n",
       "      <td>0.000616</td>\n",
       "      <td>3878</td>\n",
       "      <td>0.023000</td>\n",
       "    </tr>\n",
       "    <tr>\n",
       "      <td>11</td>\n",
       "      <td>0.001095</td>\n",
       "      <td>3829</td>\n",
       "      <td>0.022709</td>\n",
       "    </tr>\n",
       "    <tr>\n",
       "      <td>12</td>\n",
       "      <td>0.000479</td>\n",
       "      <td>3253</td>\n",
       "      <td>0.019293</td>\n",
       "    </tr>\n",
       "    <tr>\n",
       "      <td>13</td>\n",
       "      <td>0.001163</td>\n",
       "      <td>3041</td>\n",
       "      <td>0.018036</td>\n",
       "    </tr>\n",
       "    <tr>\n",
       "      <td>14</td>\n",
       "      <td>0.001037</td>\n",
       "      <td>3003</td>\n",
       "      <td>0.017810</td>\n",
       "    </tr>\n",
       "    <tr>\n",
       "      <td>15</td>\n",
       "      <td>0.000411</td>\n",
       "      <td>2774</td>\n",
       "      <td>0.016452</td>\n",
       "    </tr>\n",
       "    <tr>\n",
       "      <td>16</td>\n",
       "      <td>0.000000</td>\n",
       "      <td>2448</td>\n",
       "      <td>0.014519</td>\n",
       "    </tr>\n",
       "    <tr>\n",
       "      <td>17</td>\n",
       "      <td>0.000342</td>\n",
       "      <td>2266</td>\n",
       "      <td>0.013439</td>\n",
       "    </tr>\n",
       "    <tr>\n",
       "      <td>18</td>\n",
       "      <td>0.001300</td>\n",
       "      <td>2070</td>\n",
       "      <td>0.012277</td>\n",
       "    </tr>\n",
       "    <tr>\n",
       "      <td>19</td>\n",
       "      <td>0.001506</td>\n",
       "      <td>2022</td>\n",
       "      <td>0.011992</td>\n",
       "    </tr>\n",
       "  </tbody>\n",
       "</table>\n",
       "</div>"
      ],
      "text/plain": [
       "    serviceCharge  count  perc_of_count_total\n",
       "0        0.001027   9009             0.053431\n",
       "1        0.000684   8066             0.047838\n",
       "2        0.001369   6811             0.040395\n",
       "3        0.000821   6615             0.039233\n",
       "4        0.000890   4809             0.028522\n",
       "5        0.000958   4587             0.027205\n",
       "6        0.001232   4202             0.024922\n",
       "7        0.000548   4148             0.024601\n",
       "8        0.000753   3927             0.023291\n",
       "9        0.001711   3914             0.023213\n",
       "10       0.000616   3878             0.023000\n",
       "11       0.001095   3829             0.022709\n",
       "12       0.000479   3253             0.019293\n",
       "13       0.001163   3041             0.018036\n",
       "14       0.001037   3003             0.017810\n",
       "15       0.000411   2774             0.016452\n",
       "16       0.000000   2448             0.014519\n",
       "17       0.000342   2266             0.013439\n",
       "18       0.001300   2070             0.012277\n",
       "19       0.001506   2022             0.011992"
      ]
     },
     "execution_count": 7,
     "metadata": {},
     "output_type": "execute_result"
    }
   ],
   "source": [
    "df.groupBy('serviceCharge').count().sort(col(\"count\").desc()).withColumn('perc_of_count_total', (F.col('count') / datasetSize)) \\\n",
    "  .toPandas().head(20)"
   ]
  },
  {
   "cell_type": "markdown",
   "metadata": {},
   "source": [
    "Una vez que se valida la normalizacion para dichos datos, correspondemos a realizarlo en las demas columnas numericas"
   ]
  },
  {
   "cell_type": "markdown",
   "metadata": {},
   "source": [
    "# Normalizacion de columnas numericas"
   ]
  },
  {
   "cell_type": "code",
   "execution_count": 8,
   "metadata": {},
   "outputs": [
    {
     "name": "stdout",
     "output_type": "stream",
     "text": [
      "Numero de columnas:  13\n"
     ]
    }
   ],
   "source": [
    "# Columnas\n",
    "\n",
    "columnas = ['picturecount','pricetrend','telekomUploadSpeed','totalRent','yearConstructedRange'\\\n",
    "           ,'baseRent','livingSpace','baseRentRange','geo_plz','noRooms','floor','noRoomsRange',\n",
    "           'livingSpaceRange']\n",
    "\n",
    "print(\"Numero de columnas: \",len(columnas))"
   ]
  },
  {
   "cell_type": "markdown",
   "metadata": {},
   "source": [
    "## Aplicamos normalización de columnas"
   ]
  },
  {
   "cell_type": "code",
   "execution_count": 9,
   "metadata": {},
   "outputs": [],
   "source": [
    "df = normalizeColumn(df,columnas)"
   ]
  },
  {
   "cell_type": "code",
   "execution_count": 10,
   "metadata": {},
   "outputs": [
    {
     "data": {
      "text/html": [
       "<div>\n",
       "<style scoped>\n",
       "    .dataframe tbody tr th:only-of-type {\n",
       "        vertical-align: middle;\n",
       "    }\n",
       "\n",
       "    .dataframe tbody tr th {\n",
       "        vertical-align: top;\n",
       "    }\n",
       "\n",
       "    .dataframe thead th {\n",
       "        text-align: right;\n",
       "    }\n",
       "</style>\n",
       "<table border=\"1\" class=\"dataframe\">\n",
       "  <thead>\n",
       "    <tr style=\"text-align: right;\">\n",
       "      <th></th>\n",
       "      <th>picturecount</th>\n",
       "      <th>pricetrend</th>\n",
       "      <th>telekomUploadSpeed</th>\n",
       "      <th>totalRent</th>\n",
       "      <th>yearConstructedRange</th>\n",
       "      <th>baseRent</th>\n",
       "      <th>livingSpace</th>\n",
       "      <th>baseRentRange</th>\n",
       "      <th>geo_plz</th>\n",
       "      <th>noRooms</th>\n",
       "      <th>floor</th>\n",
       "      <th>noRoomsRange</th>\n",
       "      <th>livingSpaceRange</th>\n",
       "    </tr>\n",
       "  </thead>\n",
       "  <tbody>\n",
       "    <tr>\n",
       "      <td>0</td>\n",
       "      <td>0.266055</td>\n",
       "      <td>0.526775</td>\n",
       "      <td>0.014141</td>\n",
       "      <td>0.000027</td>\n",
       "      <td>0.000</td>\n",
       "      <td>0.000266</td>\n",
       "      <td>0.000470</td>\n",
       "      <td>0.125</td>\n",
       "      <td>0.448601</td>\n",
       "      <td>0.001789</td>\n",
       "      <td>0.001</td>\n",
       "      <td>0.25</td>\n",
       "      <td>0.166667</td>\n",
       "    </tr>\n",
       "    <tr>\n",
       "      <td>1</td>\n",
       "      <td>0.036697</td>\n",
       "      <td>0.584890</td>\n",
       "      <td>0.014141</td>\n",
       "      <td>0.000037</td>\n",
       "      <td>0.500</td>\n",
       "      <td>0.000372</td>\n",
       "      <td>0.000675</td>\n",
       "      <td>0.250</td>\n",
       "      <td>0.478385</td>\n",
       "      <td>0.003578</td>\n",
       "      <td>0.003</td>\n",
       "      <td>0.50</td>\n",
       "      <td>0.333333</td>\n",
       "    </tr>\n",
       "    <tr>\n",
       "      <td>2</td>\n",
       "      <td>0.100917</td>\n",
       "      <td>0.575342</td>\n",
       "      <td>0.393939</td>\n",
       "      <td>0.000023</td>\n",
       "      <td>0.125</td>\n",
       "      <td>0.000203</td>\n",
       "      <td>0.000396</td>\n",
       "      <td>0.000</td>\n",
       "      <td>0.457810</td>\n",
       "      <td>0.003578</td>\n",
       "      <td>0.004</td>\n",
       "      <td>0.50</td>\n",
       "      <td>0.166667</td>\n",
       "    </tr>\n",
       "    <tr>\n",
       "      <td>3</td>\n",
       "      <td>0.082569</td>\n",
       "      <td>0.419261</td>\n",
       "      <td>0.393939</td>\n",
       "      <td>0.000023</td>\n",
       "      <td>0.125</td>\n",
       "      <td>0.000168</td>\n",
       "      <td>0.000414</td>\n",
       "      <td>0.000</td>\n",
       "      <td>0.386965</td>\n",
       "      <td>0.001789</td>\n",
       "      <td>0.001</td>\n",
       "      <td>0.25</td>\n",
       "      <td>0.166667</td>\n",
       "    </tr>\n",
       "    <tr>\n",
       "      <td>4</td>\n",
       "      <td>0.082569</td>\n",
       "      <td>0.302200</td>\n",
       "      <td>0.014141</td>\n",
       "      <td>0.000029</td>\n",
       "      <td>0.000</td>\n",
       "      <td>0.000227</td>\n",
       "      <td>0.000545</td>\n",
       "      <td>0.000</td>\n",
       "      <td>0.083453</td>\n",
       "      <td>0.001789</td>\n",
       "      <td>0.003</td>\n",
       "      <td>0.25</td>\n",
       "      <td>0.166667</td>\n",
       "    </tr>\n",
       "  </tbody>\n",
       "</table>\n",
       "</div>"
      ],
      "text/plain": [
       "   picturecount  pricetrend  telekomUploadSpeed  totalRent  \\\n",
       "0      0.266055    0.526775            0.014141   0.000027   \n",
       "1      0.036697    0.584890            0.014141   0.000037   \n",
       "2      0.100917    0.575342            0.393939   0.000023   \n",
       "3      0.082569    0.419261            0.393939   0.000023   \n",
       "4      0.082569    0.302200            0.014141   0.000029   \n",
       "\n",
       "   yearConstructedRange  baseRent  livingSpace  baseRentRange   geo_plz  \\\n",
       "0                 0.000  0.000266     0.000470          0.125  0.448601   \n",
       "1                 0.500  0.000372     0.000675          0.250  0.478385   \n",
       "2                 0.125  0.000203     0.000396          0.000  0.457810   \n",
       "3                 0.125  0.000168     0.000414          0.000  0.386965   \n",
       "4                 0.000  0.000227     0.000545          0.000  0.083453   \n",
       "\n",
       "    noRooms  floor  noRoomsRange  livingSpaceRange  \n",
       "0  0.001789  0.001          0.25          0.166667  \n",
       "1  0.003578  0.003          0.50          0.333333  \n",
       "2  0.003578  0.004          0.50          0.166667  \n",
       "3  0.001789  0.001          0.25          0.166667  \n",
       "4  0.001789  0.003          0.25          0.166667  "
      ]
     },
     "execution_count": 10,
     "metadata": {},
     "output_type": "execute_result"
    }
   ],
   "source": [
    "df.select(columnas).toPandas().head()"
   ]
  },
  {
   "cell_type": "markdown",
   "metadata": {},
   "source": [
    "Como se observa, los datos numericos se encuentran normalizados"
   ]
  },
  {
   "cell_type": "markdown",
   "metadata": {},
   "source": [
    "# Iniciamos con la transformacion de columnas booleansas"
   ]
  },
  {
   "cell_type": "code",
   "execution_count": 11,
   "metadata": {},
   "outputs": [
    {
     "name": "stdout",
     "output_type": "stream",
     "text": [
      "Cantidad de columnas Booleanas:  6\n"
     ]
    }
   ],
   "source": [
    "booleanColumns = ['newlyConst','balcony','hasKitchen','cellar','lift','garden']\n",
    "\n",
    "print(\"Cantidad de columnas Booleanas: \",len(booleanColumns))"
   ]
  },
  {
   "cell_type": "markdown",
   "metadata": {},
   "source": [
    "Función para remplazar columnas booleanas"
   ]
  },
  {
   "cell_type": "code",
   "execution_count": 12,
   "metadata": {},
   "outputs": [],
   "source": [
    "def replaceBooleans(df,listColumns):\n",
    "    for i in listColumns:\n",
    "        df = df.withColumn(i,F.when((col(i) == True),1).otherwise(0))\n",
    "    return df"
   ]
  },
  {
   "cell_type": "code",
   "execution_count": 13,
   "metadata": {},
   "outputs": [],
   "source": [
    "df = replaceBooleans(df,booleanColumns)"
   ]
  },
  {
   "cell_type": "markdown",
   "metadata": {},
   "source": [
    "Observamos la transformación`"
   ]
  },
  {
   "cell_type": "code",
   "execution_count": 14,
   "metadata": {},
   "outputs": [
    {
     "data": {
      "text/html": [
       "<div>\n",
       "<style scoped>\n",
       "    .dataframe tbody tr th:only-of-type {\n",
       "        vertical-align: middle;\n",
       "    }\n",
       "\n",
       "    .dataframe tbody tr th {\n",
       "        vertical-align: top;\n",
       "    }\n",
       "\n",
       "    .dataframe thead th {\n",
       "        text-align: right;\n",
       "    }\n",
       "</style>\n",
       "<table border=\"1\" class=\"dataframe\">\n",
       "  <thead>\n",
       "    <tr style=\"text-align: right;\">\n",
       "      <th></th>\n",
       "      <th>newlyConst</th>\n",
       "      <th>balcony</th>\n",
       "      <th>hasKitchen</th>\n",
       "      <th>cellar</th>\n",
       "      <th>lift</th>\n",
       "      <th>garden</th>\n",
       "    </tr>\n",
       "  </thead>\n",
       "  <tbody>\n",
       "    <tr>\n",
       "      <td>0</td>\n",
       "      <td>0</td>\n",
       "      <td>0</td>\n",
       "      <td>0</td>\n",
       "      <td>0</td>\n",
       "      <td>0</td>\n",
       "      <td>0</td>\n",
       "    </tr>\n",
       "    <tr>\n",
       "      <td>1</td>\n",
       "      <td>0</td>\n",
       "      <td>1</td>\n",
       "      <td>0</td>\n",
       "      <td>0</td>\n",
       "      <td>0</td>\n",
       "      <td>0</td>\n",
       "    </tr>\n",
       "    <tr>\n",
       "      <td>2</td>\n",
       "      <td>0</td>\n",
       "      <td>0</td>\n",
       "      <td>0</td>\n",
       "      <td>0</td>\n",
       "      <td>0</td>\n",
       "      <td>0</td>\n",
       "    </tr>\n",
       "    <tr>\n",
       "      <td>3</td>\n",
       "      <td>0</td>\n",
       "      <td>0</td>\n",
       "      <td>0</td>\n",
       "      <td>1</td>\n",
       "      <td>0</td>\n",
       "      <td>0</td>\n",
       "    </tr>\n",
       "    <tr>\n",
       "      <td>4</td>\n",
       "      <td>0</td>\n",
       "      <td>1</td>\n",
       "      <td>1</td>\n",
       "      <td>1</td>\n",
       "      <td>0</td>\n",
       "      <td>0</td>\n",
       "    </tr>\n",
       "  </tbody>\n",
       "</table>\n",
       "</div>"
      ],
      "text/plain": [
       "   newlyConst  balcony  hasKitchen  cellar  lift  garden\n",
       "0           0        0           0       0     0       0\n",
       "1           0        1           0       0     0       0\n",
       "2           0        0           0       0     0       0\n",
       "3           0        0           0       1     0       0\n",
       "4           0        1           1       1     0       0"
      ]
     },
     "execution_count": 14,
     "metadata": {},
     "output_type": "execute_result"
    }
   ],
   "source": [
    "df.select(booleanColumns).toPandas().head()"
   ]
  },
  {
   "cell_type": "markdown",
   "metadata": {},
   "source": [
    "# Remplazamos variables categoricas por OneHotEncoding"
   ]
  },
  {
   "cell_type": "markdown",
   "metadata": {},
   "source": [
    "Creamos la función para remplazar valores categoricos"
   ]
  },
  {
   "cell_type": "code",
   "execution_count": 15,
   "metadata": {},
   "outputs": [],
   "source": [
    "def createCategoricalVects(df,columns):\n",
    "    for i in columns:\n",
    "        temp_indexer = StringIndexer(inputCol=i, outputCol=i+\"_index\").fit(df)\n",
    "        df = temp_indexer.transform(df)\n",
    "        temp_encoder = OneHotEncoder(inputCol=i+\"_index\", outputCol=i+\"_vec\")\n",
    "        df = temp_encoder.transform(df)\n",
    "        df = df.drop(i+\"_index\")\n",
    "        print(\"Columna Procesada:\",i,\"Tammano\",df.groupBy(i).count().count())\n",
    "        df = df.drop(i)\n",
    "    return df"
   ]
  },
  {
   "cell_type": "markdown",
   "metadata": {},
   "source": [
    "Dicha función detecta si una columna tiene bastantes categorias para borrarla\n",
    "\n",
    "Al observar la gran cantidad de columnas que se generan con diferentes datos categoricos, se evalua solo aceptar columnas categoricas con no más de 50 datos categoricos diferentes"
   ]
  },
  {
   "cell_type": "code",
   "execution_count": 16,
   "metadata": {},
   "outputs": [],
   "source": [
    "def deleteBigColumns(df,columns,limit):\n",
    "    goodColumns = list()\n",
    "    for i in columns:\n",
    "        size = df.groupBy(i).count().count()\n",
    "        print(i,size)\n",
    "        if(size > limit):\n",
    "            print(\"Columna borrada:\",i,\"Tamanno:\", size) \n",
    "            df = df.drop(i)\n",
    "        else:\n",
    "            goodColumns.append(i)\n",
    "    return df,goodColumns"
   ]
  },
  {
   "cell_type": "markdown",
   "metadata": {},
   "source": [
    "## Procesamos las columnas categoricas"
   ]
  },
  {
   "cell_type": "code",
   "execution_count": 17,
   "metadata": {},
   "outputs": [
    {
     "name": "stdout",
     "output_type": "stream",
     "text": [
      "regio1 16\n",
      "heatingType 13\n",
      "geo_bln 16\n",
      "geo_krs 419\n",
      "Columna borrada: geo_krs Tamanno: 419\n",
      "condition 10\n",
      "typeOfFlat 10\n",
      "regio2 419\n",
      "Columna borrada: regio2 Tamanno: 419\n",
      "regio3 7794\n",
      "Columna borrada: regio3 Tamanno: 7794\n",
      "date 3\n",
      "firingTypes 102\n",
      "telekomTvOffer 3\n",
      "Procesamiento de las columnas: \n",
      "Columna Procesada: regio1 Tammano 16\n",
      "Columna Procesada: heatingType Tammano 13\n",
      "Columna Procesada: geo_bln Tammano 16\n",
      "Columna Procesada: condition Tammano 10\n",
      "Columna Procesada: typeOfFlat Tammano 10\n",
      "Columna Procesada: date Tammano 3\n",
      "Columna Procesada: firingTypes Tammano 102\n",
      "Columna Procesada: telekomTvOffer Tammano 3\n"
     ]
    }
   ],
   "source": [
    "categoryList = ['regio1','heatingType','geo_bln','geo_krs','condition','typeOfFlat','regio2','regio3','date','firingTypes','telekomTvOffer']\n",
    "df,categoryList = deleteBigColumns(df,categoryList,110)\n",
    "print('Procesamiento de las columnas: ')\n",
    "df = createCategoricalVects(df,categoryList)\n"
   ]
  },
  {
   "cell_type": "markdown",
   "metadata": {},
   "source": [
    "## Observamos los nuevos datos categoricos"
   ]
  },
  {
   "cell_type": "code",
   "execution_count": 18,
   "metadata": {},
   "outputs": [
    {
     "name": "stdout",
     "output_type": "stream",
     "text": [
      "+---------------+---------------+---------------+-------------+--------------+-------------+----------------+------------------+\n",
      "|     regio1_vec|heatingType_vec|    geo_bln_vec|condition_vec|typeOfFlat_vec|     date_vec| firingTypes_vec|telekomTvOffer_vec|\n",
      "+---------------+---------------+---------------+-------------+--------------+-------------+----------------+------------------+\n",
      "| (15,[1],[1.0])| (12,[0],[1.0])| (15,[1],[1.0])|(9,[6],[1.0])| (9,[2],[1.0])|(2,[0],[1.0])| (101,[5],[1.0])|     (2,[0],[1.0])|\n",
      "| (15,[1],[1.0])| (12,[0],[1.0])| (15,[1],[1.0])|(9,[0],[1.0])| (9,[1],[1.0])|    (2,[],[])| (101,[0],[1.0])|     (2,[0],[1.0])|\n",
      "| (15,[1],[1.0])| (12,[8],[1.0])| (15,[1],[1.0])|(9,[0],[1.0])| (9,[1],[1.0])|    (2,[],[])| (101,[5],[1.0])|     (2,[0],[1.0])|\n",
      "| (15,[2],[1.0])| (12,[4],[1.0])| (15,[2],[1.0])|(9,[0],[1.0])| (9,[1],[1.0])|(2,[0],[1.0])| (101,[0],[1.0])|     (2,[0],[1.0])|\n",
      "| (15,[0],[1.0])| (12,[2],[1.0])| (15,[0],[1.0])|(9,[2],[1.0])| (9,[0],[1.0])|(2,[0],[1.0])| (101,[1],[1.0])|     (2,[0],[1.0])|\n",
      "| (15,[1],[1.0])| (12,[0],[1.0])| (15,[1],[1.0])|(9,[2],[1.0])| (9,[2],[1.0])|(2,[1],[1.0])| (101,[0],[1.0])|     (2,[0],[1.0])|\n",
      "| (15,[2],[1.0])| (12,[0],[1.0])| (15,[2],[1.0])|(9,[7],[1.0])| (9,[0],[1.0])|(2,[1],[1.0])| (101,[1],[1.0])|     (2,[0],[1.0])|\n",
      "| (15,[0],[1.0])| (12,[2],[1.0])| (15,[0],[1.0])|(9,[4],[1.0])| (9,[0],[1.0])|(2,[0],[1.0])| (101,[0],[1.0])|     (2,[0],[1.0])|\n",
      "| (15,[1],[1.0])| (12,[0],[1.0])| (15,[1],[1.0])|(9,[1],[1.0])| (9,[0],[1.0])|(2,[0],[1.0])| (101,[0],[1.0])|     (2,[0],[1.0])|\n",
      "|(15,[13],[1.0])| (12,[0],[1.0])|(15,[13],[1.0])|(9,[0],[1.0])| (9,[0],[1.0])|    (2,[],[])| (101,[3],[1.0])|     (2,[0],[1.0])|\n",
      "|(15,[12],[1.0])|     (12,[],[])|(15,[12],[1.0])|(9,[4],[1.0])| (9,[2],[1.0])|    (2,[],[])| (101,[0],[1.0])|     (2,[0],[1.0])|\n",
      "|(15,[10],[1.0])| (12,[6],[1.0])|(15,[10],[1.0])|(9,[3],[1.0])| (9,[3],[1.0])|(2,[1],[1.0])|(101,[15],[1.0])|     (2,[0],[1.0])|\n",
      "| (15,[0],[1.0])| (12,[0],[1.0])| (15,[0],[1.0])|(9,[1],[1.0])| (9,[0],[1.0])|(2,[1],[1.0])| (101,[1],[1.0])|     (2,[0],[1.0])|\n",
      "| (15,[1],[1.0])| (12,[0],[1.0])| (15,[1],[1.0])|(9,[2],[1.0])| (9,[0],[1.0])|(2,[1],[1.0])| (101,[0],[1.0])|     (2,[0],[1.0])|\n",
      "| (15,[1],[1.0])| (12,[2],[1.0])| (15,[1],[1.0])|(9,[0],[1.0])| (9,[0],[1.0])|(2,[1],[1.0])| (101,[0],[1.0])|     (2,[0],[1.0])|\n",
      "| (15,[3],[1.0])| (12,[0],[1.0])| (15,[3],[1.0])|(9,[3],[1.0])| (9,[1],[1.0])|(2,[0],[1.0])| (101,[0],[1.0])|     (2,[0],[1.0])|\n",
      "| (15,[0],[1.0])| (12,[0],[1.0])| (15,[0],[1.0])|(9,[5],[1.0])| (9,[2],[1.0])|(2,[1],[1.0])| (101,[4],[1.0])|     (2,[0],[1.0])|\n",
      "| (15,[0],[1.0])| (12,[1],[1.0])| (15,[0],[1.0])|(9,[0],[1.0])| (9,[0],[1.0])|(2,[0],[1.0])| (101,[3],[1.0])|     (2,[0],[1.0])|\n",
      "|     (15,[],[])| (12,[0],[1.0])|     (15,[],[])|(9,[4],[1.0])| (9,[0],[1.0])|    (2,[],[])| (101,[1],[1.0])|     (2,[0],[1.0])|\n",
      "| (15,[0],[1.0])| (12,[1],[1.0])| (15,[0],[1.0])|(9,[1],[1.0])| (9,[0],[1.0])|(2,[1],[1.0])| (101,[1],[1.0])|     (2,[0],[1.0])|\n",
      "+---------------+---------------+---------------+-------------+--------------+-------------+----------------+------------------+\n",
      "only showing top 20 rows\n",
      "\n"
     ]
    }
   ],
   "source": [
    "vectCat = [i+\"_vec\" for i in categoryList]\n",
    "df.select(vectCat).show()"
   ]
  },
  {
   "cell_type": "markdown",
   "metadata": {},
   "source": [
    "# Mostramos la columnas que utilizamos para el training"
   ]
  },
  {
   "cell_type": "code",
   "execution_count": 19,
   "metadata": {},
   "outputs": [
    {
     "name": "stdout",
     "output_type": "stream",
     "text": [
      "['serviceCharge', 'newlyConst', 'balcony', 'picturecount', 'pricetrend', 'telekomUploadSpeed', 'hasKitchen', 'cellar', 'yearConstructedRange', 'baseRent', 'livingSpace', 'lift', 'baseRentRange', 'geo_plz', 'noRooms', 'floor', 'noRoomsRange', 'garden', 'livingSpaceRange', 'regio1_vec', 'heatingType_vec', 'geo_bln_vec', 'condition_vec', 'typeOfFlat_vec', 'date_vec', 'firingTypes_vec', 'telekomTvOffer_vec']\n"
     ]
    }
   ],
   "source": [
    "datasetColumns = df.columns\n",
    "datasetColumns.remove('totalRent')\n",
    "print(datasetColumns)\n",
    "\n"
   ]
  },
  {
   "cell_type": "code",
   "execution_count": 20,
   "metadata": {},
   "outputs": [
    {
     "name": "stdout",
     "output_type": "stream",
     "text": [
      "+-------------+----------+-------+------------+------------+------------------+----------+------+--------------------+-----------+-----------+----+-------------+------------+------------+-----+------------+------+----------------+---------------+---------------+---------------+-------------+--------------+-------------+----------------+------------------+\n",
      "|serviceCharge|newlyConst|balcony|picturecount|  pricetrend|telekomUploadSpeed|hasKitchen|cellar|yearConstructedRange|   baseRent|livingSpace|lift|baseRentRange|     geo_plz|     noRooms|floor|noRoomsRange|garden|livingSpaceRange|     regio1_vec|heatingType_vec|    geo_bln_vec|condition_vec|typeOfFlat_vec|     date_vec| firingTypes_vec|telekomTvOffer_vec|\n",
      "+-------------+----------+-------+------------+------------+------------------+----------+------+--------------------+-----------+-----------+----+-------------+------------+------------+-----+------------+------+----------------+---------------+---------------+---------------+-------------+--------------+-------------+----------------+------------------+\n",
      "|  6.843784E-4|         0|      0|0.2660550459|0.5267745953|      0.0141414141|         0|     0|                 0.0|2.664902E-4|4.698905E-4|   0|        0.125| 0.448601053|0.0017889088|0.001|        0.25|     0|    0.1666666667| (15,[1],[1.0])| (12,[0],[1.0])| (15,[1],[1.0])|(9,[6],[1.0])| (9,[2],[1.0])|(2,[0],[1.0])| (101,[5],[1.0])|     (2,[0],[1.0])|\n",
      "|  5.748778E-4|         0|      1|0.0366972477|0.5848899958|      0.0141414141|         0|     0|                 0.5|3.717903E-4|6.750007E-4|   0|         0.25|0.4783854114|0.0035778175|0.003|         0.5|     0|    0.3333333333| (15,[1],[1.0])| (12,[0],[1.0])| (15,[1],[1.0])|(9,[0],[1.0])| (9,[1],[1.0])|    (2,[],[])| (101,[0],[1.0])|     (2,[0],[1.0])|\n",
      "|  7.870351E-4|         0|      0|0.1009174312|0.5753424658|      0.3939393939|         0|     0|               0.125|2.025001E-4|3.960004E-4|   0|          0.0|0.4578096948|0.0035778175|0.004|         0.5|     0|    0.1666666667| (15,[1],[1.0])| (12,[8],[1.0])| (15,[1],[1.0])|(9,[0],[1.0])| (9,[1],[1.0])|    (2,[],[])| (101,[5],[1.0])|     (2,[0],[1.0])|\n",
      "|  2.258449E-4|         0|      0|0.0825688073|0.4192611042|      0.3939393939|         0|     1|               0.125|1.676701E-4|4.140004E-4|   0|          0.0|0.3869646784|0.0017889088|0.001|        0.25|     0|    0.1666666667| (15,[2],[1.0])| (12,[4],[1.0])| (15,[2],[1.0])|(9,[0],[1.0])| (9,[1],[1.0])|(2,[0],[1.0])| (101,[0],[1.0])|     (2,[0],[1.0])|\n",
      "| 0.0011617323|         0|      1|0.0825688073| 0.302200083|      0.0141414141|         1|     1|                 0.0|2.265896E-4|5.449505E-4|   0|          0.0|0.0834526859|0.0017889088|0.003|        0.25|     0|    0.1666666667| (15,[0],[1.0])| (12,[2],[1.0])| (15,[0],[1.0])|(9,[2],[1.0])| (9,[0],[1.0])|(2,[0],[1.0])| (101,[1],[1.0])|     (2,[0],[1.0])|\n",
      "|  9.444422E-4|         0|      0|0.0733944954|0.4603569946|      0.3939393939|         0|     1|               0.125|2.187002E-4|4.500005E-4|   0|          0.0|0.4542392028|0.0017889088|0.001|        0.25|     0|    0.1666666667| (15,[1],[1.0])| (12,[0],[1.0])| (15,[1],[1.0])|(9,[2],[1.0])| (9,[2],[1.0])|(2,[1],[1.0])| (101,[0],[1.0])|     (2,[0],[1.0])|\n",
      "|  4.696889E-4|         0|      1|0.0917431193|0.4354503944|      0.3939393939|         0|     1|               0.375|2.191538E-4|5.062505E-4|   0|          0.0|0.0531741069|0.0035778175|0.002|         0.5|     0|    0.1666666667| (15,[2],[1.0])| (12,[0],[1.0])| (15,[2],[1.0])|(9,[7],[1.0])| (9,[0],[1.0])|(2,[1],[1.0])| (101,[1],[1.0])|     (2,[0],[1.0])|\n",
      "|  5.851435E-4|         0|      1|0.0091743119|0.6093814861|      0.3939393939|         0|     0|                 0.0|2.000701E-4|3.420003E-4|   0|          0.0|0.0347669094|         0.0|0.002|         0.0|     0|             0.0| (15,[0],[1.0])| (12,[2],[1.0])| (15,[0],[1.0])|(9,[4],[1.0])| (9,[0],[1.0])|(2,[0],[1.0])| (101,[0],[1.0])|     (2,[0],[1.0])|\n",
      "|  8.075665E-4|         0|      0|0.0366972477|0.5255292653|      0.3939393939|         0|     1|               0.125|2.599697E-4|4.950005E-4|   0|        0.125|0.4568313396|0.0026833631|0.002|        0.25|     0|    0.1666666667| (15,[1],[1.0])| (12,[0],[1.0])| (15,[1],[1.0])|(9,[1],[1.0])| (9,[0],[1.0])|(2,[0],[1.0])| (101,[0],[1.0])|     (2,[0],[1.0])|\n",
      "| 0.0015398514|         0|      1| 0.119266055|0.6683271067|      0.3939393939|         1|     1|                 0.5|6.480005E-4|7.380007E-4|   0|          0.5|0.2137958163|0.0017889088|0.002|        0.25|     0|             0.5|(15,[13],[1.0])| (12,[0],[1.0])|(15,[13],[1.0])|(9,[0],[1.0])| (9,[0],[1.0])|    (2,[],[])| (101,[3],[1.0])|     (2,[0],[1.0])|\n",
      "|  6.159405E-4|         0|      0|0.0550458716|0.5915317559|      0.0141414141|         0|     0|                 0.5|2.381402E-4|4.860005E-4|   0|          0.0|0.2488451375|0.0017889088|0.003|        0.25|     0|    0.1666666667|(15,[12],[1.0])|     (12,[],[])|(15,[12],[1.0])|(9,[4],[1.0])| (9,[2],[1.0])|    (2,[],[])| (101,[0],[1.0])|     (2,[0],[1.0])|\n",
      "| 0.0013687568|         0|      1|0.0550458716|0.5375674554|      0.3939393939|         0|     1|               0.875|6.966005E-4|8.100008E-4|   1|        0.625|0.5569160632|0.0035778175|0.004|         0.5|     0|             0.5|(15,[10],[1.0])| (12,[6],[1.0])|(15,[10],[1.0])|(9,[3],[1.0])| (9,[3],[1.0])|(2,[1],[1.0])|(101,[15],[1.0])|     (2,[0],[1.0])|\n",
      "|  5.475027E-4|         0|      1| 0.128440367| 0.497301785|      0.0141414141|         0|     1|               0.125|2.835002E-4|6.300006E-4|   0|        0.125|0.0786012547|0.0053667263|0.004|        0.75|     0|    0.3333333333| (15,[0],[1.0])| (12,[0],[1.0])| (15,[0],[1.0])|(9,[1],[1.0])| (9,[0],[1.0])|(2,[1],[1.0])| (101,[1],[1.0])|     (2,[0],[1.0])|\n",
      "| 0.0010265676|         0|      1|0.0917431193|0.4616023246|      0.3939393939|         0|     0|                0.25|2.754002E-4|5.940006E-4|   1|        0.125|0.4680672947|0.0017889088|0.003|        0.25|     0|    0.3333333333| (15,[1],[1.0])| (12,[0],[1.0])| (15,[1],[1.0])|(9,[2],[1.0])| (9,[0],[1.0])|(2,[1],[1.0])| (101,[0],[1.0])|     (2,[0],[1.0])|\n",
      "|  5.392902E-4|         0|      0|0.0458715596|0.4549605645|      0.3939393939|         0|     0|               0.125|2.196722E-4|4.881605E-4|   1|          0.0|0.4542190305|0.0017889088|0.004|        0.25|     0|    0.1666666667| (15,[1],[1.0])| (12,[2],[1.0])| (15,[1],[1.0])|(9,[0],[1.0])| (9,[0],[1.0])|(2,[1],[1.0])| (101,[0],[1.0])|     (2,[0],[1.0])|\n",
      "| 0.0014371946|         0|      1|0.1743119266|0.5907015359|      0.3939393939|         1|     1|                 0.5|7.492505E-4|8.721009E-4|   1|        0.625|0.8524398362|0.0053667263|0.005|        0.75|     0|             0.5| (15,[3],[1.0])| (12,[0],[1.0])| (15,[3],[1.0])|(9,[3],[1.0])| (9,[1],[1.0])|(2,[0],[1.0])| (101,[0],[1.0])|     (2,[0],[1.0])|\n",
      "|  5.269714E-4|         0|      0|0.0275229358|0.4591116646|      0.3939393939|         0|     1|                0.25|2.089802E-4|5.328005E-4|   0|          0.0|0.0858733585|0.0035778175|0.003|         0.5|     0|    0.1666666667| (15,[0],[1.0])| (12,[0],[1.0])| (15,[0],[1.0])|(9,[5],[1.0])| (9,[2],[1.0])|(2,[1],[1.0])| (101,[4],[1.0])|     (2,[0],[1.0])|\n",
      "|  9.581297E-4|         0|      1|0.1467889908|0.3885429639|      0.3939393939|         1|     1|                 0.0|2.794502E-4|5.400005E-4|   1|        0.125|0.0834425998|0.0017889088|0.002|        0.25|     0|    0.1666666667| (15,[0],[1.0])| (12,[1],[1.0])| (15,[0],[1.0])|(9,[0],[1.0])| (9,[0],[1.0])|(2,[0],[1.0])| (101,[3],[1.0])|     (2,[0],[1.0])|\n",
      "|  0.001499473|         0|      1|0.0733944954|0.4474885845|      0.0909090909|         1|     0|                 1.0|8.651697E-4| 9.90001E-4|   1|         0.75|0.6625179029|0.0035778175|0.002|         0.5|     0|    0.6666666667|     (15,[],[])| (12,[0],[1.0])|     (15,[],[])|(9,[4],[1.0])| (9,[0],[1.0])|    (2,[],[])| (101,[1],[1.0])|     (2,[0],[1.0])|\n",
      "|  8.212541E-4|         0|      1|0.0366972477|0.4267330843|      0.3939393939|         0|     1|                 0.0|2.430002E-4|4.680005E-4|   0|          0.0|0.0096524318|         0.0|0.003|         0.0|     0|    0.1666666667| (15,[0],[1.0])| (12,[1],[1.0])| (15,[0],[1.0])|(9,[1],[1.0])| (9,[0],[1.0])|(2,[1],[1.0])| (101,[1],[1.0])|     (2,[0],[1.0])|\n",
      "+-------------+----------+-------+------------+------------+------------------+----------+------+--------------------+-----------+-----------+----+-------------+------------+------------+-----+------------+------+----------------+---------------+---------------+---------------+-------------+--------------+-------------+----------------+------------------+\n",
      "only showing top 20 rows\n",
      "\n"
     ]
    }
   ],
   "source": [
    "df.select(datasetColumns).show()"
   ]
  },
  {
   "cell_type": "markdown",
   "metadata": {},
   "source": [
    "# Creamos la columna features"
   ]
  },
  {
   "cell_type": "code",
   "execution_count": 21,
   "metadata": {},
   "outputs": [],
   "source": [
    "df_assembler = VectorAssembler(inputCols = datasetColumns,outputCol=\"features\")\n",
    "df = df_assembler.transform(df)\n",
    "df = df.select(['features','totalRent'])\n"
   ]
  },
  {
   "cell_type": "code",
   "execution_count": 22,
   "metadata": {},
   "outputs": [],
   "source": [
    "df = df.withColumnRenamed('totalRent','label')"
   ]
  },
  {
   "cell_type": "code",
   "execution_count": 23,
   "metadata": {},
   "outputs": [
    {
     "name": "stdout",
     "output_type": "stream",
     "text": [
      "+--------------------+----------+\n",
      "|            features|     label|\n",
      "+--------------------+----------+\n",
      "|(184,[0,3,4,5,9,1...|2.72354E-5|\n",
      "|(184,[0,2,3,4,5,8...|3.66948E-5|\n",
      "|(184,[0,3,4,5,8,9...|2.31723E-5|\n",
      "|(184,[0,3,4,5,7,8...|2.27279E-5|\n",
      "|(184,[0,2,3,4,5,6...|2.85363E-5|\n",
      "|(184,[0,3,4,5,7,8...|3.12985E-5|\n",
      "|(184,[0,2,3,4,5,7...|2.76049E-5|\n",
      "|(184,[0,2,3,4,5,9...|2.11091E-5|\n",
      "|(184,[0,3,4,5,7,8...|3.19937E-5|\n",
      "|(184,[0,2,3,4,5,6...| 6.5073E-5|\n",
      "|(184,[0,3,4,5,8,9...|3.00923E-5|\n",
      "|(184,[0,2,3,4,5,7...| 6.7295E-5|\n",
      "|(184,[0,2,3,4,5,7...|3.36475E-5|\n",
      "|(184,[0,2,3,4,5,8...|3.74567E-5|\n",
      "|(184,[0,3,4,5,8,9...|2.69815E-5|\n",
      "|(184,[0,2,3,4,5,6...|7.20565E-5|\n",
      "|(184,[0,3,4,5,7,8...|2.53944E-5|\n",
      "|(184,[0,2,3,4,5,6...|3.07906E-5|\n",
      "|(184,[0,2,3,4,5,6...|8.17197E-5|\n",
      "|(184,[0,2,3,4,5,7...|2.66641E-5|\n",
      "+--------------------+----------+\n",
      "only showing top 20 rows\n",
      "\n"
     ]
    }
   ],
   "source": [
    "\n",
    "df.select(['features','label']).show()\n"
   ]
  },
  {
   "cell_type": "code",
   "execution_count": 24,
   "metadata": {},
   "outputs": [
    {
     "name": "stdout",
     "output_type": "stream",
     "text": [
      "+-------------------------------------------------------------------------------------------------------------------------------------------------------------------------------------------------------------------------------------------------------------+\n",
      "|features                                                                                                                                                                                                                                                     |\n",
      "+-------------------------------------------------------------------------------------------------------------------------------------------------------------------------------------------------------------------------------------------------------------+\n",
      "|(184,[0,3,4,5,9,10,12,13,14,15,16,18,20,34,47,67,72,79,86,182],[6.843784E-4,0.2660550459,0.5267745953,0.0141414141,2.664902E-4,4.698905E-4,0.125,0.448601053,0.0017889088,0.001,0.25,0.1666666667,1.0,1.0,1.0,1.0,1.0,1.0,1.0,1.0])                          |\n",
      "|(184,[0,2,3,4,5,8,9,10,12,13,14,15,16,18,20,34,47,61,71,81,182],[5.748778E-4,1.0,0.0366972477,0.5848899958,0.0141414141,0.5,3.717903E-4,6.750007E-4,0.25,0.4783854114,0.0035778175,0.003,0.5,0.3333333333,1.0,1.0,1.0,1.0,1.0,1.0,1.0])                      |\n",
      "|(184,[0,3,4,5,8,9,10,13,14,15,16,18,20,42,47,61,71,86,182],[7.870351E-4,0.1009174312,0.5753424658,0.3939393939,0.125,2.025001E-4,3.960004E-4,0.4578096948,0.0035778175,0.004,0.5,0.1666666667,1.0,1.0,1.0,1.0,1.0,1.0,1.0])                                  |\n",
      "|(184,[0,3,4,5,7,8,9,10,13,14,15,16,18,21,38,48,61,71,79,81,182],[2.258449E-4,0.0825688073,0.4192611042,0.3939393939,1.0,0.125,1.676701E-4,4.140004E-4,0.3869646784,0.0017889088,0.001,0.25,0.1666666667,1.0,1.0,1.0,1.0,1.0,1.0,1.0,1.0])                    |\n",
      "|(184,[0,2,3,4,5,6,7,9,10,13,14,15,16,18,19,36,46,63,70,79,82,182],[0.0011617323,1.0,0.0825688073,0.302200083,0.0141414141,1.0,1.0,2.265896E-4,5.449505E-4,0.0834526859,0.0017889088,0.003,0.25,0.1666666667,1.0,1.0,1.0,1.0,1.0,1.0,1.0,1.0])                |\n",
      "|(184,[0,3,4,5,7,8,9,10,13,14,15,16,18,20,34,47,63,72,80,81,182],[9.444422E-4,0.0733944954,0.4603569946,0.3939393939,1.0,0.125,2.187002E-4,4.500005E-4,0.4542392028,0.0017889088,0.001,0.25,0.1666666667,1.0,1.0,1.0,1.0,1.0,1.0,1.0,1.0])                    |\n",
      "|(184,[0,2,3,4,5,7,8,9,10,13,14,15,16,18,21,34,48,68,70,80,82,182],[4.696889E-4,1.0,0.0917431193,0.4354503944,0.3939393939,1.0,0.375,2.191538E-4,5.062505E-4,0.0531741069,0.0035778175,0.002,0.5,0.1666666667,1.0,1.0,1.0,1.0,1.0,1.0,1.0,1.0])               |\n",
      "|(184,[0,2,3,4,5,9,10,13,15,19,36,46,65,70,79,81,182],[5.851435E-4,1.0,0.0091743119,0.6093814861,0.3939393939,2.000701E-4,3.420003E-4,0.0347669094,0.002,1.0,1.0,1.0,1.0,1.0,1.0,1.0,1.0])                                                                    |\n",
      "|(184,[0,3,4,5,7,8,9,10,12,13,14,15,16,18,20,34,47,62,70,79,81,182],[8.075665E-4,0.0366972477,0.5255292653,0.3939393939,1.0,0.125,2.599697E-4,4.950005E-4,0.125,0.4568313396,0.0026833631,0.002,0.25,0.1666666667,1.0,1.0,1.0,1.0,1.0,1.0,1.0,1.0])           |\n",
      "|(184,[0,2,3,4,5,6,7,8,9,10,12,13,14,15,16,18,32,34,59,61,70,84,182],[0.0015398514,1.0,0.119266055,0.6683271067,0.3939393939,1.0,1.0,0.5,6.480005E-4,7.380007E-4,0.5,0.2137958163,0.0017889088,0.002,0.25,0.5,1.0,1.0,1.0,1.0,1.0,1.0,1.0])                   |\n",
      "|(184,[0,3,4,5,8,9,10,13,14,15,16,18,31,58,65,72,81,182],[6.159405E-4,0.0550458716,0.5915317559,0.0141414141,0.5,2.381402E-4,4.860005E-4,0.2488451375,0.0017889088,0.003,0.25,0.1666666667,1.0,1.0,1.0,1.0,1.0,1.0])                                          |\n",
      "|(184,[0,2,3,4,5,7,8,9,10,11,12,13,14,15,16,18,29,40,56,64,73,80,96,182],[0.0013687568,1.0,0.0550458716,0.5375674554,0.3939393939,1.0,0.875,6.966005E-4,8.100008E-4,1.0,0.625,0.5569160632,0.0035778175,0.004,0.5,0.5,1.0,1.0,1.0,1.0,1.0,1.0,1.0,1.0])       |\n",
      "|(184,[0,2,3,4,5,7,8,9,10,12,13,14,15,16,18,19,34,46,62,70,80,82,182],[5.475027E-4,1.0,0.128440367,0.497301785,0.0141414141,1.0,0.125,2.835002E-4,6.300006E-4,0.125,0.0786012547,0.0053667263,0.004,0.75,0.3333333333,1.0,1.0,1.0,1.0,1.0,1.0,1.0,1.0])       |\n",
      "|(184,[0,2,3,4,5,8,9,10,11,12,13,14,15,16,18,20,34,47,63,70,80,81,182],[0.0010265676,1.0,0.0917431193,0.4616023246,0.3939393939,0.25,2.754002E-4,5.940006E-4,1.0,0.125,0.4680672947,0.0017889088,0.003,0.25,0.3333333333,1.0,1.0,1.0,1.0,1.0,1.0,1.0,1.0])    |\n",
      "|(184,[0,3,4,5,8,9,10,11,13,14,15,16,18,20,36,47,61,70,80,81,182],[5.392902E-4,0.0458715596,0.4549605645,0.3939393939,0.125,2.196722E-4,4.881605E-4,1.0,0.4542190305,0.0017889088,0.004,0.25,0.1666666667,1.0,1.0,1.0,1.0,1.0,1.0,1.0,1.0])                   |\n",
      "|(184,[0,2,3,4,5,6,7,8,9,10,11,12,13,14,15,16,18,22,34,49,64,71,79,81,182],[0.0014371946,1.0,0.1743119266,0.5907015359,0.3939393939,1.0,1.0,0.5,7.492505E-4,8.721009E-4,1.0,0.625,0.8524398362,0.0053667263,0.005,0.75,0.5,1.0,1.0,1.0,1.0,1.0,1.0,1.0,1.0])  |\n",
      "|(184,[0,3,4,5,7,8,9,10,13,14,15,16,18,19,34,46,66,72,80,85,182],[5.269714E-4,0.0275229358,0.4591116646,0.3939393939,1.0,0.25,2.089802E-4,5.328005E-4,0.0858733585,0.0035778175,0.003,0.5,0.1666666667,1.0,1.0,1.0,1.0,1.0,1.0,1.0,1.0])                      |\n",
      "|(184,[0,2,3,4,5,6,7,9,10,11,12,13,14,15,16,18,19,35,46,61,70,79,84,182],[9.581297E-4,1.0,0.1467889908,0.3885429639,0.3939393939,1.0,1.0,2.794502E-4,5.400005E-4,1.0,0.125,0.0834425998,0.0017889088,0.002,0.25,0.1666666667,1.0,1.0,1.0,1.0,1.0,1.0,1.0,1.0])|\n",
      "|(184,[0,2,3,4,5,6,8,9,10,11,12,13,14,15,16,18,34,65,70,82,182],[0.001499473,1.0,0.0733944954,0.4474885845,0.0909090909,1.0,1.0,8.651697E-4,9.90001E-4,1.0,0.75,0.6625179029,0.0035778175,0.002,0.5,0.6666666667,1.0,1.0,1.0,1.0,1.0])                        |\n",
      "|(184,[0,2,3,4,5,7,9,10,13,15,18,19,35,46,62,70,80,82,182],[8.212541E-4,1.0,0.0366972477,0.4267330843,0.3939393939,1.0,2.430002E-4,4.680005E-4,0.0096524318,0.003,0.1666666667,1.0,1.0,1.0,1.0,1.0,1.0,1.0,1.0])                                              |\n",
      "+-------------------------------------------------------------------------------------------------------------------------------------------------------------------------------------------------------------------------------------------------------------+\n",
      "only showing top 20 rows\n",
      "\n"
     ]
    }
   ],
   "source": [
    "df.select(\"features\").show(20,False)"
   ]
  },
  {
   "cell_type": "markdown",
   "metadata": {},
   "source": [
    "# Dividimos el dataset para entrenamiento y prueba"
   ]
  },
  {
   "cell_type": "code",
   "execution_count": 25,
   "metadata": {},
   "outputs": [],
   "source": [
    "train,test = df.randomSplit([0.7,0.3])"
   ]
  },
  {
   "cell_type": "markdown",
   "metadata": {},
   "source": [
    "# Inicamos con el entrenamiento"
   ]
  },
  {
   "cell_type": "code",
   "execution_count": 26,
   "metadata": {},
   "outputs": [],
   "source": [
    "from pyspark.ml.tuning import ParamGridBuilder, CrossValidator\n",
    "from pyspark.ml.evaluation import BinaryClassificationEvaluator"
   ]
  },
  {
   "cell_type": "markdown",
   "metadata": {},
   "source": [
    "## Iniciamos con el algoritmo Random Forest Regressor"
   ]
  },
  {
   "cell_type": "code",
   "execution_count": 27,
   "metadata": {},
   "outputs": [],
   "source": [
    "from pyspark.ml.regression import RandomForestRegressor\n",
    "from pyspark.ml.evaluation import RegressionEvaluator"
   ]
  },
  {
   "cell_type": "code",
   "execution_count": null,
   "metadata": {},
   "outputs": [],
   "source": []
  },
  {
   "cell_type": "code",
   "execution_count": 28,
   "metadata": {},
   "outputs": [],
   "source": [
    "from pyspark.ml.tuning import ParamGridBuilder, CrossValidator\n",
    "\n",
    "evaluator = RegressionEvaluator()\n",
    "\n",
    "rf = RandomForestRegressor()\n",
    "paramGrid = (ParamGridBuilder()\n",
    "             .addGrid(rf.maxDepth, [2,3,5,7])\n",
    "             .addGrid(rf.maxBins, [5,10,20,25 ])\n",
    "             .addGrid(rf.numTrees, [5,6,7])\n",
    "             .build())\n",
    "cv = CrossValidator(estimator=rf, estimatorParamMaps=paramGrid, evaluator=evaluator, numFolds=5)\n",
    "cv_model = cv.fit(train)"
   ]
  },
  {
   "cell_type": "code",
   "execution_count": 29,
   "metadata": {},
   "outputs": [],
   "source": [
    "best_rf_model = cv_model.bestModel\n",
    "model_predictions = best_rf_model.transform(test)"
   ]
  },
  {
   "cell_type": "code",
   "execution_count": 30,
   "metadata": {},
   "outputs": [
    {
     "name": "stdout",
     "output_type": "stream",
     "text": [
      "The r-square value of DecisionTreeRegressor is -0.202\n",
      "The RMSE value of DecisionTreeRegressor is 0.0\n"
     ]
    }
   ],
   "source": [
    "# R2 value of the model on test data \n",
    "dt_evaluator = RegressionEvaluator(metricName='r2')\n",
    "dt_r2 = dt_evaluator.evaluate(model_predictions)\n",
    "print(f'The r-square value of DecisionTreeRegressor is {round(float(dt_r2),3)}')\n",
    "\n",
    "# RMSE value of the model on test data \n",
    "dt_evaluatorRMSE = RegressionEvaluator(metricName='rmse')\n",
    "dt_RMSE = dt_evaluatorRMSE.evaluate(model_predictions)\n",
    "print(f'The RMSE value of DecisionTreeRegressor is {round(float(dt_RMSE),3)}')"
   ]
  },
  {
   "cell_type": "markdown",
   "metadata": {},
   "source": [
    "### imprimimos el valor R2:"
   ]
  },
  {
   "cell_type": "code",
   "execution_count": null,
   "metadata": {},
   "outputs": [],
   "source": []
  },
  {
   "cell_type": "markdown",
   "metadata": {},
   "source": [
    "### imprimimos el valor de meanSquaredError"
   ]
  },
  {
   "cell_type": "code",
   "execution_count": null,
   "metadata": {},
   "outputs": [],
   "source": []
  },
  {
   "cell_type": "markdown",
   "metadata": {},
   "source": [
    "## Probamos el Algoritmo Decision Tree Regressor"
   ]
  },
  {
   "cell_type": "code",
   "execution_count": null,
   "metadata": {},
   "outputs": [],
   "source": []
  },
  {
   "cell_type": "code",
   "execution_count": null,
   "metadata": {},
   "outputs": [],
   "source": []
  },
  {
   "cell_type": "code",
   "execution_count": null,
   "metadata": {},
   "outputs": [],
   "source": []
  },
  {
   "cell_type": "code",
   "execution_count": null,
   "metadata": {},
   "outputs": [],
   "source": []
  },
  {
   "cell_type": "markdown",
   "metadata": {},
   "source": []
  },
  {
   "cell_type": "code",
   "execution_count": null,
   "metadata": {},
   "outputs": [],
   "source": []
  },
  {
   "cell_type": "code",
   "execution_count": null,
   "metadata": {},
   "outputs": [],
   "source": []
  },
  {
   "cell_type": "markdown",
   "metadata": {},
   "source": [
    "## Utilizamos el algoritmo Random Forest Regressor"
   ]
  },
  {
   "cell_type": "code",
   "execution_count": null,
   "metadata": {},
   "outputs": [],
   "source": []
  },
  {
   "cell_type": "markdown",
   "metadata": {},
   "source": []
  },
  {
   "cell_type": "code",
   "execution_count": null,
   "metadata": {},
   "outputs": [],
   "source": []
  },
  {
   "cell_type": "markdown",
   "metadata": {},
   "source": []
  },
  {
   "cell_type": "code",
   "execution_count": null,
   "metadata": {},
   "outputs": [],
   "source": []
  },
  {
   "cell_type": "code",
   "execution_count": null,
   "metadata": {},
   "outputs": [],
   "source": []
  },
  {
   "cell_type": "markdown",
   "metadata": {},
   "source": []
  },
  {
   "cell_type": "code",
   "execution_count": null,
   "metadata": {},
   "outputs": [],
   "source": []
  },
  {
   "cell_type": "code",
   "execution_count": null,
   "metadata": {},
   "outputs": [],
   "source": []
  },
  {
   "cell_type": "code",
   "execution_count": 31,
   "metadata": {},
   "outputs": [
    {
     "name": "stdout",
     "output_type": "stream",
     "text": [
      "Tiempo Transcurrido en minutos:  22.118071222305296\n"
     ]
    }
   ],
   "source": [
    "end = time.time()\n",
    "print(\"Tiempo Transcurrido en minutos: \",(end-start)/60)"
   ]
  },
  {
   "cell_type": "markdown",
   "metadata": {},
   "source": [
    "# Conclusión\n",
    "\n",
    "Las pruebas se realizaron con un dataset 30% para validación y 70% para entrenamiento con un total de 168609 registros\n",
    "\n",
    "\n",
    "Como se puede observar con el algoritmo Isotonic Regression presenta un resultado muy deficiente, \n",
    "\n",
    "En cuanto a los modelos  Gradient-Boosted Tree Regressor y Decision Tree Regressor el R_2 presenta un muy buen resultado, sin ser mayormente intervenido con hyperparametros por lo cual se descartan pensando que presentan overfitting\n",
    "\n",
    "Para el caso de los modelos con los algoritmos Random Forest Regressor y Linear Regression presentan el resultado R_2 con un resultado elevado pero no tanto como los mencionadas anteriormente.\n",
    "\n",
    "Por lo tanto se realizara en otra Jupyternote la optimización del algortimo Random Forest Regressor, que es un algoritmo mas complejo que puede permitir una mejor modelo de predicción"
   ]
  },
  {
   "cell_type": "code",
   "execution_count": null,
   "metadata": {},
   "outputs": [],
   "source": []
  }
 ],
 "metadata": {
  "kernelspec": {
   "display_name": "Python 3",
   "language": "python",
   "name": "python3"
  },
  "language_info": {
   "codemirror_mode": {
    "name": "ipython",
    "version": 3
   },
   "file_extension": ".py",
   "mimetype": "text/x-python",
   "name": "python",
   "nbconvert_exporter": "python",
   "pygments_lexer": "ipython3",
   "version": "3.6.4"
  }
 },
 "nbformat": 4,
 "nbformat_minor": 2
}
